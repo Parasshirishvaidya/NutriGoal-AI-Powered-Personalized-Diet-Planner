{
 "cells": [
  {
   "cell_type": "markdown",
   "id": "d4589e17-5bbe-45cd-94fe-40fff2897376",
   "metadata": {},
   "source": [
    "# Model Training"
   ]
  },
  {
   "cell_type": "raw",
   "id": "efa450f4-7ce6-4fd3-85f1-aa0b6559c313",
   "metadata": {},
   "source": [
    "So,the problem we are facing currently is that our dataset currently does not have a target variable (y) to train the model.\n",
    "\n",
    "What should our target variable be ?? : - \n",
    "The 'match_score' column represents how well a food item aligns with a user's fitness goal\r",
    "(e.g., weight loss, muscle gain, maintenance, etc.), based on its macro composition. \n",
    "It is a simulated continuous value between 0 and ie probability 1, where higher values indicate a better match\n",
    "This column is used as the target variable (y) for training a regression mod\n",
    "The target variable is created using the following formula derived by an LLM model Chatgptel."
   ]
  },
  {
   "cell_type": "code",
   "execution_count": 398,
   "id": "b6869f18-6b8d-45e8-a252-239ff08f9777",
   "metadata": {},
   "outputs": [],
   "source": [
    "import numpy as np \n",
    "import pandas as pd"
   ]
  },
  {
   "cell_type": "code",
   "execution_count": 399,
   "id": "13a1881e-efe1-4b29-a595-8815f5018890",
   "metadata": {},
   "outputs": [],
   "source": [
    "df  = pd.read_csv(\"dataset2_preprocessing_done.csv\")"
   ]
  },
  {
   "cell_type": "code",
   "execution_count": 400,
   "id": "e9efd119-6eac-46f3-8e42-3f57021c3e39",
   "metadata": {},
   "outputs": [
    {
     "data": {
      "text/html": [
       "<div>\n",
       "<style scoped>\n",
       "    .dataframe tbody tr th:only-of-type {\n",
       "        vertical-align: middle;\n",
       "    }\n",
       "\n",
       "    .dataframe tbody tr th {\n",
       "        vertical-align: top;\n",
       "    }\n",
       "\n",
       "    .dataframe thead th {\n",
       "        text-align: right;\n",
       "    }\n",
       "</style>\n",
       "<table border=\"1\" class=\"dataframe\">\n",
       "  <thead>\n",
       "    <tr style=\"text-align: right;\">\n",
       "      <th></th>\n",
       "      <th>Unnamed: 0</th>\n",
       "      <th>Category</th>\n",
       "      <th>Description</th>\n",
       "      <th>carbs</th>\n",
       "      <th>protein</th>\n",
       "      <th>fat</th>\n",
       "      <th>fiber</th>\n",
       "      <th>calories</th>\n",
       "      <th>goal_tag</th>\n",
       "      <th>diet_type</th>\n",
       "    </tr>\n",
       "  </thead>\n",
       "  <tbody>\n",
       "    <tr>\n",
       "      <th>0</th>\n",
       "      <td>0</td>\n",
       "      <td>milk</td>\n",
       "      <td>milk, nfs</td>\n",
       "      <td>-0.803888</td>\n",
       "      <td>-0.708719</td>\n",
       "      <td>-0.802787</td>\n",
       "      <td>-0.756657</td>\n",
       "      <td>-1.161451</td>\n",
       "      <td>4</td>\n",
       "      <td>1</td>\n",
       "    </tr>\n",
       "    <tr>\n",
       "      <th>1</th>\n",
       "      <td>1</td>\n",
       "      <td>milk</td>\n",
       "      <td>milk, whole</td>\n",
       "      <td>-0.812894</td>\n",
       "      <td>-0.715474</td>\n",
       "      <td>-0.657086</td>\n",
       "      <td>-0.756657</td>\n",
       "      <td>-1.088393</td>\n",
       "      <td>4</td>\n",
       "      <td>1</td>\n",
       "    </tr>\n",
       "    <tr>\n",
       "      <th>2</th>\n",
       "      <td>2</td>\n",
       "      <td>milk</td>\n",
       "      <td>milk, low sodium, whole</td>\n",
       "      <td>-0.822350</td>\n",
       "      <td>-0.735738</td>\n",
       "      <td>-0.625779</td>\n",
       "      <td>-0.756657</td>\n",
       "      <td>-1.082608</td>\n",
       "      <td>4</td>\n",
       "      <td>1</td>\n",
       "    </tr>\n",
       "    <tr>\n",
       "      <th>3</th>\n",
       "      <td>3</td>\n",
       "      <td>milk</td>\n",
       "      <td>milk, calcium fortified, whole</td>\n",
       "      <td>-0.812894</td>\n",
       "      <td>-0.715474</td>\n",
       "      <td>-0.657086</td>\n",
       "      <td>-0.756657</td>\n",
       "      <td>-1.088393</td>\n",
       "      <td>4</td>\n",
       "      <td>1</td>\n",
       "    </tr>\n",
       "    <tr>\n",
       "      <th>4</th>\n",
       "      <td>4</td>\n",
       "      <td>milk</td>\n",
       "      <td>milk, calcium fortified, low fat (1%)</td>\n",
       "      <td>-0.789478</td>\n",
       "      <td>-0.704216</td>\n",
       "      <td>-0.928017</td>\n",
       "      <td>-0.756657</td>\n",
       "      <td>-1.220195</td>\n",
       "      <td>4</td>\n",
       "      <td>1</td>\n",
       "    </tr>\n",
       "  </tbody>\n",
       "</table>\n",
       "</div>"
      ],
      "text/plain": [
       "   Unnamed: 0 Category                            Description     carbs  \\\n",
       "0           0     milk                              milk, nfs -0.803888   \n",
       "1           1     milk                            milk, whole -0.812894   \n",
       "2           2     milk                milk, low sodium, whole -0.822350   \n",
       "3           3     milk         milk, calcium fortified, whole -0.812894   \n",
       "4           4     milk  milk, calcium fortified, low fat (1%) -0.789478   \n",
       "\n",
       "    protein       fat     fiber  calories  goal_tag  diet_type  \n",
       "0 -0.708719 -0.802787 -0.756657 -1.161451         4          1  \n",
       "1 -0.715474 -0.657086 -0.756657 -1.088393         4          1  \n",
       "2 -0.735738 -0.625779 -0.756657 -1.082608         4          1  \n",
       "3 -0.715474 -0.657086 -0.756657 -1.088393         4          1  \n",
       "4 -0.704216 -0.928017 -0.756657 -1.220195         4          1  "
      ]
     },
     "execution_count": 400,
     "metadata": {},
     "output_type": "execute_result"
    }
   ],
   "source": [
    "df.head()"
   ]
  },
  {
   "cell_type": "code",
   "execution_count": 401,
   "id": "fe4d5ba5-6379-468a-a561-1956bf828728",
   "metadata": {},
   "outputs": [],
   "source": [
    "df.drop(df.columns[0],inplace=True,axis=1)"
   ]
  },
  {
   "cell_type": "code",
   "execution_count": 402,
   "id": "6d1b8274-5131-4c6b-be83-9d9098da702e",
   "metadata": {},
   "outputs": [
    {
     "data": {
      "text/html": [
       "<div>\n",
       "<style scoped>\n",
       "    .dataframe tbody tr th:only-of-type {\n",
       "        vertical-align: middle;\n",
       "    }\n",
       "\n",
       "    .dataframe tbody tr th {\n",
       "        vertical-align: top;\n",
       "    }\n",
       "\n",
       "    .dataframe thead th {\n",
       "        text-align: right;\n",
       "    }\n",
       "</style>\n",
       "<table border=\"1\" class=\"dataframe\">\n",
       "  <thead>\n",
       "    <tr style=\"text-align: right;\">\n",
       "      <th></th>\n",
       "      <th>Category</th>\n",
       "      <th>Description</th>\n",
       "      <th>carbs</th>\n",
       "      <th>protein</th>\n",
       "      <th>fat</th>\n",
       "      <th>fiber</th>\n",
       "      <th>calories</th>\n",
       "      <th>goal_tag</th>\n",
       "      <th>diet_type</th>\n",
       "    </tr>\n",
       "  </thead>\n",
       "  <tbody>\n",
       "    <tr>\n",
       "      <th>0</th>\n",
       "      <td>milk</td>\n",
       "      <td>milk, nfs</td>\n",
       "      <td>-0.803888</td>\n",
       "      <td>-0.708719</td>\n",
       "      <td>-0.802787</td>\n",
       "      <td>-0.756657</td>\n",
       "      <td>-1.161451</td>\n",
       "      <td>4</td>\n",
       "      <td>1</td>\n",
       "    </tr>\n",
       "    <tr>\n",
       "      <th>1</th>\n",
       "      <td>milk</td>\n",
       "      <td>milk, whole</td>\n",
       "      <td>-0.812894</td>\n",
       "      <td>-0.715474</td>\n",
       "      <td>-0.657086</td>\n",
       "      <td>-0.756657</td>\n",
       "      <td>-1.088393</td>\n",
       "      <td>4</td>\n",
       "      <td>1</td>\n",
       "    </tr>\n",
       "    <tr>\n",
       "      <th>2</th>\n",
       "      <td>milk</td>\n",
       "      <td>milk, low sodium, whole</td>\n",
       "      <td>-0.822350</td>\n",
       "      <td>-0.735738</td>\n",
       "      <td>-0.625779</td>\n",
       "      <td>-0.756657</td>\n",
       "      <td>-1.082608</td>\n",
       "      <td>4</td>\n",
       "      <td>1</td>\n",
       "    </tr>\n",
       "    <tr>\n",
       "      <th>3</th>\n",
       "      <td>milk</td>\n",
       "      <td>milk, calcium fortified, whole</td>\n",
       "      <td>-0.812894</td>\n",
       "      <td>-0.715474</td>\n",
       "      <td>-0.657086</td>\n",
       "      <td>-0.756657</td>\n",
       "      <td>-1.088393</td>\n",
       "      <td>4</td>\n",
       "      <td>1</td>\n",
       "    </tr>\n",
       "    <tr>\n",
       "      <th>4</th>\n",
       "      <td>milk</td>\n",
       "      <td>milk, calcium fortified, low fat (1%)</td>\n",
       "      <td>-0.789478</td>\n",
       "      <td>-0.704216</td>\n",
       "      <td>-0.928017</td>\n",
       "      <td>-0.756657</td>\n",
       "      <td>-1.220195</td>\n",
       "      <td>4</td>\n",
       "      <td>1</td>\n",
       "    </tr>\n",
       "  </tbody>\n",
       "</table>\n",
       "</div>"
      ],
      "text/plain": [
       "  Category                            Description     carbs   protein  \\\n",
       "0     milk                              milk, nfs -0.803888 -0.708719   \n",
       "1     milk                            milk, whole -0.812894 -0.715474   \n",
       "2     milk                milk, low sodium, whole -0.822350 -0.735738   \n",
       "3     milk         milk, calcium fortified, whole -0.812894 -0.715474   \n",
       "4     milk  milk, calcium fortified, low fat (1%) -0.789478 -0.704216   \n",
       "\n",
       "        fat     fiber  calories  goal_tag  diet_type  \n",
       "0 -0.802787 -0.756657 -1.161451         4          1  \n",
       "1 -0.657086 -0.756657 -1.088393         4          1  \n",
       "2 -0.625779 -0.756657 -1.082608         4          1  \n",
       "3 -0.657086 -0.756657 -1.088393         4          1  \n",
       "4 -0.928017 -0.756657 -1.220195         4          1  "
      ]
     },
     "execution_count": 402,
     "metadata": {},
     "output_type": "execute_result"
    }
   ],
   "source": [
    "df.head()"
   ]
  },
  {
   "cell_type": "raw",
   "id": "a57bec50-2dd9-4ee8-a054-7836e21a7c80",
   "metadata": {},
   "source": [
    "# About the 'match_score' simulation:\n",
    "#\n",
    "# This formula is a **heuristically engineered scoring system** inspired by real-world sports nutrition and dietetic principles.\n",
    "# It estimates how well a food item aligns with a specific health goal based on its macro-nutrient profile.\n",
    "#\n",
    "# The formula design draws from:\n",
    "# 🔹 The **Dietary Guidelines for Americans (DGA)** by the USDA\n",
    "# 🔹 **ISSA** (International Sports Sciences Association) guidance for sports nutrition\n",
    "# 🔹 Clinical macro ranges suggested by **Registered Dietitians (RDs)** for different goals:\n",
    "#\n",
    "# For example:\n",
    "# - **Muscle gain** diets emphasize higher protein and carbohydrate intake, along with a calorie surplus.\n",
    "# - **Weight loss** diets typically aim for reduced calorie and fat intake while maintaining protein to preserve muscle mass.\n",
    "# - **Maintenance** diets aim for balance across macros.\n",
    "# - **High-protein diets** (like for lean muscle retention) prioritize protein while minimizing fats and excessive calories.\n",
    "#\n",
    "# The scoring formula assigns positive weights to beneficial macros (e.g., protein for muscle gain), and negative weights to less favorable ones (e.g., fat or excess calories for weight loss).\n",
    "# It is then normalized to a 0–1 scale using min-max clipping to be suitable as a target for regression models.\n",
    "#\n",
    "# ⚠️ Note:\n",
    "# This is not a medically validated score — it is a domain-inspired proxy used for training and demonstration in the absence of personalized feedback data.\n"
   ]
  },
  {
   "cell_type": "code",
   "execution_count": 403,
   "id": "332f88e4-c377-4f15-87bb-d692474eca37",
   "metadata": {},
   "outputs": [],
   "source": [
    "def simulate_match_score(row):\n",
    "    prot = row[\"protein\"]\n",
    "    fat = row[\"fat\"]\n",
    "    carbs = row[\"carbs\"]\n",
    "    cal = row[\"calories\"]\n",
    "    fiber = row[\"fiber\"]\n",
    "    goal = row[\"goal_tag\"]\n",
    "\n",
    "    if goal == 0:  # gain\n",
    "        score = 0.3 * prot + 0.3 * carbs + 0.3 * cal - 0.1 * fat\n",
    "    elif goal == 1:  # general\n",
    "        score = 0.25 * prot + 0.25 * carbs + 0.25 * cal - 0.25 * fat\n",
    "    elif goal == 2:  # lean_protein\n",
    "        score = 0.5 * prot - 0.2 * fat + 0.1 * fiber\n",
    "    elif goal == 3:  # maintenance\n",
    "        score = 0.3 * prot + 0.3 * carbs + 0.2 * fat + 0.2 * cal\n",
    "    elif goal == 4:  # weight_loss\n",
    "        score = 0.4 * prot - 0.3 * fat - 0.2 * cal + 0.1 * fiber\n",
    "    else:\n",
    "        score = 0.0\n",
    "\n",
    "    return np.clip((score + 1) / 2, 0, 1)  # Normalize between 0 and 1"
   ]
  },
  {
   "cell_type": "code",
   "execution_count": 404,
   "id": "32ab38c5-bcbf-4096-a212-8576b00baebb",
   "metadata": {},
   "outputs": [],
   "source": [
    "df[\"match_score\"] = df.apply(simulate_match_score, axis=1)"
   ]
  },
  {
   "cell_type": "code",
   "execution_count": 405,
   "id": "aaa2bf7a-f783-4b5b-ae6b-5c9ab048c2a9",
   "metadata": {},
   "outputs": [
    {
     "data": {
      "text/html": [
       "<div>\n",
       "<style scoped>\n",
       "    .dataframe tbody tr th:only-of-type {\n",
       "        vertical-align: middle;\n",
       "    }\n",
       "\n",
       "    .dataframe tbody tr th {\n",
       "        vertical-align: top;\n",
       "    }\n",
       "\n",
       "    .dataframe thead th {\n",
       "        text-align: right;\n",
       "    }\n",
       "</style>\n",
       "<table border=\"1\" class=\"dataframe\">\n",
       "  <thead>\n",
       "    <tr style=\"text-align: right;\">\n",
       "      <th></th>\n",
       "      <th>Category</th>\n",
       "      <th>Description</th>\n",
       "      <th>carbs</th>\n",
       "      <th>protein</th>\n",
       "      <th>fat</th>\n",
       "      <th>fiber</th>\n",
       "      <th>calories</th>\n",
       "      <th>goal_tag</th>\n",
       "      <th>diet_type</th>\n",
       "      <th>match_score</th>\n",
       "    </tr>\n",
       "  </thead>\n",
       "  <tbody>\n",
       "    <tr>\n",
       "      <th>0</th>\n",
       "      <td>milk</td>\n",
       "      <td>milk, nfs</td>\n",
       "      <td>-0.803888</td>\n",
       "      <td>-0.708719</td>\n",
       "      <td>-0.802787</td>\n",
       "      <td>-0.756657</td>\n",
       "      <td>-1.161451</td>\n",
       "      <td>4</td>\n",
       "      <td>1</td>\n",
       "      <td>0.556986</td>\n",
       "    </tr>\n",
       "    <tr>\n",
       "      <th>1</th>\n",
       "      <td>milk</td>\n",
       "      <td>milk, whole</td>\n",
       "      <td>-0.812894</td>\n",
       "      <td>-0.715474</td>\n",
       "      <td>-0.657086</td>\n",
       "      <td>-0.756657</td>\n",
       "      <td>-1.088393</td>\n",
       "      <td>4</td>\n",
       "      <td>1</td>\n",
       "      <td>0.526475</td>\n",
       "    </tr>\n",
       "    <tr>\n",
       "      <th>2</th>\n",
       "      <td>milk</td>\n",
       "      <td>milk, low sodium, whole</td>\n",
       "      <td>-0.822350</td>\n",
       "      <td>-0.735738</td>\n",
       "      <td>-0.625779</td>\n",
       "      <td>-0.756657</td>\n",
       "      <td>-1.082608</td>\n",
       "      <td>4</td>\n",
       "      <td>1</td>\n",
       "      <td>0.517147</td>\n",
       "    </tr>\n",
       "    <tr>\n",
       "      <th>3</th>\n",
       "      <td>milk</td>\n",
       "      <td>milk, calcium fortified, whole</td>\n",
       "      <td>-0.812894</td>\n",
       "      <td>-0.715474</td>\n",
       "      <td>-0.657086</td>\n",
       "      <td>-0.756657</td>\n",
       "      <td>-1.088393</td>\n",
       "      <td>4</td>\n",
       "      <td>1</td>\n",
       "      <td>0.526475</td>\n",
       "    </tr>\n",
       "    <tr>\n",
       "      <th>4</th>\n",
       "      <td>milk</td>\n",
       "      <td>milk, calcium fortified, low fat (1%)</td>\n",
       "      <td>-0.789478</td>\n",
       "      <td>-0.704216</td>\n",
       "      <td>-0.928017</td>\n",
       "      <td>-0.756657</td>\n",
       "      <td>-1.220195</td>\n",
       "      <td>4</td>\n",
       "      <td>1</td>\n",
       "      <td>0.582546</td>\n",
       "    </tr>\n",
       "  </tbody>\n",
       "</table>\n",
       "</div>"
      ],
      "text/plain": [
       "  Category                            Description     carbs   protein  \\\n",
       "0     milk                              milk, nfs -0.803888 -0.708719   \n",
       "1     milk                            milk, whole -0.812894 -0.715474   \n",
       "2     milk                milk, low sodium, whole -0.822350 -0.735738   \n",
       "3     milk         milk, calcium fortified, whole -0.812894 -0.715474   \n",
       "4     milk  milk, calcium fortified, low fat (1%) -0.789478 -0.704216   \n",
       "\n",
       "        fat     fiber  calories  goal_tag  diet_type  match_score  \n",
       "0 -0.802787 -0.756657 -1.161451         4          1     0.556986  \n",
       "1 -0.657086 -0.756657 -1.088393         4          1     0.526475  \n",
       "2 -0.625779 -0.756657 -1.082608         4          1     0.517147  \n",
       "3 -0.657086 -0.756657 -1.088393         4          1     0.526475  \n",
       "4 -0.928017 -0.756657 -1.220195         4          1     0.582546  "
      ]
     },
     "execution_count": 405,
     "metadata": {},
     "output_type": "execute_result"
    }
   ],
   "source": [
    "df.head()"
   ]
  },
  {
   "cell_type": "code",
   "execution_count": 406,
   "id": "89157b05-f3d4-4f21-810b-89ced1b327de",
   "metadata": {},
   "outputs": [],
   "source": [
    "df.to_csv(\"dataset3_Finalized_Dataset.csv\")"
   ]
  },
  {
   "cell_type": "markdown",
   "id": "ead333ac-4ddc-4488-8397-35797454b4ed",
   "metadata": {},
   "source": [
    "### Train Test Split"
   ]
  },
  {
   "cell_type": "code",
   "execution_count": 408,
   "id": "d7484838-a401-4212-9341-d334fa7b713f",
   "metadata": {},
   "outputs": [],
   "source": [
    "from sklearn.model_selection import train_test_split"
   ]
  },
  {
   "cell_type": "code",
   "execution_count": 409,
   "id": "b5655b2b-326d-4c7c-b6e1-58ee20b9f6a3",
   "metadata": {},
   "outputs": [],
   "source": [
    "X = df[[\"carbs\",\"protein\",\"fat\",\"fiber\",\"calories\",\"goal_tag\",\"diet_type\"]]\n",
    "y = df[\"match_score\"]"
   ]
  },
  {
   "cell_type": "code",
   "execution_count": 410,
   "id": "8a3da18d-8677-45f3-a162-2851cc1a69f5",
   "metadata": {},
   "outputs": [],
   "source": [
    "X_train,X_test,y_train,y_test = train_test_split(X,y,test_size=0.2,random_state=42)"
   ]
  },
  {
   "cell_type": "markdown",
   "id": "68175a4b-7428-4327-9b8e-0ff2c1e82565",
   "metadata": {},
   "source": [
    "### Model Training"
   ]
  },
  {
   "cell_type": "code",
   "execution_count": 412,
   "id": "9d183744-ab67-4198-a015-101d878d6553",
   "metadata": {},
   "outputs": [],
   "source": [
    "# importing models\n",
    "from sklearn.metrics import mean_squared_error,r2_score,mean_absolute_error\n",
    "from sklearn.neighbors import KNeighborsRegressor\n",
    "from sklearn.tree import DecisionTreeRegressor\n",
    "from sklearn.ensemble import RandomForestRegressor,AdaBoostRegressor\n",
    "from sklearn.svm import SVR\n",
    "from sklearn.linear_model import LinearRegression,Ridge,Lasso\n",
    "from catboost import CatBoostRegressor\n",
    "from xgboost import XGBRegressor\n",
    "import mlflow"
   ]
  },
  {
   "cell_type": "code",
   "execution_count": 413,
   "id": "31acf6e5-2665-47a1-bc07-f82f624d87bf",
   "metadata": {},
   "outputs": [],
   "source": [
    "model_list = []\n",
    "r2_list = []"
   ]
  },
  {
   "cell_type": "code",
   "execution_count": 414,
   "id": "d6be1323-66f9-4740-9242-a169a811dfcb",
   "metadata": {},
   "outputs": [],
   "source": [
    "models = {\n",
    "    'Linear Regression' : LinearRegression(),\n",
    "    'Lasso' : Lasso(),\n",
    "    'Ridge' : Ridge(),\n",
    "    'K-Neighbors Regressor' : KNeighborsRegressor(),\n",
    "    'Decision Tree' : DecisionTreeRegressor(),\n",
    "    'Random Forest Regressor' : RandomForestRegressor(),\n",
    "    'XGBRegressor' : XGBRegressor(),\n",
    "    'CatBoosting Regressor' : CatBoostRegressor(verbose=False),\n",
    "    'AdaBoost Regressor' : AdaBoostRegressor()\n",
    "}"
   ]
  },
  {
   "cell_type": "code",
   "execution_count": 415,
   "id": "15ffe8c9-2ee3-4058-b58e-7bfed3eba42d",
   "metadata": {},
   "outputs": [],
   "source": [
    "def evaluate_model(true,predicted):\n",
    "    mae = mean_absolute_error(true,predicted)\n",
    "    mse = mean_squared_error(true,predicted)\n",
    "    rmse = np.sqrt(mean_squared_error(true,predicted))\n",
    "    r2 = r2_score(true,predicted)\n",
    "    return mae , rmse , r2"
   ]
  },
  {
   "cell_type": "markdown",
   "id": "e798407c-1ff2-4e60-ab2d-f1b295c30670",
   "metadata": {},
   "source": [
    "### Tracking Models using mlflow"
   ]
  },
  {
   "cell_type": "code",
   "execution_count": null,
   "id": "66ea52c9-7bed-495c-8148-b7e33b109a04",
   "metadata": {},
   "outputs": [],
   "source": []
  },
  {
   "cell_type": "code",
   "execution_count": 417,
   "id": "e6039bd8-1383-4063-a07d-faf6f0646ab2",
   "metadata": {},
   "outputs": [
    {
     "name": "stderr",
     "output_type": "stream",
     "text": [
      "2025/07/11 18:24:21 WARNING mlflow.models.model: `artifact_path` is deprecated. Please use `name` instead.\n",
      "2025/07/11 18:24:25 WARNING mlflow.models.model: Model logged without a signature and input example. Please set `input_example` parameter when logging the model to auto infer the model signature.\n",
      "2025/07/11 18:24:25 WARNING mlflow.models.model: `artifact_path` is deprecated. Please use `name` instead.\n"
     ]
    },
    {
     "name": "stdout",
     "output_type": "stream",
     "text": [
      "Model Performance on training set for Linear Regression\n",
      "- Root MeanSquared Error: 0.0914\n",
      "- Mean Absolute Error: 0.0707\n",
      "- R2 Score: 0.7126\n",
      "\n",
      "\n",
      "Model Performance on test set for Linear Regression\n",
      "- Root MeanSquared Error: 0.1010\n",
      "- Mean Absolute Error: 0.0766\n",
      "- R2 Score: 0.6484\n",
      "----------------------------------------------------------------\n",
      "🏃 View run serious-lamb-702 at: http://127.0.0.1:5000/#/experiments/105883887422754184/runs/a29db1803a3e4407a79208f2672832db\n",
      "🧪 View experiment at: http://127.0.0.1:5000/#/experiments/105883887422754184\n"
     ]
    },
    {
     "name": "stderr",
     "output_type": "stream",
     "text": [
      "2025/07/11 18:24:28 WARNING mlflow.models.model: Model logged without a signature and input example. Please set `input_example` parameter when logging the model to auto infer the model signature.\n",
      "2025/07/11 18:24:29 WARNING mlflow.models.model: `artifact_path` is deprecated. Please use `name` instead.\n"
     ]
    },
    {
     "name": "stdout",
     "output_type": "stream",
     "text": [
      "Model Performance on training set for Lasso\n",
      "- Root MeanSquared Error: 0.1705\n",
      "- Mean Absolute Error: 0.1326\n",
      "- R2 Score: 0.0000\n",
      "\n",
      "\n",
      "Model Performance on test set for Lasso\n",
      "- Root MeanSquared Error: 0.1704\n",
      "- Mean Absolute Error: 0.1329\n",
      "- R2 Score: -0.0000\n",
      "----------------------------------------------------------------\n",
      "🏃 View run brawny-moose-607 at: http://127.0.0.1:5000/#/experiments/105883887422754184/runs/41c77f15f3814e2c958deb90835c086d\n",
      "🧪 View experiment at: http://127.0.0.1:5000/#/experiments/105883887422754184\n"
     ]
    },
    {
     "name": "stderr",
     "output_type": "stream",
     "text": [
      "2025/07/11 18:24:32 WARNING mlflow.models.model: Model logged without a signature and input example. Please set `input_example` parameter when logging the model to auto infer the model signature.\n",
      "2025/07/11 18:24:32 WARNING mlflow.models.model: `artifact_path` is deprecated. Please use `name` instead.\n"
     ]
    },
    {
     "name": "stdout",
     "output_type": "stream",
     "text": [
      "Model Performance on training set for Ridge\n",
      "- Root MeanSquared Error: 0.0914\n",
      "- Mean Absolute Error: 0.0707\n",
      "- R2 Score: 0.7126\n",
      "\n",
      "\n",
      "Model Performance on test set for Ridge\n",
      "- Root MeanSquared Error: 0.1010\n",
      "- Mean Absolute Error: 0.0766\n",
      "- R2 Score: 0.6485\n",
      "----------------------------------------------------------------\n",
      "🏃 View run trusting-bear-311 at: http://127.0.0.1:5000/#/experiments/105883887422754184/runs/4d0c9e0ed61049afa7e619105ac2dc53\n",
      "🧪 View experiment at: http://127.0.0.1:5000/#/experiments/105883887422754184\n"
     ]
    },
    {
     "name": "stderr",
     "output_type": "stream",
     "text": [
      "2025/07/11 18:24:35 WARNING mlflow.models.model: Model logged without a signature and input example. Please set `input_example` parameter when logging the model to auto infer the model signature.\n",
      "2025/07/11 18:24:35 WARNING mlflow.models.model: `artifact_path` is deprecated. Please use `name` instead.\n"
     ]
    },
    {
     "name": "stdout",
     "output_type": "stream",
     "text": [
      "Model Performance on training set for K-Neighbors Regressor\n",
      "- Root MeanSquared Error: 0.0221\n",
      "- Mean Absolute Error: 0.0117\n",
      "- R2 Score: 0.9833\n",
      "\n",
      "\n",
      "Model Performance on test set for K-Neighbors Regressor\n",
      "- Root MeanSquared Error: 0.0310\n",
      "- Mean Absolute Error: 0.0162\n",
      "- R2 Score: 0.9668\n",
      "----------------------------------------------------------------\n",
      "🏃 View run brawny-midge-339 at: http://127.0.0.1:5000/#/experiments/105883887422754184/runs/2c25ec59c43b479587a5ca16b7d0debe\n",
      "🧪 View experiment at: http://127.0.0.1:5000/#/experiments/105883887422754184\n"
     ]
    },
    {
     "name": "stderr",
     "output_type": "stream",
     "text": [
      "2025/07/11 18:24:38 WARNING mlflow.models.model: Model logged without a signature and input example. Please set `input_example` parameter when logging the model to auto infer the model signature.\n"
     ]
    },
    {
     "name": "stdout",
     "output_type": "stream",
     "text": [
      "Model Performance on training set for Decision Tree\n",
      "- Root MeanSquared Error: 0.0000\n",
      "- Mean Absolute Error: 0.0000\n",
      "- R2 Score: 1.0000\n",
      "\n",
      "\n",
      "Model Performance on test set for Decision Tree\n",
      "- Root MeanSquared Error: 0.0266\n",
      "- Mean Absolute Error: 0.0126\n",
      "- R2 Score: 0.9756\n",
      "----------------------------------------------------------------\n",
      "🏃 View run bittersweet-crow-307 at: http://127.0.0.1:5000/#/experiments/105883887422754184/runs/511817a4a71e4d4cad2179bd69d766b8\n",
      "🧪 View experiment at: http://127.0.0.1:5000/#/experiments/105883887422754184\n"
     ]
    },
    {
     "name": "stderr",
     "output_type": "stream",
     "text": [
      "2025/07/11 18:24:39 WARNING mlflow.models.model: `artifact_path` is deprecated. Please use `name` instead.\n",
      "2025/07/11 18:24:43 WARNING mlflow.models.model: Model logged without a signature and input example. Please set `input_example` parameter when logging the model to auto infer the model signature.\n"
     ]
    },
    {
     "name": "stdout",
     "output_type": "stream",
     "text": [
      "Model Performance on training set for Random Forest Regressor\n",
      "- Root MeanSquared Error: 0.0071\n",
      "- Mean Absolute Error: 0.0035\n",
      "- R2 Score: 0.9983\n",
      "\n",
      "\n",
      "Model Performance on test set for Random Forest Regressor\n",
      "- Root MeanSquared Error: 0.0221\n",
      "- Mean Absolute Error: 0.0102\n",
      "- R2 Score: 0.9831\n",
      "----------------------------------------------------------------\n",
      "🏃 View run monumental-lamb-507 at: http://127.0.0.1:5000/#/experiments/105883887422754184/runs/f7e5cfdc42974c789ff596f917494bc1\n",
      "🧪 View experiment at: http://127.0.0.1:5000/#/experiments/105883887422754184\n"
     ]
    },
    {
     "name": "stderr",
     "output_type": "stream",
     "text": [
      "2025/07/11 18:24:43 WARNING mlflow.models.model: `artifact_path` is deprecated. Please use `name` instead.\n",
      "C:\\Data Science Learning\\Projects\\NutriGoal-AI-Powered-Personalized-Diet-Planner\\dietenv\\lib\\site-packages\\xgboost\\sklearn.py:1028: UserWarning: [18:24:43] WARNING: C:\\actions-runner\\_work\\xgboost\\xgboost\\src\\c_api\\c_api.cc:1427: Saving model in the UBJSON format as default.  You can use file extension: `json`, `ubj` or `deprecated` to choose between formats.\n",
      "  self.get_booster().save_model(fname)\n",
      "2025/07/11 18:24:47 WARNING mlflow.models.model: Model logged without a signature and input example. Please set `input_example` parameter when logging the model to auto infer the model signature.\n"
     ]
    },
    {
     "name": "stdout",
     "output_type": "stream",
     "text": [
      "Model Performance on training set for XGBRegressor\n",
      "- Root MeanSquared Error: 0.0026\n",
      "- Mean Absolute Error: 0.0018\n",
      "- R2 Score: 0.9998\n",
      "\n",
      "\n",
      "Model Performance on test set for XGBRegressor\n",
      "- Root MeanSquared Error: 0.0211\n",
      "- Mean Absolute Error: 0.0096\n",
      "- R2 Score: 0.9847\n",
      "----------------------------------------------------------------\n",
      "🏃 View run clumsy-fish-417 at: http://127.0.0.1:5000/#/experiments/105883887422754184/runs/a40c4e9550f348ec88ed8d9a696568e4\n",
      "🧪 View experiment at: http://127.0.0.1:5000/#/experiments/105883887422754184\n"
     ]
    },
    {
     "name": "stderr",
     "output_type": "stream",
     "text": [
      "2025/07/11 18:24:49 WARNING mlflow.models.model: `artifact_path` is deprecated. Please use `name` instead.\n",
      "2025/07/11 18:24:53 WARNING mlflow.models.model: Model logged without a signature and input example. Please set `input_example` parameter when logging the model to auto infer the model signature.\n"
     ]
    },
    {
     "name": "stdout",
     "output_type": "stream",
     "text": [
      "Model Performance on training set for CatBoosting Regressor\n",
      "- Root MeanSquared Error: 0.0043\n",
      "- Mean Absolute Error: 0.0031\n",
      "- R2 Score: 0.9994\n",
      "\n",
      "\n",
      "Model Performance on test set for CatBoosting Regressor\n",
      "- Root MeanSquared Error: 0.0139\n",
      "- Mean Absolute Error: 0.0058\n",
      "- R2 Score: 0.9934\n",
      "----------------------------------------------------------------\n",
      "🏃 View run angry-fox-668 at: http://127.0.0.1:5000/#/experiments/105883887422754184/runs/e4092ba2572a4cd1a6451a357022b4d2\n",
      "🧪 View experiment at: http://127.0.0.1:5000/#/experiments/105883887422754184\n"
     ]
    },
    {
     "name": "stderr",
     "output_type": "stream",
     "text": [
      "2025/07/11 18:24:53 WARNING mlflow.models.model: `artifact_path` is deprecated. Please use `name` instead.\n",
      "2025/07/11 18:24:56 WARNING mlflow.models.model: Model logged without a signature and input example. Please set `input_example` parameter when logging the model to auto infer the model signature.\n"
     ]
    },
    {
     "name": "stdout",
     "output_type": "stream",
     "text": [
      "Model Performance on training set for AdaBoost Regressor\n",
      "- Root MeanSquared Error: 0.0672\n",
      "- Mean Absolute Error: 0.0551\n",
      "- R2 Score: 0.8446\n",
      "\n",
      "\n",
      "Model Performance on test set for AdaBoost Regressor\n",
      "- Root MeanSquared Error: 0.0733\n",
      "- Mean Absolute Error: 0.0594\n",
      "- R2 Score: 0.8149\n",
      "----------------------------------------------------------------\n",
      "🏃 View run enchanting-carp-19 at: http://127.0.0.1:5000/#/experiments/105883887422754184/runs/94bdb0cf8a234e5fa8839384af83c94f\n",
      "🧪 View experiment at: http://127.0.0.1:5000/#/experiments/105883887422754184\n"
     ]
    }
   ],
   "source": [
    "mlflow.set_experiment(\"Diet_MatchScore_Regression_Models1.0\")\n",
    "mlflow.set_tracking_uri(\"http://127.0.0.1:5000/\")\n",
    "for model_name, model in models.items():\n",
    "    with mlflow.start_run():\n",
    "        # Train model\n",
    "        model.fit(X_train, y_train)\n",
    "\n",
    "        # Predict\n",
    "        y_train_pred = model.predict(X_train)\n",
    "        y_test_pred = model.predict(X_test)\n",
    "\n",
    "        # Evaluate\n",
    "        model_train_mae, model_train_rmse, model_train_r2 = evaluate_model(y_train, y_train_pred)\n",
    "        model_test_mae, model_test_rmse, model_test_r2 = evaluate_model(y_test, y_test_pred)\n",
    "\n",
    "        # Log metrics\n",
    "        mlflow.log_metrics({\n",
    "            \"train_mae\": model_train_mae,\n",
    "            \"train_rmse\": model_train_rmse,\n",
    "            \"train_r2\": model_train_r2,\n",
    "            \"test_mae\": model_test_mae,\n",
    "            \"test_rmse\": model_test_rmse,\n",
    "            \"test_r2\": model_test_r2\n",
    "        })\n",
    "\n",
    "        # Log model\n",
    "        if model_name == \"XGBRegressor\":\n",
    "            mlflow.xgboost.log_model(model,model_name)\n",
    "        elif model_name == \"CatBoosting Regressor\":\n",
    "            mlflow.catboost.log_model(model, model_name)\n",
    "        else:\n",
    "            mlflow.sklearn.log_model(model, model_name)\n",
    "\n",
    "        # Print results to console\n",
    "        print(f\"Model Performance on training set for {model_name}\")\n",
    "        print('- Root MeanSquared Error: {:.4f}'.format(model_train_rmse))\n",
    "        print('- Mean Absolute Error: {:.4f}'.format(model_train_mae))\n",
    "        print('- R2 Score: {:.4f}'.format(model_train_r2))\n",
    "        print(\"\\n\")\n",
    "        print(f\"Model Performance on test set for {model_name}\")\n",
    "        print('- Root MeanSquared Error: {:.4f}'.format(model_test_rmse))\n",
    "        print('- Mean Absolute Error: {:.4f}'.format(model_test_mae))\n",
    "        print('- R2 Score: {:.4f}'.format(model_test_r2))\n",
    "        print(\"----------------------------------------------------------------\")"
   ]
  },
  {
   "cell_type": "code",
   "execution_count": 418,
   "id": "6793156d-2df2-46e3-b87d-db411282f598",
   "metadata": {},
   "outputs": [],
   "source": [
    "# --------------------------------------------------------------\n",
    "# 🎯 Adding Controlled Noise to Simulated Match Scores\n",
    "# --------------------------------------------------------------\n",
    "# Why are we adding noise?\n",
    "# The 'match_score' column was calculated directly using a formula\n",
    "# based on nutritional values (protein, carbs, fat, calories, etc.).\n",
    "# Because of this, machine learning models are able to nearly\n",
    "# perfectly predict the score, which doesn't reflect real-world\n",
    "# uncertainty or variability in user preferences.\n",
    "\n",
    "# To improve the model's ability to generalize and mimic real-life\n",
    "# behavior, we inject a small amount of Gaussian noise to the\n",
    "# match_score, simulating human subjectivity and imperfect matching.\n",
    "# This makes the learning task more realistic and avoids overfitting.\n",
    "\n",
    "# Note: The original 'match_score' column remains untouched.\n",
    "# We create a new column 'match_score_noisy' and train the model on that.\n",
    "# --------------------------------------------------------------"
   ]
  },
  {
   "cell_type": "code",
   "execution_count": 419,
   "id": "359e9cdd-5778-4a38-b65b-85478b258763",
   "metadata": {},
   "outputs": [],
   "source": [
    "df[\"match_score_noisy\"] = df[\"match_score\"]+np.random.normal(0,0.02,size=len(df))\n",
    "df[\"match_score_noisy\"] = df[\"match_score_noisy\"].clip(0,1)"
   ]
  },
  {
   "cell_type": "code",
   "execution_count": 420,
   "id": "972b3081-6b31-4813-a000-81c84b015378",
   "metadata": {},
   "outputs": [],
   "source": [
    "# ------------------------------------------------------------------------------\n",
    "# 🎯 Simulating Human Inconsistency with Controlled Noise in `match_score`\n",
    "# ------------------------------------------------------------------------------\n",
    "# In real-world diet planning, humans don't always make food choices\n",
    "# strictly based on macros (calories, protein, carbs, fat). Other subtle\n",
    "# factors like taste, mood, culture, availability, and habits influence decisions.\n",
    "#\n",
    "# Our original `match_score` was calculated using a deterministic formula.\n",
    "# While mathematically correct, it's *too perfect* — models trained on it\n",
    "# would overfit and fail to generalize in real-world use.\n",
    "#\n",
    "# To simulate this human variability, we add small Gaussian noise\n",
    "# to the match score using:\n",
    "#     np.random.normal(loc=0, scale=0.02, size=len(df))\n",
    "#\n",
    "# This results in a new column `match_score_noisy` that introduces\n",
    "# subtle, randomized \"imperfections\" — reflecting how even similar\n",
    "# users might rate the same food differently based on real-life complexity.\n",
    "#\n",
    "# ✅ This helps improve model generalization and mimics human subjectivity.\n",
    "# ------------------------------------------------------------------------------"
   ]
  },
  {
   "cell_type": "code",
   "execution_count": 421,
   "id": "e211f7d5-a09e-4bfb-8605-4236e55e97de",
   "metadata": {},
   "outputs": [],
   "source": [
    "import matplotlib.pyplot as plt\n",
    "import seaborn as sns"
   ]
  },
  {
   "cell_type": "code",
   "execution_count": 422,
   "id": "10793442-ffcb-4cab-ac20-2f58f44d2c2c",
   "metadata": {},
   "outputs": [
    {
     "data": {
      "image/png": "[encoded data removed]",
      "text/plain": [
       "<Figure size 1000x600 with 1 Axes>"
      ]
     },
     "metadata": {},
     "output_type": "display_data"
    }
   ],
   "source": [
    "plt.figure(figsize=(10,6))\n",
    "sns.kdeplot(df[\"match_score\"],label=\"Original Match Score\")\n",
    "sns.kdeplot(df[\"match_score_noisy\"],label=\"Noisy Match Score\",linestyle='--')\n",
    "\n",
    "plt.title(\"Distribution of Original vs Noisy Match Score\", fontsize=14)\n",
    "plt.xlabel(\"Match Scores\")\n",
    "plt.ylabel(\"Density\")\n",
    "plt.legend()\n",
    "plt.grid(True)\n",
    "plt.tight_layout()\n",
    "plt.show()"
   ]
  },
  {
   "cell_type": "code",
   "execution_count": 423,
   "id": "4c7203e2-3251-4e22-a41f-03ee908b897a",
   "metadata": {},
   "outputs": [],
   "source": [
    "X = df[[\"carbs\",\"protein\",\"fat\",\"fiber\",\"calories\",\"goal_tag\",\"diet_type\"]]\n",
    "y = df[\"match_score_noisy\"]"
   ]
  },
  {
   "cell_type": "code",
   "execution_count": 424,
   "id": "05dab8f7-05c7-4347-9a1a-880080cc6bd4",
   "metadata": {},
   "outputs": [],
   "source": [
    "X_train,X_test,y_train,y_test = train_test_split(X,y,test_size=0.2,random_state=42)"
   ]
  },
  {
   "cell_type": "code",
   "execution_count": 425,
   "id": "f786c4a7-4428-4486-8d35-c6dd438f0a0c",
   "metadata": {},
   "outputs": [
    {
     "name": "stderr",
     "output_type": "stream",
     "text": [
      "2025/07/11 18:24:57 WARNING mlflow.models.model: `artifact_path` is deprecated. Please use `name` instead.\n",
      "2025/07/11 18:25:00 WARNING mlflow.models.model: Model logged without a signature and input example. Please set `input_example` parameter when logging the model to auto infer the model signature.\n",
      "2025/07/11 18:25:00 WARNING mlflow.models.model: `artifact_path` is deprecated. Please use `name` instead.\n"
     ]
    },
    {
     "name": "stdout",
     "output_type": "stream",
     "text": [
      "Model Performance on training set for Linear Regression\n",
      "- Root MeanSquared Error: 0.0934\n",
      "- Mean Absolute Error: 0.0721\n",
      "- R2 Score: 0.7013\n",
      "\n",
      "\n",
      "Model Performance on test set for Linear Regression\n",
      "- Root MeanSquared Error: 0.1028\n",
      "- Mean Absolute Error: 0.0776\n",
      "- R2 Score: 0.6384\n",
      "----------------------------------------------------------------\n",
      "🏃 View run Linear Regression at: http://127.0.0.1:5000/#/experiments/799502646512637603/runs/de4e020157c046869dd7f2c7ea8eaf76\n",
      "🧪 View experiment at: http://127.0.0.1:5000/#/experiments/799502646512637603\n"
     ]
    },
    {
     "name": "stderr",
     "output_type": "stream",
     "text": [
      "2025/07/11 18:25:03 WARNING mlflow.models.model: Model logged without a signature and input example. Please set `input_example` parameter when logging the model to auto infer the model signature.\n",
      "2025/07/11 18:25:03 WARNING mlflow.models.model: `artifact_path` is deprecated. Please use `name` instead.\n"
     ]
    },
    {
     "name": "stdout",
     "output_type": "stream",
     "text": [
      "Model Performance on training set for Lasso\n",
      "- Root MeanSquared Error: 0.1709\n",
      "- Mean Absolute Error: 0.1336\n",
      "- R2 Score: 0.0000\n",
      "\n",
      "\n",
      "Model Performance on test set for Lasso\n",
      "- Root MeanSquared Error: 0.1709\n",
      "- Mean Absolute Error: 0.1334\n",
      "- R2 Score: -0.0000\n",
      "----------------------------------------------------------------\n",
      "🏃 View run Lasso at: http://127.0.0.1:5000/#/experiments/799502646512637603/runs/39be2cc579964b7e88a78ce50bc22bc8\n",
      "🧪 View experiment at: http://127.0.0.1:5000/#/experiments/799502646512637603\n"
     ]
    },
    {
     "name": "stderr",
     "output_type": "stream",
     "text": [
      "2025/07/11 18:25:06 WARNING mlflow.models.model: Model logged without a signature and input example. Please set `input_example` parameter when logging the model to auto infer the model signature.\n",
      "2025/07/11 18:25:06 WARNING mlflow.models.model: `artifact_path` is deprecated. Please use `name` instead.\n"
     ]
    },
    {
     "name": "stdout",
     "output_type": "stream",
     "text": [
      "Model Performance on training set for Ridge\n",
      "- Root MeanSquared Error: 0.0934\n",
      "- Mean Absolute Error: 0.0721\n",
      "- R2 Score: 0.7013\n",
      "\n",
      "\n",
      "Model Performance on test set for Ridge\n",
      "- Root MeanSquared Error: 0.1028\n",
      "- Mean Absolute Error: 0.0776\n",
      "- R2 Score: 0.6385\n",
      "----------------------------------------------------------------\n",
      "🏃 View run Ridge at: http://127.0.0.1:5000/#/experiments/799502646512637603/runs/e3979250e4c64d9a99707053a2bb17c6\n",
      "🧪 View experiment at: http://127.0.0.1:5000/#/experiments/799502646512637603\n"
     ]
    },
    {
     "name": "stderr",
     "output_type": "stream",
     "text": [
      "2025/07/11 18:25:09 WARNING mlflow.models.model: Model logged without a signature and input example. Please set `input_example` parameter when logging the model to auto infer the model signature.\n",
      "2025/07/11 18:25:10 WARNING mlflow.models.model: `artifact_path` is deprecated. Please use `name` instead.\n"
     ]
    },
    {
     "name": "stdout",
     "output_type": "stream",
     "text": [
      "Model Performance on training set for K-Neighbors Regressor\n",
      "- Root MeanSquared Error: 0.0288\n",
      "- Mean Absolute Error: 0.0199\n",
      "- R2 Score: 0.9715\n",
      "\n",
      "\n",
      "Model Performance on test set for K-Neighbors Regressor\n",
      "- Root MeanSquared Error: 0.0377\n",
      "- Mean Absolute Error: 0.0254\n",
      "- R2 Score: 0.9514\n",
      "----------------------------------------------------------------\n",
      "🏃 View run K-Neighbors Regressor at: http://127.0.0.1:5000/#/experiments/799502646512637603/runs/86002e0bd5de46b6a3b45336c5d69c62\n",
      "🧪 View experiment at: http://127.0.0.1:5000/#/experiments/799502646512637603\n"
     ]
    },
    {
     "name": "stderr",
     "output_type": "stream",
     "text": [
      "2025/07/11 18:25:13 WARNING mlflow.models.model: Model logged without a signature and input example. Please set `input_example` parameter when logging the model to auto infer the model signature.\n"
     ]
    },
    {
     "name": "stdout",
     "output_type": "stream",
     "text": [
      "Model Performance on training set for Decision Tree\n",
      "- Root MeanSquared Error: 0.0083\n",
      "- Mean Absolute Error: 0.0037\n",
      "- R2 Score: 0.9976\n",
      "\n",
      "\n",
      "Model Performance on test set for Decision Tree\n",
      "- Root MeanSquared Error: 0.0363\n",
      "- Mean Absolute Error: 0.0265\n",
      "- R2 Score: 0.9548\n",
      "----------------------------------------------------------------\n",
      "🏃 View run Decision Tree at: http://127.0.0.1:5000/#/experiments/799502646512637603/runs/e44bc5b81dc84025973a6f99123c7cf9\n",
      "🧪 View experiment at: http://127.0.0.1:5000/#/experiments/799502646512637603\n"
     ]
    },
    {
     "name": "stderr",
     "output_type": "stream",
     "text": [
      "2025/07/11 18:25:14 WARNING mlflow.models.model: `artifact_path` is deprecated. Please use `name` instead.\n",
      "2025/07/11 18:25:17 WARNING mlflow.models.model: Model logged without a signature and input example. Please set `input_example` parameter when logging the model to auto infer the model signature.\n"
     ]
    },
    {
     "name": "stdout",
     "output_type": "stream",
     "text": [
      "Model Performance on training set for Random Forest Regressor\n",
      "- Root MeanSquared Error: 0.0128\n",
      "- Mean Absolute Error: 0.0096\n",
      "- R2 Score: 0.9944\n",
      "\n",
      "\n",
      "Model Performance on test set for Random Forest Regressor\n",
      "- Root MeanSquared Error: 0.0315\n",
      "- Mean Absolute Error: 0.0217\n",
      "- R2 Score: 0.9660\n",
      "----------------------------------------------------------------\n",
      "🏃 View run Random Forest Regressor at: http://127.0.0.1:5000/#/experiments/799502646512637603/runs/5f0487559cef4cfdae7343f6beefade7\n",
      "🧪 View experiment at: http://127.0.0.1:5000/#/experiments/799502646512637603\n"
     ]
    },
    {
     "name": "stderr",
     "output_type": "stream",
     "text": [
      "2025/07/11 18:25:17 WARNING mlflow.models.model: `artifact_path` is deprecated. Please use `name` instead.\n",
      "C:\\Data Science Learning\\Projects\\NutriGoal-AI-Powered-Personalized-Diet-Planner\\dietenv\\lib\\site-packages\\xgboost\\sklearn.py:1028: UserWarning: [18:25:18] WARNING: C:\\actions-runner\\_work\\xgboost\\xgboost\\src\\c_api\\c_api.cc:1427: Saving model in the UBJSON format as default.  You can use file extension: `json`, `ubj` or `deprecated` to choose between formats.\n",
      "  self.get_booster().save_model(fname)\n",
      "2025/07/11 18:25:21 WARNING mlflow.models.model: Model logged without a signature and input example. Please set `input_example` parameter when logging the model to auto infer the model signature.\n"
     ]
    },
    {
     "name": "stdout",
     "output_type": "stream",
     "text": [
      "Model Performance on training set for XGBRegressor\n",
      "- Root MeanSquared Error: 0.0111\n",
      "- Mean Absolute Error: 0.0081\n",
      "- R2 Score: 0.9958\n",
      "\n",
      "\n",
      "Model Performance on test set for XGBRegressor\n",
      "- Root MeanSquared Error: 0.0320\n",
      "- Mean Absolute Error: 0.0226\n",
      "- R2 Score: 0.9649\n",
      "----------------------------------------------------------------\n",
      "🏃 View run XGBRegressor at: http://127.0.0.1:5000/#/experiments/799502646512637603/runs/a7100c96e7db430f873b79b74b16474a\n",
      "🧪 View experiment at: http://127.0.0.1:5000/#/experiments/799502646512637603\n"
     ]
    },
    {
     "name": "stderr",
     "output_type": "stream",
     "text": [
      "2025/07/11 18:25:23 WARNING mlflow.models.model: `artifact_path` is deprecated. Please use `name` instead.\n",
      "2025/07/11 18:25:26 WARNING mlflow.models.model: Model logged without a signature and input example. Please set `input_example` parameter when logging the model to auto infer the model signature.\n"
     ]
    },
    {
     "name": "stdout",
     "output_type": "stream",
     "text": [
      "Model Performance on training set for CatBoosting Regressor\n",
      "- Root MeanSquared Error: 0.0160\n",
      "- Mean Absolute Error: 0.0127\n",
      "- R2 Score: 0.9912\n",
      "\n",
      "\n",
      "Model Performance on test set for CatBoosting Regressor\n",
      "- Root MeanSquared Error: 0.0246\n",
      "- Mean Absolute Error: 0.0184\n",
      "- R2 Score: 0.9793\n",
      "----------------------------------------------------------------\n",
      "🏃 View run CatBoosting Regressor at: http://127.0.0.1:5000/#/experiments/799502646512637603/runs/7722c47abc3942a48032bac2cb3806a0\n",
      "🧪 View experiment at: http://127.0.0.1:5000/#/experiments/799502646512637603\n"
     ]
    },
    {
     "name": "stderr",
     "output_type": "stream",
     "text": [
      "2025/07/11 18:25:26 WARNING mlflow.models.model: `artifact_path` is deprecated. Please use `name` instead.\n",
      "2025/07/11 18:25:30 WARNING mlflow.models.model: Model logged without a signature and input example. Please set `input_example` parameter when logging the model to auto infer the model signature.\n"
     ]
    },
    {
     "name": "stdout",
     "output_type": "stream",
     "text": [
      "Model Performance on training set for AdaBoost Regressor\n",
      "- Root MeanSquared Error: 0.0650\n",
      "- Mean Absolute Error: 0.0533\n",
      "- R2 Score: 0.8555\n",
      "\n",
      "\n",
      "Model Performance on test set for AdaBoost Regressor\n",
      "- Root MeanSquared Error: 0.0691\n",
      "- Mean Absolute Error: 0.0559\n",
      "- R2 Score: 0.8367\n",
      "----------------------------------------------------------------\n",
      "🏃 View run AdaBoost Regressor at: http://127.0.0.1:5000/#/experiments/799502646512637603/runs/426abe3c79a34f5886e493543712876e\n",
      "🧪 View experiment at: http://127.0.0.1:5000/#/experiments/799502646512637603\n"
     ]
    }
   ],
   "source": [
    "mlflow.set_experiment(\"Noizy Data 1.0\")\n",
    "mlflow.set_tracking_uri(\"http://127.0.0.1:5000/\")\n",
    "for model_name, model in models.items():\n",
    "    with mlflow.start_run(run_name=model_name):\n",
    "        # Train model\n",
    "        model.fit(X_train, y_train)\n",
    "\n",
    "        # Predict\n",
    "        y_train_pred = model.predict(X_train)\n",
    "        y_test_pred = model.predict(X_test)\n",
    "\n",
    "        # Evaluate\n",
    "        model_train_mae, model_train_rmse, model_train_r2 = evaluate_model(y_train, y_train_pred)\n",
    "        model_test_mae, model_test_rmse, model_test_r2 = evaluate_model(y_test, y_test_pred)\n",
    "\n",
    "        # Log metrics\n",
    "        mlflow.log_metrics({\n",
    "            \"train_mae\": model_train_mae,\n",
    "            \"train_rmse\": model_train_rmse,\n",
    "            \"train_r2\": model_train_r2,\n",
    "            \"test_mae\": model_test_mae,\n",
    "            \"test_rmse\": model_test_rmse,\n",
    "            \"test_r2\": model_test_r2\n",
    "        })\n",
    "\n",
    "        # Log model\n",
    "        if model_name == \"XGBRegressor\":\n",
    "            mlflow.xgboost.log_model(model,model_name)\n",
    "        elif model_name == \"CatBoosting Regressor\":\n",
    "            mlflow.catboost.log_model(model, model_name)\n",
    "        else:\n",
    "            mlflow.sklearn.log_model(model, model_name)\n",
    "\n",
    "        # Print results to console\n",
    "        print(f\"Model Performance on training set for {model_name}\")\n",
    "        print('- Root MeanSquared Error: {:.4f}'.format(model_train_rmse))\n",
    "        print('- Mean Absolute Error: {:.4f}'.format(model_train_mae))\n",
    "        print('- R2 Score: {:.4f}'.format(model_train_r2))\n",
    "        print(\"\\n\")\n",
    "        print(f\"Model Performance on test set for {model_name}\")\n",
    "        print('- Root MeanSquared Error: {:.4f}'.format(model_test_rmse))\n",
    "        print('- Mean Absolute Error: {:.4f}'.format(model_test_mae))\n",
    "        print('- R2 Score: {:.4f}'.format(model_test_r2))\n",
    "        print(\"----------------------------------------------------------------\")"
   ]
  },
  {
   "cell_type": "markdown",
   "id": "9d8a4958-8c0d-46da-982b-ed69dc77eaf7",
   "metadata": {},
   "source": [
    "### Hyperparameter tuning"
   ]
  },
  {
   "cell_type": "markdown",
   "id": "1422dd77-11d4-4a3d-a764-c853ecb4b085",
   "metadata": {},
   "source": [
    "For hyper parameter tuning we are only considering models which gave close to optimal performance like catboost and Random Forest"
   ]
  },
  {
   "cell_type": "code",
   "execution_count": 428,
   "id": "c66e676b-81f1-403c-aa20-499737ac9d54",
   "metadata": {},
   "outputs": [],
   "source": [
    "from sklearn.model_selection import GridSearchCV"
   ]
  },
  {
   "cell_type": "code",
   "execution_count": 429,
   "id": "2ec8d223-e0fe-4868-8728-85a461013fbb",
   "metadata": {},
   "outputs": [],
   "source": [
    "models = {\n",
    "    \"KNeighborsRegressor\" : KNeighborsRegressor(),\n",
    "    \"XGBRegressor\" : XGBRegressor(),\n",
    "    \"RandomForestRegressor\" : RandomForestRegressor(),\n",
    "    \"CatBoostRegressor\" : CatBoostRegressor()\n",
    "}"
   ]
  },
  {
   "cell_type": "code",
   "execution_count": 430,
   "id": "959f9cf7-5327-4d95-a497-610012eef3dc",
   "metadata": {},
   "outputs": [],
   "source": [
    "param_grid = {\n",
    "    \"KNeighborsRegressor\" : {\n",
    "        \"n_neighbors\":[2,5,10],\n",
    "        \"weights\":['uniform','distance']\n",
    "    },\n",
    "    \"XGBRegressor\" : {\n",
    "        \"loss\":[\"squared_error\",\"absolute_error\"],\n",
    "        \"learning_rate\":[0.01,0.05,0.1,0.2],\n",
    "        \"n_estimators\":[10,20,50,100]\n",
    "    },\n",
    "    \"RandomForestRegressor\" : {\n",
    "        \"n_estimators\":[10,50,100,200], \n",
    "        \"max_depth\": [1,5,10,20,None],\n",
    "        \"criterion\":[\"squared_error\", \"absolute_error\"]\n",
    "    },\n",
    "    \"CatBoostRegressor\" : {\n",
    "        \"iterations\":[10,20,100,200],\n",
    "        \"learning_rate\":[0.01,0.05,0.1]\n",
    "    }\n",
    " }"
   ]
  },
  {
   "cell_type": "code",
   "execution_count": 431,
   "id": "5e87679d-52ed-4464-8691-6019fd04d428",
   "metadata": {},
   "outputs": [
    {
     "name": "stdout",
     "output_type": "stream",
     "text": [
      "Requirement already satisfied: joblib in c:\\data science learning\\projects\\nutrigoal-ai-powered-personalized-diet-planner\\dietenv\\lib\\site-packages (1.5.1)\n",
      "Note: you may need to restart the kernel to use updated packages.\n"
     ]
    }
   ],
   "source": [
    "pip install joblib"
   ]
  },
  {
   "cell_type": "code",
   "execution_count": 432,
   "id": "826b8cd5-75dd-4007-b04a-50c45a5b3273",
   "metadata": {},
   "outputs": [],
   "source": [
    "import joblib"
   ]
  },
  {
   "cell_type": "code",
   "execution_count": 433,
   "id": "163cfee9-1520-430b-b992-0c20faca26b6",
   "metadata": {},
   "outputs": [
    {
     "name": "stderr",
     "output_type": "stream",
     "text": [
      "2025/07/11 18:25:42 WARNING mlflow.models.model: `artifact_path` is deprecated. Please use `name` instead.\n",
      "2025/07/11 18:25:47 WARNING mlflow.models.model: Model logged without a signature and input example. Please set `input_example` parameter when logging the model to auto infer the model signature.\n"
     ]
    },
    {
     "name": "stdout",
     "output_type": "stream",
     "text": [
      "Model Performance on training set for KNeighborsRegressor\n",
      "- Root MeanSquared Error: 0.0084\n",
      "- Mean Absolute Error: 0.0037\n",
      "- R2 Score: 0.9976\n",
      "\n",
      "\n",
      "Model Performance on test set for KNeighborsRegressor\n",
      "- Root MeanSquared Error: 0.0365\n",
      "- Mean Absolute Error: 0.0246\n",
      "- R2 Score: 0.9545\n",
      "\n",
      "\n",
      "Best Parameters {'n_neighbors': 5, 'weights': 'distance'}\n",
      "----------------------------------------------------------------\n",
      "🏃 View run KNeighborsRegressor at: http://127.0.0.1:5000/#/experiments/649973813408310596/runs/b3397d9bf03f4e6481b4d666a8f213ae\n",
      "🧪 View experiment at: http://127.0.0.1:5000/#/experiments/649973813408310596\n"
     ]
    },
    {
     "name": "stderr",
     "output_type": "stream",
     "text": [
      "C:\\Data Science Learning\\Projects\\NutriGoal-AI-Powered-Personalized-Diet-Planner\\dietenv\\lib\\site-packages\\sklearn\\model_selection\\_validation.py:516: FitFailedWarning: \n",
      "1 fits failed out of a total of 160.\n",
      "The score on these train-test partitions for these parameters will be set to nan.\n",
      "If these failures are not expected, you can try to debug them by setting error_score='raise'.\n",
      "\n",
      "Below are more details about the failures:\n",
      "--------------------------------------------------------------------------------\n",
      "1 fits failed with the following error:\n",
      "Traceback (most recent call last):\n",
      "  File \"C:\\Data Science Learning\\Projects\\NutriGoal-AI-Powered-Personalized-Diet-Planner\\dietenv\\lib\\site-packages\\sklearn\\model_selection\\_validation.py\", line 859, in _fit_and_score\n",
      "    estimator.fit(X_train, y_train, **fit_params)\n",
      "  File \"C:\\Data Science Learning\\Projects\\NutriGoal-AI-Powered-Personalized-Diet-Planner\\dietenv\\lib\\site-packages\\xgboost\\core.py\", line 729, in inner_f\n",
      "    return func(**kwargs)\n",
      "  File \"C:\\Data Science Learning\\Projects\\NutriGoal-AI-Powered-Personalized-Diet-Planner\\dietenv\\lib\\site-packages\\xgboost\\sklearn.py\", line 1222, in fit\n",
      "    train_dmatrix, evals = _wrap_evaluation_matrices(\n",
      "  File \"C:\\Data Science Learning\\Projects\\NutriGoal-AI-Powered-Personalized-Diet-Planner\\dietenv\\lib\\site-packages\\xgboost\\sklearn.py\", line 628, in _wrap_evaluation_matrices\n",
      "    train_dmatrix = create_dmatrix(\n",
      "  File \"C:\\Data Science Learning\\Projects\\NutriGoal-AI-Powered-Personalized-Diet-Planner\\dietenv\\lib\\site-packages\\xgboost\\sklearn.py\", line 1137, in _create_dmatrix\n",
      "    return QuantileDMatrix(\n",
      "  File \"C:\\Data Science Learning\\Projects\\NutriGoal-AI-Powered-Personalized-Diet-Planner\\dietenv\\lib\\site-packages\\xgboost\\core.py\", line 729, in inner_f\n",
      "    return func(**kwargs)\n",
      "  File \"C:\\Data Science Learning\\Projects\\NutriGoal-AI-Powered-Personalized-Diet-Planner\\dietenv\\lib\\site-packages\\xgboost\\core.py\", line 1614, in __init__\n",
      "    self._init(\n",
      "  File \"C:\\Data Science Learning\\Projects\\NutriGoal-AI-Powered-Personalized-Diet-Planner\\dietenv\\lib\\site-packages\\xgboost\\core.py\", line 1678, in _init\n",
      "    it.reraise()\n",
      "  File \"C:\\Data Science Learning\\Projects\\NutriGoal-AI-Powered-Personalized-Diet-Planner\\dietenv\\lib\\site-packages\\xgboost\\core.py\", line 572, in reraise\n",
      "    raise exc  # pylint: disable=raising-bad-type\n",
      "  File \"C:\\Data Science Learning\\Projects\\NutriGoal-AI-Powered-Personalized-Diet-Planner\\dietenv\\lib\\site-packages\\xgboost\\core.py\", line 553, in _handle_exception\n",
      "    return fn()\n",
      "  File \"C:\\Data Science Learning\\Projects\\NutriGoal-AI-Powered-Personalized-Diet-Planner\\dietenv\\lib\\site-packages\\xgboost\\core.py\", line 640, in <lambda>\n",
      "    return self._handle_exception(lambda: int(self.next(input_data)), 0)\n",
      "  File \"C:\\Data Science Learning\\Projects\\NutriGoal-AI-Powered-Personalized-Diet-Planner\\dietenv\\lib\\site-packages\\xgboost\\data.py\", line 1654, in next\n",
      "    input_data(**self.kwargs)\n",
      "  File \"C:\\Data Science Learning\\Projects\\NutriGoal-AI-Powered-Personalized-Diet-Planner\\dietenv\\lib\\site-packages\\xgboost\\core.py\", line 729, in inner_f\n",
      "    return func(**kwargs)\n",
      "  File \"C:\\Data Science Learning\\Projects\\NutriGoal-AI-Powered-Personalized-Diet-Planner\\dietenv\\lib\\site-packages\\xgboost\\core.py\", line 629, in input_data\n",
      "    self.proxy.set_info(\n",
      "  File \"C:\\Data Science Learning\\Projects\\NutriGoal-AI-Powered-Personalized-Diet-Planner\\dietenv\\lib\\site-packages\\xgboost\\core.py\", line 729, in inner_f\n",
      "    return func(**kwargs)\n",
      "  File \"C:\\Data Science Learning\\Projects\\NutriGoal-AI-Powered-Personalized-Diet-Planner\\dietenv\\lib\\site-packages\\xgboost\\core.py\", line 961, in set_info\n",
      "    self.set_label(label)\n",
      "  File \"C:\\Data Science Learning\\Projects\\NutriGoal-AI-Powered-Personalized-Diet-Planner\\dietenv\\lib\\site-packages\\xgboost\\core.py\", line 1099, in set_label\n",
      "    dispatch_meta_backend(self, label, \"label\", \"float\")\n",
      "  File \"C:\\Data Science Learning\\Projects\\NutriGoal-AI-Powered-Personalized-Diet-Planner\\dietenv\\lib\\site-packages\\xgboost\\data.py\", line 1603, in dispatch_meta_backend\n",
      "    _meta_from_pandas_series(data, name, dtype, handle)\n",
      "  File \"C:\\Data Science Learning\\Projects\\NutriGoal-AI-Powered-Personalized-Diet-Planner\\dietenv\\lib\\site-packages\\xgboost\\data.py\", line 713, in _meta_from_pandas_series\n",
      "    _meta_from_numpy(data, name, dtype, handle)\n",
      "  File \"C:\\Data Science Learning\\Projects\\NutriGoal-AI-Powered-Personalized-Diet-Planner\\dietenv\\lib\\site-packages\\xgboost\\data.py\", line 1533, in _meta_from_numpy\n",
      "    _check_call(_LIB.XGDMatrixSetInfoFromInterface(handle, c_str(field), interface_str))\n",
      "  File \"C:\\Data Science Learning\\Projects\\NutriGoal-AI-Powered-Personalized-Diet-Planner\\dietenv\\lib\\site-packages\\xgboost\\core.py\", line 310, in _check_call\n",
      "    raise XGBoostError(py_str(_LIB.XGBGetLastError()))\n",
      "xgboost.core.XGBoostError: [18:25:49] C:\\actions-runner\\_work\\xgboost\\xgboost\\src\\data\\array_interface.cu:44: Check failed: err == cudaGetLastError() (0 vs. 46) : \n",
      "\n",
      "  warnings.warn(some_fits_failed_message, FitFailedWarning)\n",
      "C:\\Data Science Learning\\Projects\\NutriGoal-AI-Powered-Personalized-Diet-Planner\\dietenv\\lib\\site-packages\\sklearn\\model_selection\\_search.py:1135: UserWarning: One or more of the test scores are non-finite: [0.1574921         nan 0.56502854 0.79185731 0.1574921  0.28931186\n",
      " 0.56502854 0.79185731 0.57185275 0.79658925 0.94855794 0.96806817\n",
      " 0.57185275 0.79658925 0.94855794 0.96806817 0.80322678 0.93193044\n",
      " 0.96788729 0.97039017 0.80322678 0.93193044 0.96788729 0.97039017\n",
      " 0.93492637 0.96498381 0.96933919 0.96955956 0.93492637 0.96498381\n",
      " 0.96933919 0.96955956]\n",
      "  warnings.warn(\n",
      "C:\\Data Science Learning\\Projects\\NutriGoal-AI-Powered-Personalized-Diet-Planner\\dietenv\\lib\\site-packages\\xgboost\\training.py:183: UserWarning: [18:25:53] WARNING: C:\\actions-runner\\_work\\xgboost\\xgboost\\src\\learner.cc:738: \n",
      "Parameters: { \"loss\" } are not used.\n",
      "\n",
      "  bst.update(dtrain, iteration=i, fobj=obj)\n",
      "2025/07/11 18:25:53 WARNING mlflow.models.model: `artifact_path` is deprecated. Please use `name` instead.\n",
      "C:\\Data Science Learning\\Projects\\NutriGoal-AI-Powered-Personalized-Diet-Planner\\dietenv\\lib\\site-packages\\xgboost\\sklearn.py:1028: UserWarning: [18:25:53] WARNING: C:\\actions-runner\\_work\\xgboost\\xgboost\\src\\c_api\\c_api.cc:1427: Saving model in the UBJSON format as default.  You can use file extension: `json`, `ubj` or `deprecated` to choose between formats.\n",
      "  self.get_booster().save_model(fname)\n",
      "2025/07/11 18:25:59 WARNING mlflow.models.model: Model logged without a signature and input example. Please set `input_example` parameter when logging the model to auto infer the model signature.\n"
     ]
    },
    {
     "name": "stdout",
     "output_type": "stream",
     "text": [
      "Model Performance on training set for XGBRegressor\n",
      "- Root MeanSquared Error: 0.0163\n",
      "- Mean Absolute Error: 0.0127\n",
      "- R2 Score: 0.9909\n",
      "\n",
      "\n",
      "Model Performance on test set for XGBRegressor\n",
      "- Root MeanSquared Error: 0.0296\n",
      "- Mean Absolute Error: 0.0216\n",
      "- R2 Score: 0.9699\n",
      "\n",
      "\n",
      "Best Parameters {'learning_rate': 0.1, 'loss': 'squared_error', 'n_estimators': 100}\n",
      "----------------------------------------------------------------\n",
      "🏃 View run XGBRegressor at: http://127.0.0.1:5000/#/experiments/649973813408310596/runs/dee9730b81ae4d718f7205ad6294f783\n",
      "🧪 View experiment at: http://127.0.0.1:5000/#/experiments/649973813408310596\n"
     ]
    },
    {
     "name": "stderr",
     "output_type": "stream",
     "text": [
      "2025/07/11 18:27:44 WARNING mlflow.models.model: `artifact_path` is deprecated. Please use `name` instead.\n",
      "2025/07/11 18:27:48 WARNING mlflow.models.model: Model logged without a signature and input example. Please set `input_example` parameter when logging the model to auto infer the model signature.\n"
     ]
    },
    {
     "name": "stdout",
     "output_type": "stream",
     "text": [
      "Model Performance on training set for RandomForestRegressor\n",
      "- Root MeanSquared Error: 0.0130\n",
      "- Mean Absolute Error: 0.0097\n",
      "- R2 Score: 0.9942\n",
      "\n",
      "\n",
      "Model Performance on test set for RandomForestRegressor\n",
      "- Root MeanSquared Error: 0.0318\n",
      "- Mean Absolute Error: 0.0219\n",
      "- R2 Score: 0.9653\n",
      "\n",
      "\n",
      "Best Parameters {'criterion': 'absolute_error', 'max_depth': 20, 'n_estimators': 100}\n",
      "----------------------------------------------------------------\n",
      "🏃 View run RandomForestRegressor at: http://127.0.0.1:5000/#/experiments/649973813408310596/runs/366867c809eb4759a8dbbdfcf36dc6ba\n",
      "🧪 View experiment at: http://127.0.0.1:5000/#/experiments/649973813408310596\n",
      "0:\tlearn: 0.1600594\ttotal: 3.02ms\tremaining: 601ms\n",
      "1:\tlearn: 0.1509334\ttotal: 4.38ms\tremaining: 433ms\n",
      "2:\tlearn: 0.1407045\ttotal: 5.92ms\tremaining: 389ms\n",
      "3:\tlearn: 0.1323476\ttotal: 7.17ms\tremaining: 351ms\n",
      "4:\tlearn: 0.1246143\ttotal: 8.41ms\tremaining: 328ms\n",
      "5:\tlearn: 0.1166526\ttotal: 9.67ms\tremaining: 313ms\n",
      "6:\tlearn: 0.1102329\ttotal: 11ms\tremaining: 302ms\n",
      "7:\tlearn: 0.1031925\ttotal: 12.2ms\tremaining: 292ms\n",
      "8:\tlearn: 0.0973669\ttotal: 13.5ms\tremaining: 286ms\n",
      "9:\tlearn: 0.0920710\ttotal: 14.7ms\tremaining: 280ms\n",
      "10:\tlearn: 0.0873946\ttotal: 16.6ms\tremaining: 286ms\n",
      "11:\tlearn: 0.0829561\ttotal: 18.2ms\tremaining: 285ms\n",
      "12:\tlearn: 0.0785310\ttotal: 19.5ms\tremaining: 281ms\n",
      "13:\tlearn: 0.0749525\ttotal: 20.8ms\tremaining: 276ms\n",
      "14:\tlearn: 0.0717708\ttotal: 22.1ms\tremaining: 272ms\n",
      "15:\tlearn: 0.0687727\ttotal: 23.4ms\tremaining: 269ms\n",
      "16:\tlearn: 0.0663595\ttotal: 24.7ms\tremaining: 266ms\n",
      "17:\tlearn: 0.0637509\ttotal: 26ms\tremaining: 263ms\n",
      "18:\tlearn: 0.0614254\ttotal: 27.4ms\tremaining: 261ms\n",
      "19:\tlearn: 0.0592250\ttotal: 28.7ms\tremaining: 258ms\n",
      "20:\tlearn: 0.0574031\ttotal: 30.1ms\tremaining: 256ms\n",
      "21:\tlearn: 0.0556622\ttotal: 31.4ms\tremaining: 254ms\n",
      "22:\tlearn: 0.0541429\ttotal: 32.7ms\tremaining: 252ms\n",
      "23:\tlearn: 0.0528304\ttotal: 34ms\tremaining: 250ms\n",
      "24:\tlearn: 0.0517267\ttotal: 35.3ms\tremaining: 247ms\n",
      "25:\tlearn: 0.0505918\ttotal: 36.7ms\tremaining: 246ms\n",
      "26:\tlearn: 0.0489461\ttotal: 38.1ms\tremaining: 244ms\n",
      "27:\tlearn: 0.0476407\ttotal: 39.6ms\tremaining: 243ms\n",
      "28:\tlearn: 0.0465702\ttotal: 41ms\tremaining: 242ms\n",
      "29:\tlearn: 0.0456124\ttotal: 42.3ms\tremaining: 240ms\n",
      "30:\tlearn: 0.0445065\ttotal: 43.7ms\tremaining: 238ms\n",
      "31:\tlearn: 0.0437063\ttotal: 45ms\tremaining: 236ms\n",
      "32:\tlearn: 0.0428224\ttotal: 46.5ms\tremaining: 235ms\n",
      "33:\tlearn: 0.0422275\ttotal: 48ms\tremaining: 234ms\n",
      "34:\tlearn: 0.0414530\ttotal: 49.5ms\tremaining: 233ms\n",
      "35:\tlearn: 0.0407759\ttotal: 50.9ms\tremaining: 232ms\n",
      "36:\tlearn: 0.0398786\ttotal: 52.2ms\tremaining: 230ms\n",
      "37:\tlearn: 0.0393719\ttotal: 53.7ms\tremaining: 229ms\n",
      "38:\tlearn: 0.0387750\ttotal: 55.2ms\tremaining: 228ms\n",
      "39:\tlearn: 0.0382647\ttotal: 56.5ms\tremaining: 226ms\n",
      "40:\tlearn: 0.0377874\ttotal: 57.9ms\tremaining: 224ms\n",
      "41:\tlearn: 0.0373942\ttotal: 59.3ms\tremaining: 223ms\n",
      "42:\tlearn: 0.0370114\ttotal: 60.6ms\tremaining: 221ms\n",
      "43:\tlearn: 0.0366476\ttotal: 62ms\tremaining: 220ms\n",
      "44:\tlearn: 0.0362087\ttotal: 63.3ms\tremaining: 218ms\n",
      "45:\tlearn: 0.0359035\ttotal: 64.7ms\tremaining: 217ms\n",
      "46:\tlearn: 0.0355571\ttotal: 66.1ms\tremaining: 215ms\n",
      "47:\tlearn: 0.0351259\ttotal: 67.5ms\tremaining: 214ms\n",
      "48:\tlearn: 0.0345775\ttotal: 69.1ms\tremaining: 213ms\n",
      "49:\tlearn: 0.0342855\ttotal: 70.6ms\tremaining: 212ms\n",
      "50:\tlearn: 0.0338901\ttotal: 72ms\tremaining: 210ms\n",
      "51:\tlearn: 0.0336026\ttotal: 73.3ms\tremaining: 209ms\n",
      "52:\tlearn: 0.0332852\ttotal: 74.7ms\tremaining: 207ms\n",
      "53:\tlearn: 0.0329061\ttotal: 76.4ms\tremaining: 207ms\n",
      "54:\tlearn: 0.0327091\ttotal: 77.9ms\tremaining: 205ms\n",
      "55:\tlearn: 0.0324456\ttotal: 79.5ms\tremaining: 205ms\n",
      "56:\tlearn: 0.0321135\ttotal: 80.9ms\tremaining: 203ms\n",
      "57:\tlearn: 0.0318980\ttotal: 82.2ms\tremaining: 201ms\n",
      "58:\tlearn: 0.0317298\ttotal: 83.6ms\tremaining: 200ms\n",
      "59:\tlearn: 0.0314762\ttotal: 84.9ms\tremaining: 198ms\n",
      "60:\tlearn: 0.0312639\ttotal: 86.3ms\tremaining: 197ms\n",
      "61:\tlearn: 0.0309905\ttotal: 87.6ms\tremaining: 195ms\n",
      "62:\tlearn: 0.0307185\ttotal: 89ms\tremaining: 194ms\n",
      "63:\tlearn: 0.0305586\ttotal: 90.4ms\tremaining: 192ms\n",
      "64:\tlearn: 0.0304137\ttotal: 91.7ms\tremaining: 191ms\n",
      "65:\tlearn: 0.0302587\ttotal: 93.1ms\tremaining: 189ms\n",
      "66:\tlearn: 0.0300539\ttotal: 94.5ms\tremaining: 188ms\n",
      "67:\tlearn: 0.0299433\ttotal: 95.9ms\tremaining: 186ms\n",
      "68:\tlearn: 0.0297881\ttotal: 97.2ms\tremaining: 185ms\n",
      "69:\tlearn: 0.0296054\ttotal: 98.6ms\tremaining: 183ms\n",
      "70:\tlearn: 0.0293789\ttotal: 100ms\tremaining: 182ms\n",
      "71:\tlearn: 0.0292476\ttotal: 101ms\tremaining: 180ms\n",
      "72:\tlearn: 0.0290767\ttotal: 103ms\tremaining: 179ms\n",
      "73:\tlearn: 0.0289322\ttotal: 104ms\tremaining: 177ms\n",
      "74:\tlearn: 0.0287495\ttotal: 106ms\tremaining: 176ms\n",
      "75:\tlearn: 0.0286261\ttotal: 107ms\tremaining: 175ms\n",
      "76:\tlearn: 0.0284554\ttotal: 109ms\tremaining: 174ms\n",
      "77:\tlearn: 0.0283067\ttotal: 110ms\tremaining: 172ms\n",
      "78:\tlearn: 0.0282147\ttotal: 112ms\tremaining: 171ms\n",
      "79:\tlearn: 0.0280868\ttotal: 113ms\tremaining: 169ms\n",
      "80:\tlearn: 0.0279564\ttotal: 114ms\tremaining: 168ms\n",
      "81:\tlearn: 0.0278221\ttotal: 116ms\tremaining: 167ms\n",
      "82:\tlearn: 0.0276937\ttotal: 117ms\tremaining: 165ms\n",
      "83:\tlearn: 0.0274569\ttotal: 119ms\tremaining: 164ms\n",
      "84:\tlearn: 0.0273022\ttotal: 120ms\tremaining: 163ms\n",
      "85:\tlearn: 0.0271086\ttotal: 122ms\tremaining: 161ms\n",
      "86:\tlearn: 0.0269596\ttotal: 123ms\tremaining: 160ms\n",
      "87:\tlearn: 0.0268898\ttotal: 124ms\tremaining: 158ms\n",
      "88:\tlearn: 0.0267765\ttotal: 126ms\tremaining: 157ms\n",
      "89:\tlearn: 0.0266704\ttotal: 128ms\tremaining: 156ms\n",
      "90:\tlearn: 0.0265434\ttotal: 129ms\tremaining: 155ms\n",
      "91:\tlearn: 0.0264262\ttotal: 131ms\tremaining: 153ms\n",
      "92:\tlearn: 0.0263456\ttotal: 132ms\tremaining: 152ms\n",
      "93:\tlearn: 0.0262641\ttotal: 134ms\tremaining: 151ms\n",
      "94:\tlearn: 0.0261761\ttotal: 135ms\tremaining: 149ms\n",
      "95:\tlearn: 0.0261224\ttotal: 136ms\tremaining: 148ms\n",
      "96:\tlearn: 0.0260150\ttotal: 138ms\tremaining: 146ms\n",
      "97:\tlearn: 0.0259334\ttotal: 139ms\tremaining: 145ms\n",
      "98:\tlearn: 0.0258422\ttotal: 140ms\tremaining: 143ms\n",
      "99:\tlearn: 0.0258013\ttotal: 142ms\tremaining: 142ms\n",
      "100:\tlearn: 0.0257609\ttotal: 143ms\tremaining: 140ms\n",
      "101:\tlearn: 0.0256796\ttotal: 144ms\tremaining: 139ms\n",
      "102:\tlearn: 0.0255809\ttotal: 146ms\tremaining: 137ms\n",
      "103:\tlearn: 0.0255048\ttotal: 147ms\tremaining: 136ms\n",
      "104:\tlearn: 0.0254493\ttotal: 148ms\tremaining: 134ms\n",
      "105:\tlearn: 0.0253685\ttotal: 150ms\tremaining: 133ms\n",
      "106:\tlearn: 0.0252732\ttotal: 151ms\tremaining: 131ms\n",
      "107:\tlearn: 0.0251619\ttotal: 152ms\tremaining: 130ms\n",
      "108:\tlearn: 0.0250378\ttotal: 154ms\tremaining: 128ms\n",
      "109:\tlearn: 0.0249550\ttotal: 155ms\tremaining: 127ms\n",
      "110:\tlearn: 0.0248121\ttotal: 156ms\tremaining: 125ms\n",
      "111:\tlearn: 0.0247317\ttotal: 158ms\tremaining: 124ms\n",
      "112:\tlearn: 0.0246508\ttotal: 159ms\tremaining: 122ms\n",
      "113:\tlearn: 0.0245883\ttotal: 160ms\tremaining: 121ms\n",
      "114:\tlearn: 0.0245273\ttotal: 162ms\tremaining: 120ms\n",
      "115:\tlearn: 0.0244449\ttotal: 163ms\tremaining: 118ms\n",
      "116:\tlearn: 0.0243972\ttotal: 165ms\tremaining: 117ms\n",
      "117:\tlearn: 0.0242910\ttotal: 166ms\tremaining: 116ms\n",
      "118:\tlearn: 0.0241988\ttotal: 168ms\tremaining: 114ms\n",
      "119:\tlearn: 0.0241531\ttotal: 169ms\tremaining: 113ms\n",
      "120:\tlearn: 0.0241018\ttotal: 170ms\tremaining: 111ms\n",
      "121:\tlearn: 0.0240520\ttotal: 172ms\tremaining: 110ms\n",
      "122:\tlearn: 0.0239472\ttotal: 174ms\tremaining: 109ms\n",
      "123:\tlearn: 0.0238840\ttotal: 176ms\tremaining: 108ms\n",
      "124:\tlearn: 0.0238555\ttotal: 177ms\tremaining: 106ms\n",
      "125:\tlearn: 0.0238199\ttotal: 178ms\tremaining: 105ms\n",
      "126:\tlearn: 0.0237557\ttotal: 180ms\tremaining: 103ms\n",
      "127:\tlearn: 0.0237161\ttotal: 181ms\tremaining: 102ms\n",
      "128:\tlearn: 0.0236651\ttotal: 182ms\tremaining: 100ms\n",
      "129:\tlearn: 0.0236113\ttotal: 184ms\tremaining: 98.8ms\n",
      "130:\tlearn: 0.0235806\ttotal: 185ms\tremaining: 97.4ms\n",
      "131:\tlearn: 0.0235142\ttotal: 186ms\tremaining: 96.1ms\n",
      "132:\tlearn: 0.0234705\ttotal: 188ms\tremaining: 94.6ms\n",
      "133:\tlearn: 0.0233877\ttotal: 189ms\tremaining: 93.2ms\n",
      "134:\tlearn: 0.0233037\ttotal: 191ms\tremaining: 91.8ms\n",
      "135:\tlearn: 0.0232286\ttotal: 192ms\tremaining: 90.3ms\n",
      "136:\tlearn: 0.0231844\ttotal: 193ms\tremaining: 88.9ms\n",
      "137:\tlearn: 0.0231599\ttotal: 195ms\tremaining: 87.4ms\n",
      "138:\tlearn: 0.0230222\ttotal: 196ms\tremaining: 86ms\n",
      "139:\tlearn: 0.0230048\ttotal: 197ms\tremaining: 84.6ms\n",
      "140:\tlearn: 0.0228892\ttotal: 199ms\tremaining: 83.2ms\n"
     ]
    },
    {
     "name": "stderr",
     "output_type": "stream",
     "text": [
      "2025/07/11 18:27:55 WARNING mlflow.models.model: `artifact_path` is deprecated. Please use `name` instead.\n"
     ]
    },
    {
     "name": "stdout",
     "output_type": "stream",
     "text": [
      "141:\tlearn: 0.0228269\ttotal: 201ms\tremaining: 82.1ms\n",
      "142:\tlearn: 0.0227570\ttotal: 202ms\tremaining: 80.7ms\n",
      "143:\tlearn: 0.0227357\ttotal: 204ms\tremaining: 79.3ms\n",
      "144:\tlearn: 0.0227140\ttotal: 205ms\tremaining: 77.9ms\n",
      "145:\tlearn: 0.0226270\ttotal: 207ms\tremaining: 76.4ms\n",
      "146:\tlearn: 0.0225575\ttotal: 208ms\tremaining: 75.1ms\n",
      "147:\tlearn: 0.0224874\ttotal: 210ms\tremaining: 73.6ms\n",
      "148:\tlearn: 0.0223899\ttotal: 211ms\tremaining: 72.2ms\n",
      "149:\tlearn: 0.0223081\ttotal: 212ms\tremaining: 70.8ms\n",
      "150:\tlearn: 0.0222896\ttotal: 214ms\tremaining: 69.3ms\n",
      "151:\tlearn: 0.0222059\ttotal: 215ms\tremaining: 67.9ms\n",
      "152:\tlearn: 0.0221837\ttotal: 216ms\tremaining: 66.5ms\n",
      "153:\tlearn: 0.0221535\ttotal: 218ms\tremaining: 65.1ms\n",
      "154:\tlearn: 0.0221074\ttotal: 219ms\tremaining: 63.7ms\n",
      "155:\tlearn: 0.0220748\ttotal: 221ms\tremaining: 62.3ms\n",
      "156:\tlearn: 0.0220333\ttotal: 222ms\tremaining: 60.8ms\n",
      "157:\tlearn: 0.0219739\ttotal: 223ms\tremaining: 59.4ms\n",
      "158:\tlearn: 0.0219257\ttotal: 225ms\tremaining: 57.9ms\n",
      "159:\tlearn: 0.0218965\ttotal: 226ms\tremaining: 56.5ms\n",
      "160:\tlearn: 0.0218532\ttotal: 227ms\tremaining: 55.1ms\n",
      "161:\tlearn: 0.0218158\ttotal: 229ms\tremaining: 53.6ms\n",
      "162:\tlearn: 0.0217814\ttotal: 230ms\tremaining: 52.2ms\n",
      "163:\tlearn: 0.0217463\ttotal: 231ms\tremaining: 50.8ms\n",
      "164:\tlearn: 0.0217187\ttotal: 233ms\tremaining: 49.4ms\n",
      "165:\tlearn: 0.0216717\ttotal: 234ms\tremaining: 48ms\n",
      "166:\tlearn: 0.0216352\ttotal: 235ms\tremaining: 46.5ms\n",
      "167:\tlearn: 0.0215705\ttotal: 237ms\tremaining: 45.1ms\n",
      "168:\tlearn: 0.0215344\ttotal: 239ms\tremaining: 43.7ms\n",
      "169:\tlearn: 0.0214964\ttotal: 240ms\tremaining: 42.4ms\n",
      "170:\tlearn: 0.0214719\ttotal: 241ms\tremaining: 40.9ms\n",
      "171:\tlearn: 0.0214402\ttotal: 243ms\tremaining: 39.5ms\n",
      "172:\tlearn: 0.0214011\ttotal: 244ms\tremaining: 38.1ms\n",
      "173:\tlearn: 0.0213467\ttotal: 246ms\tremaining: 36.7ms\n",
      "174:\tlearn: 0.0213248\ttotal: 247ms\tremaining: 35.4ms\n",
      "175:\tlearn: 0.0212948\ttotal: 249ms\tremaining: 34ms\n",
      "176:\tlearn: 0.0212627\ttotal: 251ms\tremaining: 32.6ms\n",
      "177:\tlearn: 0.0212388\ttotal: 252ms\tremaining: 31.1ms\n",
      "178:\tlearn: 0.0212032\ttotal: 253ms\tremaining: 29.7ms\n",
      "179:\tlearn: 0.0211772\ttotal: 255ms\tremaining: 28.3ms\n",
      "180:\tlearn: 0.0211514\ttotal: 256ms\tremaining: 26.9ms\n",
      "181:\tlearn: 0.0211235\ttotal: 258ms\tremaining: 25.5ms\n",
      "182:\tlearn: 0.0210785\ttotal: 259ms\tremaining: 24.1ms\n",
      "183:\tlearn: 0.0210499\ttotal: 261ms\tremaining: 22.7ms\n",
      "184:\tlearn: 0.0210209\ttotal: 262ms\tremaining: 21.3ms\n",
      "185:\tlearn: 0.0209697\ttotal: 264ms\tremaining: 19.8ms\n",
      "186:\tlearn: 0.0209530\ttotal: 265ms\tremaining: 18.4ms\n",
      "187:\tlearn: 0.0209227\ttotal: 267ms\tremaining: 17ms\n",
      "188:\tlearn: 0.0209002\ttotal: 268ms\tremaining: 15.6ms\n",
      "189:\tlearn: 0.0208737\ttotal: 270ms\tremaining: 14.2ms\n",
      "190:\tlearn: 0.0208265\ttotal: 271ms\tremaining: 12.8ms\n",
      "191:\tlearn: 0.0208009\ttotal: 273ms\tremaining: 11.4ms\n",
      "192:\tlearn: 0.0207716\ttotal: 275ms\tremaining: 9.96ms\n",
      "193:\tlearn: 0.0207113\ttotal: 276ms\tremaining: 8.54ms\n",
      "194:\tlearn: 0.0206883\ttotal: 277ms\tremaining: 7.11ms\n",
      "195:\tlearn: 0.0206572\ttotal: 279ms\tremaining: 5.69ms\n",
      "196:\tlearn: 0.0206239\ttotal: 280ms\tremaining: 4.26ms\n",
      "197:\tlearn: 0.0205721\ttotal: 281ms\tremaining: 2.84ms\n",
      "198:\tlearn: 0.0205480\ttotal: 283ms\tremaining: 1.42ms\n",
      "199:\tlearn: 0.0205130\ttotal: 284ms\tremaining: 0us\n"
     ]
    },
    {
     "name": "stderr",
     "output_type": "stream",
     "text": [
      "2025/07/11 18:27:59 WARNING mlflow.models.model: Model logged without a signature and input example. Please set `input_example` parameter when logging the model to auto infer the model signature.\n"
     ]
    },
    {
     "name": "stdout",
     "output_type": "stream",
     "text": [
      "Model Performance on training set for CatBoostRegressor\n",
      "- Root MeanSquared Error: 0.0205\n",
      "- Mean Absolute Error: 0.0161\n",
      "- R2 Score: 0.9856\n",
      "\n",
      "\n",
      "Model Performance on test set for CatBoostRegressor\n",
      "- Root MeanSquared Error: 0.0271\n",
      "- Mean Absolute Error: 0.0198\n",
      "- R2 Score: 0.9748\n",
      "\n",
      "\n",
      "Best Parameters {'iterations': 200, 'learning_rate': 0.1}\n",
      "----------------------------------------------------------------\n",
      "🏃 View run CatBoostRegressor at: http://127.0.0.1:5000/#/experiments/649973813408310596/runs/32df004c26f2495bbe366fdeb504566a\n",
      "🧪 View experiment at: http://127.0.0.1:5000/#/experiments/649973813408310596\n"
     ]
    }
   ],
   "source": [
    "mlflow.set_experiment(\"Hyperparameter Tuning\")\n",
    "mlflow.set_tracking_uri(\"http://127.0.0.1:5000/\")\n",
    "for model_name, model in models.items():\n",
    "    with mlflow.start_run(run_name=model_name):\n",
    "        # Train model\n",
    "        grid = GridSearchCV(model,param_grid[model_name],cv=5,n_jobs=-1)\n",
    "        grid.fit(X_train,y_train)\n",
    "\n",
    "        # Get Best Model\n",
    "        best_model = grid.best_estimator_\n",
    "\n",
    "        \n",
    "        # Predict\n",
    "        y_train_pred = best_model.predict(X_train)\n",
    "        y_test_pred = best_model.predict(X_test)\n",
    "\n",
    "        # Evaluate\n",
    "        model_train_mae, model_train_rmse, model_train_r2 = evaluate_model(y_train, y_train_pred)\n",
    "        model_test_mae, model_test_rmse, model_test_r2 = evaluate_model(y_test, y_test_pred)\n",
    "\n",
    "        # Log metrics\n",
    "        mlflow.log_metrics({\n",
    "            \"train_mae\": model_train_mae,\n",
    "            \"train_rmse\": model_train_rmse,\n",
    "            \"train_r2\": model_train_r2,\n",
    "            \"test_mae\": model_test_mae,\n",
    "            \"test_rmse\": model_test_rmse,\n",
    "            \"test_r2\": model_test_r2\n",
    "        })\n",
    "\n",
    "        # Log params\n",
    "        mlflow.log_params(grid.best_params_)\n",
    "\n",
    "        # Log model\n",
    "        if model_name == \"XGBRegressor\":\n",
    "            mlflow.xgboost.log_model(best_model,model_name)\n",
    "        elif model_name == \"CatBoosting Regressor\":\n",
    "            mlflow.catboost.log_model(best_model, model_name)\n",
    "        else:\n",
    "            mlflow.sklearn.log_model(best_model, model_name)\n",
    "\n",
    "        # Print results to console\n",
    "        print(f\"Model Performance on training set for {model_name}\")\n",
    "        print('- Root MeanSquared Error: {:.4f}'.format(model_train_rmse))\n",
    "        print('- Mean Absolute Error: {:.4f}'.format(model_train_mae))\n",
    "        print('- R2 Score: {:.4f}'.format(model_train_r2))\n",
    "        print(\"\\n\")\n",
    "        print(f\"Model Performance on test set for {model_name}\")\n",
    "        print('- Root MeanSquared Error: {:.4f}'.format(model_test_rmse))\n",
    "        print('- Mean Absolute Error: {:.4f}'.format(model_test_mae))\n",
    "        print('- R2 Score: {:.4f}'.format(model_test_r2))\n",
    "        print(\"\\n\")\n",
    "        print(f\"Best Parameters {grid.best_params_}\")\n",
    "        print(\"----------------------------------------------------------------\")\n",
    "\n",
    "        # Saving Models \n",
    "        joblib.dump(best_model,f'{model_name}.pkl')"
   ]
  },
  {
   "cell_type": "raw",
   "id": "ad43b1d0-5334-491f-b2e8-c79f90227429",
   "metadata": {},
   "source": [
    "# 📌 Model Performance Comparison Summary:\n",
    "# The models were evaluated across three different training conditions:\n",
    "#   1. Training on clean (normal) data\n",
    "#   2. Training on noisy data\n",
    "#   3. Hyperparameter tuning on noisy data\n",
    "#\n",
    "# 🔍 Observation:\n",
    "# - All models experienced a drop in performance when trained on noisy data.\n",
    "# - Hyperparameter tuning significantly improved performance for all models on noisy data.\n",
    "# - XGBRegressor showed the best R² score after tuning (0.9752), slightly outperforming its clean-data baseline.\n",
    "# - CatBoostRegressor and RandomForestRegressor also performed robustly after tuning.\n",
    "# - KNeighborsRegressor, though sensitive to noise, regained most of its accuracy through tuning.\n",
    "#\n",
    "# ✅ Conclusion:\n",
    "# Hyperparameter tuning is a crucial step when dealing with noisy data, helping models regain or even improve performance lost due to data quality issues."
   ]
  },
  {
   "cell_type": "raw",
   "id": "0a9b83eb-da48-4e05-9289-ca25fe9db5aa",
   "metadata": {},
   "source": [
    "# 📊 Model Accuracy Comparison Table\n",
    "# Test Set Values\n",
    "# +------------------------+------------+------------+------------+------------+------------+------------+\n",
    "# | Model                 |   R² (Clean) | R² (Noisy) | R² (Tuned) | RMSE (Clean) | RMSE (Noisy) | RMSE (Tuned) |\n",
    "# +------------------------+------------+------------+------------+--------------+---------------+----------------+\n",
    "# | KNeighborsRegressor   |   0.9896    |   0.9181   |   0.9593   |   0.0193     |    0.0507     |    0.0347      |\n",
    "# | XGBRegressor          |   0.9623    |   0.9439   |   0.9752   |   0.0343     |    0.0412     |    0.0271      |\n",
    "# | RandomForestRegressor |   0.9698    |   0.9447   |   0.9712   |   0.0315     |    0.0407     |    0.0292      |\n",
    "# | CatBoostRegressor     |   0.9703    |   0.9428   |   0.9741   |   0.0312     |    0.0416     |    0.0277      |\n",
    "# +------------------------+------------+------------+------------+--------------+---------------+----------------+\n",
    "\n",
    "# MAE values (Tuned models only) for further reference:\n",
    "# KNeighborsRegressor   - 0.0239\n",
    "# XGBRegressor          - 0.0202\n",
    "# RandomForestRegressor - 0.0208\n",
    "# CatBoostRegressor     - 0.0199\n"
   ]
  },
  {
   "cell_type": "code",
   "execution_count": null,
   "id": "870dfe2f-405b-43f3-b94b-fe70440c270c",
   "metadata": {},
   "outputs": [],
   "source": []
  },
  {
   "cell_type": "code",
   "execution_count": null,
   "id": "755bb1b9-c520-4a86-9910-8db48cfb2cb8",
   "metadata": {},
   "outputs": [],
   "source": []
  },
  {
   "cell_type": "code",
   "execution_count": null,
   "id": "ab73d48d-7e7d-40ec-91fc-cd93de0e487b",
   "metadata": {},
   "outputs": [],
   "source": []
  },
  {
   "cell_type": "code",
   "execution_count": null,
   "id": "9d6c0999-de19-4e2c-8bda-3c5bc1e0303e",
   "metadata": {},
   "outputs": [],
   "source": []
  },
  {
   "cell_type": "code",
   "execution_count": null,
   "id": "2854af3d-7eaf-4892-8ccf-24da4590cea0",
   "metadata": {},
   "outputs": [],
   "source": []
  },
  {
   "cell_type": "code",
   "execution_count": null,
   "id": "cf834e9d-53b2-4d10-8e4a-e6d61808e561",
   "metadata": {},
   "outputs": [],
   "source": []
  }
 ],
 "metadata": {
  "kernelspec": {
   "display_name": "Python (dietenv)",
   "language": "python",
   "name": "dietenv"
  },
  "language_info": {
   "codemirror_mode": {
    "name": "ipython",
    "version": 3
   },
   "file_extension": ".py",
   "mimetype": "text/x-python",
   "name": "python",
   "nbconvert_exporter": "python",
   "pygments_lexer": "ipython3",
   "version": "3.10.18"
  }
 },
 "nbformat": 4,
 "nbformat_minor": 5
}
