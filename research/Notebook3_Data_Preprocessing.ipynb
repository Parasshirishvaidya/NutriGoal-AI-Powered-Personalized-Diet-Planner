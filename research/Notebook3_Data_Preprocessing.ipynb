{
 "cells": [
  {
   "cell_type": "markdown",
   "id": "0785032e-bb09-4980-97c2-2bf7388468bf",
   "metadata": {},
   "source": [
    "# Data Preprocessing"
   ]
  },
  {
   "cell_type": "code",
   "execution_count": 332,
   "id": "9ad438dc-d584-4f56-903b-eabbdee9ef01",
   "metadata": {},
   "outputs": [],
   "source": [
    "import numpy as np \n",
    "import pandas as pd"
   ]
  },
  {
   "cell_type": "code",
   "execution_count": 333,
   "id": "b012d44e-6936-4046-b439-b4e1d65ba072",
   "metadata": {},
   "outputs": [],
   "source": [
    "df = pd.read_csv(\"dataset1_filtering_done.csv\")"
   ]
  },
  {
   "cell_type": "code",
   "execution_count": 334,
   "id": "403aa13b-e243-442e-b575-44e24f8f4514",
   "metadata": {},
   "outputs": [
    {
     "data": {
      "text/html": [
       "<div>\n",
       "<style scoped>\n",
       "    .dataframe tbody tr th:only-of-type {\n",
       "        vertical-align: middle;\n",
       "    }\n",
       "\n",
       "    .dataframe tbody tr th {\n",
       "        vertical-align: top;\n",
       "    }\n",
       "\n",
       "    .dataframe thead th {\n",
       "        text-align: right;\n",
       "    }\n",
       "</style>\n",
       "<table border=\"1\" class=\"dataframe\">\n",
       "  <thead>\n",
       "    <tr style=\"text-align: right;\">\n",
       "      <th></th>\n",
       "      <th>Unnamed: 0</th>\n",
       "      <th>Category</th>\n",
       "      <th>Description</th>\n",
       "      <th>carbs</th>\n",
       "      <th>protein</th>\n",
       "      <th>fat</th>\n",
       "      <th>fiber</th>\n",
       "      <th>calories</th>\n",
       "      <th>goal_tag</th>\n",
       "      <th>diet_type</th>\n",
       "    </tr>\n",
       "  </thead>\n",
       "  <tbody>\n",
       "    <tr>\n",
       "      <th>0</th>\n",
       "      <td>0</td>\n",
       "      <td>milk</td>\n",
       "      <td>milk, nfs</td>\n",
       "      <td>4.87</td>\n",
       "      <td>3.34</td>\n",
       "      <td>1.99</td>\n",
       "      <td>0.0</td>\n",
       "      <td>50.75</td>\n",
       "      <td>weight_loss</td>\n",
       "      <td>veg</td>\n",
       "    </tr>\n",
       "    <tr>\n",
       "      <th>1</th>\n",
       "      <td>1</td>\n",
       "      <td>milk</td>\n",
       "      <td>milk, whole</td>\n",
       "      <td>4.67</td>\n",
       "      <td>3.28</td>\n",
       "      <td>3.20</td>\n",
       "      <td>0.0</td>\n",
       "      <td>60.60</td>\n",
       "      <td>weight_loss</td>\n",
       "      <td>veg</td>\n",
       "    </tr>\n",
       "    <tr>\n",
       "      <th>2</th>\n",
       "      <td>2</td>\n",
       "      <td>milk</td>\n",
       "      <td>milk, low sodium, whole</td>\n",
       "      <td>4.46</td>\n",
       "      <td>3.10</td>\n",
       "      <td>3.46</td>\n",
       "      <td>0.0</td>\n",
       "      <td>61.38</td>\n",
       "      <td>weight_loss</td>\n",
       "      <td>veg</td>\n",
       "    </tr>\n",
       "    <tr>\n",
       "      <th>3</th>\n",
       "      <td>3</td>\n",
       "      <td>milk</td>\n",
       "      <td>milk, calcium fortified, whole</td>\n",
       "      <td>4.67</td>\n",
       "      <td>3.28</td>\n",
       "      <td>3.20</td>\n",
       "      <td>0.0</td>\n",
       "      <td>60.60</td>\n",
       "      <td>weight_loss</td>\n",
       "      <td>veg</td>\n",
       "    </tr>\n",
       "    <tr>\n",
       "      <th>4</th>\n",
       "      <td>4</td>\n",
       "      <td>milk</td>\n",
       "      <td>milk, calcium fortified, low fat (1%)</td>\n",
       "      <td>5.19</td>\n",
       "      <td>3.38</td>\n",
       "      <td>0.95</td>\n",
       "      <td>0.0</td>\n",
       "      <td>42.83</td>\n",
       "      <td>weight_loss</td>\n",
       "      <td>veg</td>\n",
       "    </tr>\n",
       "  </tbody>\n",
       "</table>\n",
       "</div>"
      ],
      "text/plain": [
       "   Unnamed: 0 Category                            Description  carbs  protein  \\\n",
       "0           0     milk                              milk, nfs   4.87     3.34   \n",
       "1           1     milk                            milk, whole   4.67     3.28   \n",
       "2           2     milk                milk, low sodium, whole   4.46     3.10   \n",
       "3           3     milk         milk, calcium fortified, whole   4.67     3.28   \n",
       "4           4     milk  milk, calcium fortified, low fat (1%)   5.19     3.38   \n",
       "\n",
       "    fat  fiber  calories     goal_tag diet_type  \n",
       "0  1.99    0.0     50.75  weight_loss       veg  \n",
       "1  3.20    0.0     60.60  weight_loss       veg  \n",
       "2  3.46    0.0     61.38  weight_loss       veg  \n",
       "3  3.20    0.0     60.60  weight_loss       veg  \n",
       "4  0.95    0.0     42.83  weight_loss       veg  "
      ]
     },
     "execution_count": 334,
     "metadata": {},
     "output_type": "execute_result"
    }
   ],
   "source": [
    "df.head()"
   ]
  },
  {
   "cell_type": "code",
   "execution_count": 335,
   "id": "a4295a93-52fe-48f0-b485-4553faffff3f",
   "metadata": {},
   "outputs": [],
   "source": [
    "### Checking for null values"
   ]
  },
  {
   "cell_type": "code",
   "execution_count": 336,
   "id": "b08953d6-b001-4ef9-9585-47394619255e",
   "metadata": {},
   "outputs": [
    {
     "data": {
      "text/plain": [
       "Unnamed: 0     0\n",
       "Category       0\n",
       "Description    0\n",
       "carbs          0\n",
       "protein        0\n",
       "fat            0\n",
       "fiber          0\n",
       "calories       0\n",
       "goal_tag       0\n",
       "diet_type      0\n",
       "dtype: int64"
      ]
     },
     "execution_count": 336,
     "metadata": {},
     "output_type": "execute_result"
    }
   ],
   "source": [
    "df.isnull().sum()"
   ]
  },
  {
   "cell_type": "markdown",
   "id": "cf568692-8cd8-4a40-8257-bef1fa38c5cc",
   "metadata": {},
   "source": [
    "## Handling Category column "
   ]
  },
  {
   "cell_type": "code",
   "execution_count": 338,
   "id": "3419e25d-5aa5-4916-9bb0-8a8428b2a8d7",
   "metadata": {},
   "outputs": [],
   "source": [
    "df.drop(df.columns[0],axis=1,inplace=True)"
   ]
  },
  {
   "cell_type": "code",
   "execution_count": 339,
   "id": "954587f7-4397-4cd7-bd67-80e9a3b14c79",
   "metadata": {},
   "outputs": [
    {
     "data": {
      "text/plain": [
       "Category\n",
       "rice                                                        142\n",
       "bread                                                       119\n",
       "potato                                                      105\n",
       "cookie                                                      100\n",
       "coffee                                                       91\n",
       "                                                           ... \n",
       "veal fricassee                                                1\n",
       "banana split                                                  1\n",
       "veal stew with potatoes and vegetables including carrots      1\n",
       "soft serve                                                    1\n",
       "dark-green leafy vegetable soup with meat                     1\n",
       "Name: count, Length: 2294, dtype: int64"
      ]
     },
     "execution_count": 339,
     "metadata": {},
     "output_type": "execute_result"
    }
   ],
   "source": [
    "df[\"Category\"].value_counts()"
   ]
  },
  {
   "cell_type": "code",
   "execution_count": 340,
   "id": "7bdffccc-b7c4-46e1-949b-c999645fdaa3",
   "metadata": {},
   "outputs": [
    {
     "data": {
      "text/html": [
       "<div>\n",
       "<style scoped>\n",
       "    .dataframe tbody tr th:only-of-type {\n",
       "        vertical-align: middle;\n",
       "    }\n",
       "\n",
       "    .dataframe tbody tr th {\n",
       "        vertical-align: top;\n",
       "    }\n",
       "\n",
       "    .dataframe thead th {\n",
       "        text-align: right;\n",
       "    }\n",
       "</style>\n",
       "<table border=\"1\" class=\"dataframe\">\n",
       "  <thead>\n",
       "    <tr style=\"text-align: right;\">\n",
       "      <th></th>\n",
       "      <th>Category</th>\n",
       "      <th>Description</th>\n",
       "      <th>carbs</th>\n",
       "      <th>protein</th>\n",
       "      <th>fat</th>\n",
       "      <th>fiber</th>\n",
       "      <th>calories</th>\n",
       "      <th>goal_tag</th>\n",
       "      <th>diet_type</th>\n",
       "    </tr>\n",
       "  </thead>\n",
       "  <tbody>\n",
       "    <tr>\n",
       "      <th>0</th>\n",
       "      <td>milk</td>\n",
       "      <td>milk, nfs</td>\n",
       "      <td>4.87</td>\n",
       "      <td>3.34</td>\n",
       "      <td>1.99</td>\n",
       "      <td>0.0</td>\n",
       "      <td>50.75</td>\n",
       "      <td>weight_loss</td>\n",
       "      <td>veg</td>\n",
       "    </tr>\n",
       "    <tr>\n",
       "      <th>1</th>\n",
       "      <td>milk</td>\n",
       "      <td>milk, whole</td>\n",
       "      <td>4.67</td>\n",
       "      <td>3.28</td>\n",
       "      <td>3.20</td>\n",
       "      <td>0.0</td>\n",
       "      <td>60.60</td>\n",
       "      <td>weight_loss</td>\n",
       "      <td>veg</td>\n",
       "    </tr>\n",
       "    <tr>\n",
       "      <th>2</th>\n",
       "      <td>milk</td>\n",
       "      <td>milk, low sodium, whole</td>\n",
       "      <td>4.46</td>\n",
       "      <td>3.10</td>\n",
       "      <td>3.46</td>\n",
       "      <td>0.0</td>\n",
       "      <td>61.38</td>\n",
       "      <td>weight_loss</td>\n",
       "      <td>veg</td>\n",
       "    </tr>\n",
       "    <tr>\n",
       "      <th>3</th>\n",
       "      <td>milk</td>\n",
       "      <td>milk, calcium fortified, whole</td>\n",
       "      <td>4.67</td>\n",
       "      <td>3.28</td>\n",
       "      <td>3.20</td>\n",
       "      <td>0.0</td>\n",
       "      <td>60.60</td>\n",
       "      <td>weight_loss</td>\n",
       "      <td>veg</td>\n",
       "    </tr>\n",
       "    <tr>\n",
       "      <th>4</th>\n",
       "      <td>milk</td>\n",
       "      <td>milk, calcium fortified, low fat (1%)</td>\n",
       "      <td>5.19</td>\n",
       "      <td>3.38</td>\n",
       "      <td>0.95</td>\n",
       "      <td>0.0</td>\n",
       "      <td>42.83</td>\n",
       "      <td>weight_loss</td>\n",
       "      <td>veg</td>\n",
       "    </tr>\n",
       "  </tbody>\n",
       "</table>\n",
       "</div>"
      ],
      "text/plain": [
       "  Category                            Description  carbs  protein   fat  \\\n",
       "0     milk                              milk, nfs   4.87     3.34  1.99   \n",
       "1     milk                            milk, whole   4.67     3.28  3.20   \n",
       "2     milk                milk, low sodium, whole   4.46     3.10  3.46   \n",
       "3     milk         milk, calcium fortified, whole   4.67     3.28  3.20   \n",
       "4     milk  milk, calcium fortified, low fat (1%)   5.19     3.38  0.95   \n",
       "\n",
       "   fiber  calories     goal_tag diet_type  \n",
       "0    0.0     50.75  weight_loss       veg  \n",
       "1    0.0     60.60  weight_loss       veg  \n",
       "2    0.0     61.38  weight_loss       veg  \n",
       "3    0.0     60.60  weight_loss       veg  \n",
       "4    0.0     42.83  weight_loss       veg  "
      ]
     },
     "execution_count": 340,
     "metadata": {},
     "output_type": "execute_result"
    }
   ],
   "source": [
    "df.head()"
   ]
  },
  {
   "cell_type": "markdown",
   "id": "f5c9d817-08ba-4b03-8ce9-f10419bfad0e",
   "metadata": {},
   "source": [
    "So our categorical column is spread out in such a way that some categories have a lot of items eg rice has  142 items , Wheresas\n",
    "some categories have as low as one item eg Supplements .\n",
    "But there are some high value categories that has been manually added by me that werent in the dataset before eg Supplements and it is vital to a balanced vegeratian diet ."
   ]
  },
  {
   "cell_type": "markdown",
   "id": "a4382045-1f44-465c-9bd0-25d403a5a7dd",
   "metadata": {},
   "source": [
    "## The Plan: -\n",
    "The plan is we are going to perform frequency encoding to categorical column. Therefore each category will be represented by their frequency.\n",
    "For the scaresly populated categories we will drop it.\n",
    "BUT we will be leaving important categories such as Supplements , Plant Protein and Dairy as it is sine it is vital information for the model"
   ]
  },
  {
   "cell_type": "code",
   "execution_count": 343,
   "id": "8f27985d-8ac7-43cc-896b-a2f770b8119b",
   "metadata": {},
   "outputs": [],
   "source": [
    "important_scarse_categories = [\n",
    "    \"Dairy\",\n",
    "    \"Plant Protein\",\n",
    "    \"Supplements\" \n",
    "]"
   ]
  },
  {
   "cell_type": "code",
   "execution_count": 344,
   "id": "dcb7fbe9-2dca-4faf-8e87-9197a729626b",
   "metadata": {},
   "outputs": [],
   "source": [
    "category_counts = df[\"Category\"].value_counts()\n",
    "\n",
    "rare_categories = category_counts[\n",
    "    (category_counts < 10) & (~category_counts.index.isin(important_scarse_categories))\n",
    "].index"
   ]
  },
  {
   "cell_type": "code",
   "execution_count": 345,
   "id": "9d46c6af-5760-4c44-af3b-31467fa9814a",
   "metadata": {},
   "outputs": [],
   "source": [
    "df.drop(df[df[\"Category\"].isin(rare_categories)].index,inplace=True)"
   ]
  },
  {
   "cell_type": "code",
   "execution_count": 346,
   "id": "8604cad3-6219-4b9d-bd25-f622da538cb3",
   "metadata": {},
   "outputs": [
    {
     "data": {
      "text/plain": [
       "Category\n",
       "tortilla chips           10\n",
       "tortellini               10\n",
       "pizza with pepperoni     10\n",
       "potato salad with egg    10\n",
       "fruit juice drink        10\n",
       "water                    10\n",
       "energy drink             10\n",
       "Plant Protein             2\n",
       "Supplements               1\n",
       "Dairy                     1\n",
       "Name: count, dtype: int64"
      ]
     },
     "execution_count": 346,
     "metadata": {},
     "output_type": "execute_result"
    }
   ],
   "source": [
    "df[\"Category\"].value_counts().tail(10)"
   ]
  },
  {
   "cell_type": "markdown",
   "id": "157f66c2-3f7c-4f19-ac03-1209f03922d4",
   "metadata": {},
   "source": [
    "Categories less that 10 entries dropped but left the important categories"
   ]
  },
  {
   "cell_type": "code",
   "execution_count": 348,
   "id": "2f80f30d-9326-4edf-bc2e-6d0ddeb407f2",
   "metadata": {},
   "outputs": [
    {
     "data": {
      "text/html": [
       "<div>\n",
       "<style scoped>\n",
       "    .dataframe tbody tr th:only-of-type {\n",
       "        vertical-align: middle;\n",
       "    }\n",
       "\n",
       "    .dataframe tbody tr th {\n",
       "        vertical-align: top;\n",
       "    }\n",
       "\n",
       "    .dataframe thead th {\n",
       "        text-align: right;\n",
       "    }\n",
       "</style>\n",
       "<table border=\"1\" class=\"dataframe\">\n",
       "  <thead>\n",
       "    <tr style=\"text-align: right;\">\n",
       "      <th></th>\n",
       "      <th>Category</th>\n",
       "      <th>Description</th>\n",
       "      <th>carbs</th>\n",
       "      <th>protein</th>\n",
       "      <th>fat</th>\n",
       "      <th>fiber</th>\n",
       "      <th>calories</th>\n",
       "      <th>goal_tag</th>\n",
       "      <th>diet_type</th>\n",
       "    </tr>\n",
       "  </thead>\n",
       "  <tbody>\n",
       "    <tr>\n",
       "      <th>0</th>\n",
       "      <td>milk</td>\n",
       "      <td>milk, nfs</td>\n",
       "      <td>4.87</td>\n",
       "      <td>3.34</td>\n",
       "      <td>1.99</td>\n",
       "      <td>0.0</td>\n",
       "      <td>50.75</td>\n",
       "      <td>weight_loss</td>\n",
       "      <td>veg</td>\n",
       "    </tr>\n",
       "    <tr>\n",
       "      <th>1</th>\n",
       "      <td>milk</td>\n",
       "      <td>milk, whole</td>\n",
       "      <td>4.67</td>\n",
       "      <td>3.28</td>\n",
       "      <td>3.20</td>\n",
       "      <td>0.0</td>\n",
       "      <td>60.60</td>\n",
       "      <td>weight_loss</td>\n",
       "      <td>veg</td>\n",
       "    </tr>\n",
       "    <tr>\n",
       "      <th>2</th>\n",
       "      <td>milk</td>\n",
       "      <td>milk, low sodium, whole</td>\n",
       "      <td>4.46</td>\n",
       "      <td>3.10</td>\n",
       "      <td>3.46</td>\n",
       "      <td>0.0</td>\n",
       "      <td>61.38</td>\n",
       "      <td>weight_loss</td>\n",
       "      <td>veg</td>\n",
       "    </tr>\n",
       "    <tr>\n",
       "      <th>3</th>\n",
       "      <td>milk</td>\n",
       "      <td>milk, calcium fortified, whole</td>\n",
       "      <td>4.67</td>\n",
       "      <td>3.28</td>\n",
       "      <td>3.20</td>\n",
       "      <td>0.0</td>\n",
       "      <td>60.60</td>\n",
       "      <td>weight_loss</td>\n",
       "      <td>veg</td>\n",
       "    </tr>\n",
       "    <tr>\n",
       "      <th>4</th>\n",
       "      <td>milk</td>\n",
       "      <td>milk, calcium fortified, low fat (1%)</td>\n",
       "      <td>5.19</td>\n",
       "      <td>3.38</td>\n",
       "      <td>0.95</td>\n",
       "      <td>0.0</td>\n",
       "      <td>42.83</td>\n",
       "      <td>weight_loss</td>\n",
       "      <td>veg</td>\n",
       "    </tr>\n",
       "  </tbody>\n",
       "</table>\n",
       "</div>"
      ],
      "text/plain": [
       "  Category                            Description  carbs  protein   fat  \\\n",
       "0     milk                              milk, nfs   4.87     3.34  1.99   \n",
       "1     milk                            milk, whole   4.67     3.28  3.20   \n",
       "2     milk                milk, low sodium, whole   4.46     3.10  3.46   \n",
       "3     milk         milk, calcium fortified, whole   4.67     3.28  3.20   \n",
       "4     milk  milk, calcium fortified, low fat (1%)   5.19     3.38  0.95   \n",
       "\n",
       "   fiber  calories     goal_tag diet_type  \n",
       "0    0.0     50.75  weight_loss       veg  \n",
       "1    0.0     60.60  weight_loss       veg  \n",
       "2    0.0     61.38  weight_loss       veg  \n",
       "3    0.0     60.60  weight_loss       veg  \n",
       "4    0.0     42.83  weight_loss       veg  "
      ]
     },
     "execution_count": 348,
     "metadata": {},
     "output_type": "execute_result"
    }
   ],
   "source": [
    "df.head()"
   ]
  },
  {
   "cell_type": "markdown",
   "id": "093e3512-0955-4d7d-90bb-96fe9b25ea7c",
   "metadata": {},
   "source": [
    "### Standardizing Numerical Columns\n",
    "using StandardScaler"
   ]
  },
  {
   "cell_type": "code",
   "execution_count": 350,
   "id": "3222aa20-d2ac-42cc-be7a-10b1a46cf7b7",
   "metadata": {},
   "outputs": [],
   "source": [
    "from sklearn.preprocessing import StandardScaler"
   ]
  },
  {
   "cell_type": "code",
   "execution_count": 351,
   "id": "52e229cd-1a13-4472-bd14-af9fbdfbd6a7",
   "metadata": {},
   "outputs": [],
   "source": [
    "scaler = StandardScaler()"
   ]
  },
  {
   "cell_type": "code",
   "execution_count": 352,
   "id": "a605f83b-9214-4d68-af5d-71afbac2c20d",
   "metadata": {},
   "outputs": [],
   "source": [
    "num_cols = [\"carbs\",\"protein\",\"fat\",\"fiber\",\"calories\"]\n",
    "df[num_cols] = scaler.fit_transform(df[num_cols])"
   ]
  },
  {
   "cell_type": "code",
   "execution_count": 353,
   "id": "f1ef64ef-0a7b-4b32-bb59-6fcbce042a68",
   "metadata": {},
   "outputs": [
    {
     "data": {
      "text/html": [
       "<div>\n",
       "<style scoped>\n",
       "    .dataframe tbody tr th:only-of-type {\n",
       "        vertical-align: middle;\n",
       "    }\n",
       "\n",
       "    .dataframe tbody tr th {\n",
       "        vertical-align: top;\n",
       "    }\n",
       "\n",
       "    .dataframe thead th {\n",
       "        text-align: right;\n",
       "    }\n",
       "</style>\n",
       "<table border=\"1\" class=\"dataframe\">\n",
       "  <thead>\n",
       "    <tr style=\"text-align: right;\">\n",
       "      <th></th>\n",
       "      <th>Category</th>\n",
       "      <th>Description</th>\n",
       "      <th>carbs</th>\n",
       "      <th>protein</th>\n",
       "      <th>fat</th>\n",
       "      <th>fiber</th>\n",
       "      <th>calories</th>\n",
       "      <th>goal_tag</th>\n",
       "      <th>diet_type</th>\n",
       "    </tr>\n",
       "  </thead>\n",
       "  <tbody>\n",
       "    <tr>\n",
       "      <th>0</th>\n",
       "      <td>milk</td>\n",
       "      <td>milk, nfs</td>\n",
       "      <td>-0.803888</td>\n",
       "      <td>-0.708719</td>\n",
       "      <td>-0.802787</td>\n",
       "      <td>-0.756657</td>\n",
       "      <td>-1.161451</td>\n",
       "      <td>weight_loss</td>\n",
       "      <td>veg</td>\n",
       "    </tr>\n",
       "    <tr>\n",
       "      <th>1</th>\n",
       "      <td>milk</td>\n",
       "      <td>milk, whole</td>\n",
       "      <td>-0.812894</td>\n",
       "      <td>-0.715474</td>\n",
       "      <td>-0.657086</td>\n",
       "      <td>-0.756657</td>\n",
       "      <td>-1.088393</td>\n",
       "      <td>weight_loss</td>\n",
       "      <td>veg</td>\n",
       "    </tr>\n",
       "    <tr>\n",
       "      <th>2</th>\n",
       "      <td>milk</td>\n",
       "      <td>milk, low sodium, whole</td>\n",
       "      <td>-0.822350</td>\n",
       "      <td>-0.735738</td>\n",
       "      <td>-0.625779</td>\n",
       "      <td>-0.756657</td>\n",
       "      <td>-1.082608</td>\n",
       "      <td>weight_loss</td>\n",
       "      <td>veg</td>\n",
       "    </tr>\n",
       "    <tr>\n",
       "      <th>3</th>\n",
       "      <td>milk</td>\n",
       "      <td>milk, calcium fortified, whole</td>\n",
       "      <td>-0.812894</td>\n",
       "      <td>-0.715474</td>\n",
       "      <td>-0.657086</td>\n",
       "      <td>-0.756657</td>\n",
       "      <td>-1.088393</td>\n",
       "      <td>weight_loss</td>\n",
       "      <td>veg</td>\n",
       "    </tr>\n",
       "    <tr>\n",
       "      <th>4</th>\n",
       "      <td>milk</td>\n",
       "      <td>milk, calcium fortified, low fat (1%)</td>\n",
       "      <td>-0.789478</td>\n",
       "      <td>-0.704216</td>\n",
       "      <td>-0.928017</td>\n",
       "      <td>-0.756657</td>\n",
       "      <td>-1.220195</td>\n",
       "      <td>weight_loss</td>\n",
       "      <td>veg</td>\n",
       "    </tr>\n",
       "  </tbody>\n",
       "</table>\n",
       "</div>"
      ],
      "text/plain": [
       "  Category                            Description     carbs   protein  \\\n",
       "0     milk                              milk, nfs -0.803888 -0.708719   \n",
       "1     milk                            milk, whole -0.812894 -0.715474   \n",
       "2     milk                milk, low sodium, whole -0.822350 -0.735738   \n",
       "3     milk         milk, calcium fortified, whole -0.812894 -0.715474   \n",
       "4     milk  milk, calcium fortified, low fat (1%) -0.789478 -0.704216   \n",
       "\n",
       "        fat     fiber  calories     goal_tag diet_type  \n",
       "0 -0.802787 -0.756657 -1.161451  weight_loss       veg  \n",
       "1 -0.657086 -0.756657 -1.088393  weight_loss       veg  \n",
       "2 -0.625779 -0.756657 -1.082608  weight_loss       veg  \n",
       "3 -0.657086 -0.756657 -1.088393  weight_loss       veg  \n",
       "4 -0.928017 -0.756657 -1.220195  weight_loss       veg  "
      ]
     },
     "execution_count": 353,
     "metadata": {},
     "output_type": "execute_result"
    }
   ],
   "source": [
    "df.head()"
   ]
  },
  {
   "cell_type": "markdown",
   "id": "e5501783-6b1b-4a26-9123-7522d3fd0c8a",
   "metadata": {},
   "source": [
    "### Encoding Categorical Data"
   ]
  },
  {
   "cell_type": "code",
   "execution_count": 355,
   "id": "2ae9fb29-efbc-41b4-a560-22e63435b09c",
   "metadata": {},
   "outputs": [],
   "source": [
    "from sklearn.preprocessing import LabelEncoder"
   ]
  },
  {
   "cell_type": "code",
   "execution_count": 356,
   "id": "1f89a82b-0e4c-40ef-96a0-a7137fd5817b",
   "metadata": {},
   "outputs": [],
   "source": [
    "le_goal = LabelEncoder()\n",
    "le_diet = LabelEncoder()"
   ]
  },
  {
   "cell_type": "code",
   "execution_count": 357,
   "id": "52a7ebe9-79ef-4344-808e-cdf89ee82e70",
   "metadata": {},
   "outputs": [],
   "source": [
    "df[\"goal_tag\"] = le_goal.fit_transform(df[\"goal_tag\"])\n",
    "df[\"diet_type\"] = le_diet.fit_transform(df[\"diet_type\"])"
   ]
  },
  {
   "cell_type": "code",
   "execution_count": 358,
   "id": "e3175058-b045-4938-8a11-649405301f06",
   "metadata": {},
   "outputs": [
    {
     "data": {
      "text/html": [
       "<div>\n",
       "<style scoped>\n",
       "    .dataframe tbody tr th:only-of-type {\n",
       "        vertical-align: middle;\n",
       "    }\n",
       "\n",
       "    .dataframe tbody tr th {\n",
       "        vertical-align: top;\n",
       "    }\n",
       "\n",
       "    .dataframe thead th {\n",
       "        text-align: right;\n",
       "    }\n",
       "</style>\n",
       "<table border=\"1\" class=\"dataframe\">\n",
       "  <thead>\n",
       "    <tr style=\"text-align: right;\">\n",
       "      <th></th>\n",
       "      <th>Category</th>\n",
       "      <th>Description</th>\n",
       "      <th>carbs</th>\n",
       "      <th>protein</th>\n",
       "      <th>fat</th>\n",
       "      <th>fiber</th>\n",
       "      <th>calories</th>\n",
       "      <th>goal_tag</th>\n",
       "      <th>diet_type</th>\n",
       "    </tr>\n",
       "  </thead>\n",
       "  <tbody>\n",
       "    <tr>\n",
       "      <th>0</th>\n",
       "      <td>milk</td>\n",
       "      <td>milk, nfs</td>\n",
       "      <td>-0.803888</td>\n",
       "      <td>-0.708719</td>\n",
       "      <td>-0.802787</td>\n",
       "      <td>-0.756657</td>\n",
       "      <td>-1.161451</td>\n",
       "      <td>4</td>\n",
       "      <td>1</td>\n",
       "    </tr>\n",
       "    <tr>\n",
       "      <th>1</th>\n",
       "      <td>milk</td>\n",
       "      <td>milk, whole</td>\n",
       "      <td>-0.812894</td>\n",
       "      <td>-0.715474</td>\n",
       "      <td>-0.657086</td>\n",
       "      <td>-0.756657</td>\n",
       "      <td>-1.088393</td>\n",
       "      <td>4</td>\n",
       "      <td>1</td>\n",
       "    </tr>\n",
       "    <tr>\n",
       "      <th>2</th>\n",
       "      <td>milk</td>\n",
       "      <td>milk, low sodium, whole</td>\n",
       "      <td>-0.822350</td>\n",
       "      <td>-0.735738</td>\n",
       "      <td>-0.625779</td>\n",
       "      <td>-0.756657</td>\n",
       "      <td>-1.082608</td>\n",
       "      <td>4</td>\n",
       "      <td>1</td>\n",
       "    </tr>\n",
       "    <tr>\n",
       "      <th>3</th>\n",
       "      <td>milk</td>\n",
       "      <td>milk, calcium fortified, whole</td>\n",
       "      <td>-0.812894</td>\n",
       "      <td>-0.715474</td>\n",
       "      <td>-0.657086</td>\n",
       "      <td>-0.756657</td>\n",
       "      <td>-1.088393</td>\n",
       "      <td>4</td>\n",
       "      <td>1</td>\n",
       "    </tr>\n",
       "    <tr>\n",
       "      <th>4</th>\n",
       "      <td>milk</td>\n",
       "      <td>milk, calcium fortified, low fat (1%)</td>\n",
       "      <td>-0.789478</td>\n",
       "      <td>-0.704216</td>\n",
       "      <td>-0.928017</td>\n",
       "      <td>-0.756657</td>\n",
       "      <td>-1.220195</td>\n",
       "      <td>4</td>\n",
       "      <td>1</td>\n",
       "    </tr>\n",
       "  </tbody>\n",
       "</table>\n",
       "</div>"
      ],
      "text/plain": [
       "  Category                            Description     carbs   protein  \\\n",
       "0     milk                              milk, nfs -0.803888 -0.708719   \n",
       "1     milk                            milk, whole -0.812894 -0.715474   \n",
       "2     milk                milk, low sodium, whole -0.822350 -0.735738   \n",
       "3     milk         milk, calcium fortified, whole -0.812894 -0.715474   \n",
       "4     milk  milk, calcium fortified, low fat (1%) -0.789478 -0.704216   \n",
       "\n",
       "        fat     fiber  calories  goal_tag  diet_type  \n",
       "0 -0.802787 -0.756657 -1.161451         4          1  \n",
       "1 -0.657086 -0.756657 -1.088393         4          1  \n",
       "2 -0.625779 -0.756657 -1.082608         4          1  \n",
       "3 -0.657086 -0.756657 -1.088393         4          1  \n",
       "4 -0.928017 -0.756657 -1.220195         4          1  "
      ]
     },
     "execution_count": 358,
     "metadata": {},
     "output_type": "execute_result"
    }
   ],
   "source": [
    "df.head()"
   ]
  },
  {
   "cell_type": "code",
   "execution_count": 359,
   "id": "c792643c-0674-4bf0-addc-7686976bb2eb",
   "metadata": {},
   "outputs": [],
   "source": [
    "df.to_csv(\"dataset2_preprocessing_done.csv\")"
   ]
  },
  {
   "cell_type": "code",
   "execution_count": null,
   "id": "cf28d5cd-0069-4e63-88a5-aa89c09c346b",
   "metadata": {},
   "outputs": [],
   "source": []
  },
  {
   "cell_type": "code",
   "execution_count": null,
   "id": "70c548e2-552d-4350-b85a-d04b68cf2811",
   "metadata": {},
   "outputs": [],
   "source": []
  },
  {
   "cell_type": "code",
   "execution_count": null,
   "id": "5d85430a-0a67-4fd6-835a-4fc09d65d4fb",
   "metadata": {},
   "outputs": [],
   "source": []
  },
  {
   "cell_type": "code",
   "execution_count": null,
   "id": "d9d29b1f-acb6-40b2-9a18-57ccc58d53c3",
   "metadata": {},
   "outputs": [],
   "source": []
  },
  {
   "cell_type": "code",
   "execution_count": null,
   "id": "b50aa9dd-fb10-4a75-92f7-4d929fe3d931",
   "metadata": {},
   "outputs": [],
   "source": []
  },
  {
   "cell_type": "code",
   "execution_count": null,
   "id": "e1f9033f-226a-4a8f-9f26-ffd5045ef326",
   "metadata": {},
   "outputs": [],
   "source": []
  }
 ],
 "metadata": {
  "kernelspec": {
   "display_name": "Python (dietenv)",
   "language": "python",
   "name": "dietenv"
  },
  "language_info": {
   "codemirror_mode": {
    "name": "ipython",
    "version": 3
   },
   "file_extension": ".py",
   "mimetype": "text/x-python",
   "name": "python",
   "nbconvert_exporter": "python",
   "pygments_lexer": "ipython3",
   "version": "3.10.18"
  }
 },
 "nbformat": 4,
 "nbformat_minor": 5
}
