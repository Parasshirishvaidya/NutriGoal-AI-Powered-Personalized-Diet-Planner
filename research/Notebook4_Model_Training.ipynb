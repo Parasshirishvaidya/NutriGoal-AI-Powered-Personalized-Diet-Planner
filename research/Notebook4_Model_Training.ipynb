{
 "cells": [
  {
   "cell_type": "markdown",
   "id": "d4589e17-5bbe-45cd-94fe-40fff2897376",
   "metadata": {},
   "source": [
    "# Model Training"
   ]
  },
  {
   "cell_type": "raw",
   "id": "efa450f4-7ce6-4fd3-85f1-aa0b6559c313",
   "metadata": {},
   "source": [
    "So,the problem we are facing currently is that our dataset currently does not have a target variable (y) to train the model.\n",
    "\n",
    "What should our target variable be ?? : - \n",
    "The 'match_score' column represents how well a food item aligns with a user's fitness goal\r",
    "(e.g., weight loss, muscle gain, maintenance, etc.), based on its macro composition. \n",
    "It is a simulated continuous value between 0 and ie probability 1, where higher values indicate a better match\n",
    "This column is used as the target variable (y) for training a regression mod\n",
    "The target variable is created using the following formula derived by an LLM model Chatgptel."
   ]
  },
  {
   "cell_type": "code",
   "execution_count": 317,
   "id": "b6869f18-6b8d-45e8-a252-239ff08f9777",
   "metadata": {},
   "outputs": [],
   "source": [
    "import numpy as np \n",
    "import pandas as pd"
   ]
  },
  {
   "cell_type": "code",
   "execution_count": 318,
   "id": "13a1881e-efe1-4b29-a595-8815f5018890",
   "metadata": {},
   "outputs": [],
   "source": [
    "df  = pd.read_csv(\"dataset2_preprocessing_done.csv\")"
   ]
  },
  {
   "cell_type": "code",
   "execution_count": 319,
   "id": "e9efd119-6eac-46f3-8e42-3f57021c3e39",
   "metadata": {},
   "outputs": [
    {
     "data": {
      "text/html": [
       "<div>\n",
       "<style scoped>\n",
       "    .dataframe tbody tr th:only-of-type {\n",
       "        vertical-align: middle;\n",
       "    }\n",
       "\n",
       "    .dataframe tbody tr th {\n",
       "        vertical-align: top;\n",
       "    }\n",
       "\n",
       "    .dataframe thead th {\n",
       "        text-align: right;\n",
       "    }\n",
       "</style>\n",
       "<table border=\"1\" class=\"dataframe\">\n",
       "  <thead>\n",
       "    <tr style=\"text-align: right;\">\n",
       "      <th></th>\n",
       "      <th>Unnamed: 0</th>\n",
       "      <th>Category</th>\n",
       "      <th>Description</th>\n",
       "      <th>carbs</th>\n",
       "      <th>protein</th>\n",
       "      <th>fat</th>\n",
       "      <th>fiber</th>\n",
       "      <th>calories</th>\n",
       "      <th>goal_tag</th>\n",
       "      <th>diet_type</th>\n",
       "    </tr>\n",
       "  </thead>\n",
       "  <tbody>\n",
       "    <tr>\n",
       "      <th>0</th>\n",
       "      <td>0</td>\n",
       "      <td>milk</td>\n",
       "      <td>milk, nfs</td>\n",
       "      <td>-0.803888</td>\n",
       "      <td>-0.708719</td>\n",
       "      <td>-0.802787</td>\n",
       "      <td>-0.756657</td>\n",
       "      <td>-1.161451</td>\n",
       "      <td>4</td>\n",
       "      <td>1</td>\n",
       "    </tr>\n",
       "    <tr>\n",
       "      <th>1</th>\n",
       "      <td>1</td>\n",
       "      <td>milk</td>\n",
       "      <td>milk, whole</td>\n",
       "      <td>-0.812894</td>\n",
       "      <td>-0.715474</td>\n",
       "      <td>-0.657086</td>\n",
       "      <td>-0.756657</td>\n",
       "      <td>-1.088393</td>\n",
       "      <td>4</td>\n",
       "      <td>1</td>\n",
       "    </tr>\n",
       "    <tr>\n",
       "      <th>2</th>\n",
       "      <td>2</td>\n",
       "      <td>milk</td>\n",
       "      <td>milk, low sodium, whole</td>\n",
       "      <td>-0.822350</td>\n",
       "      <td>-0.735738</td>\n",
       "      <td>-0.625779</td>\n",
       "      <td>-0.756657</td>\n",
       "      <td>-1.082608</td>\n",
       "      <td>4</td>\n",
       "      <td>1</td>\n",
       "    </tr>\n",
       "    <tr>\n",
       "      <th>3</th>\n",
       "      <td>3</td>\n",
       "      <td>milk</td>\n",
       "      <td>milk, calcium fortified, whole</td>\n",
       "      <td>-0.812894</td>\n",
       "      <td>-0.715474</td>\n",
       "      <td>-0.657086</td>\n",
       "      <td>-0.756657</td>\n",
       "      <td>-1.088393</td>\n",
       "      <td>4</td>\n",
       "      <td>1</td>\n",
       "    </tr>\n",
       "    <tr>\n",
       "      <th>4</th>\n",
       "      <td>4</td>\n",
       "      <td>milk</td>\n",
       "      <td>milk, calcium fortified, low fat (1%)</td>\n",
       "      <td>-0.789478</td>\n",
       "      <td>-0.704216</td>\n",
       "      <td>-0.928017</td>\n",
       "      <td>-0.756657</td>\n",
       "      <td>-1.220195</td>\n",
       "      <td>4</td>\n",
       "      <td>1</td>\n",
       "    </tr>\n",
       "  </tbody>\n",
       "</table>\n",
       "</div>"
      ],
      "text/plain": [
       "   Unnamed: 0 Category                            Description     carbs  \\\n",
       "0           0     milk                              milk, nfs -0.803888   \n",
       "1           1     milk                            milk, whole -0.812894   \n",
       "2           2     milk                milk, low sodium, whole -0.822350   \n",
       "3           3     milk         milk, calcium fortified, whole -0.812894   \n",
       "4           4     milk  milk, calcium fortified, low fat (1%) -0.789478   \n",
       "\n",
       "    protein       fat     fiber  calories  goal_tag  diet_type  \n",
       "0 -0.708719 -0.802787 -0.756657 -1.161451         4          1  \n",
       "1 -0.715474 -0.657086 -0.756657 -1.088393         4          1  \n",
       "2 -0.735738 -0.625779 -0.756657 -1.082608         4          1  \n",
       "3 -0.715474 -0.657086 -0.756657 -1.088393         4          1  \n",
       "4 -0.704216 -0.928017 -0.756657 -1.220195         4          1  "
      ]
     },
     "execution_count": 319,
     "metadata": {},
     "output_type": "execute_result"
    }
   ],
   "source": [
    "df.head()"
   ]
  },
  {
   "cell_type": "code",
   "execution_count": 320,
   "id": "fe4d5ba5-6379-468a-a561-1956bf828728",
   "metadata": {},
   "outputs": [],
   "source": [
    "df.drop(df.columns[0],inplace=True,axis=1)"
   ]
  },
  {
   "cell_type": "code",
   "execution_count": 321,
   "id": "6d1b8274-5131-4c6b-be83-9d9098da702e",
   "metadata": {},
   "outputs": [
    {
     "data": {
      "text/html": [
       "<div>\n",
       "<style scoped>\n",
       "    .dataframe tbody tr th:only-of-type {\n",
       "        vertical-align: middle;\n",
       "    }\n",
       "\n",
       "    .dataframe tbody tr th {\n",
       "        vertical-align: top;\n",
       "    }\n",
       "\n",
       "    .dataframe thead th {\n",
       "        text-align: right;\n",
       "    }\n",
       "</style>\n",
       "<table border=\"1\" class=\"dataframe\">\n",
       "  <thead>\n",
       "    <tr style=\"text-align: right;\">\n",
       "      <th></th>\n",
       "      <th>Category</th>\n",
       "      <th>Description</th>\n",
       "      <th>carbs</th>\n",
       "      <th>protein</th>\n",
       "      <th>fat</th>\n",
       "      <th>fiber</th>\n",
       "      <th>calories</th>\n",
       "      <th>goal_tag</th>\n",
       "      <th>diet_type</th>\n",
       "    </tr>\n",
       "  </thead>\n",
       "  <tbody>\n",
       "    <tr>\n",
       "      <th>0</th>\n",
       "      <td>milk</td>\n",
       "      <td>milk, nfs</td>\n",
       "      <td>-0.803888</td>\n",
       "      <td>-0.708719</td>\n",
       "      <td>-0.802787</td>\n",
       "      <td>-0.756657</td>\n",
       "      <td>-1.161451</td>\n",
       "      <td>4</td>\n",
       "      <td>1</td>\n",
       "    </tr>\n",
       "    <tr>\n",
       "      <th>1</th>\n",
       "      <td>milk</td>\n",
       "      <td>milk, whole</td>\n",
       "      <td>-0.812894</td>\n",
       "      <td>-0.715474</td>\n",
       "      <td>-0.657086</td>\n",
       "      <td>-0.756657</td>\n",
       "      <td>-1.088393</td>\n",
       "      <td>4</td>\n",
       "      <td>1</td>\n",
       "    </tr>\n",
       "    <tr>\n",
       "      <th>2</th>\n",
       "      <td>milk</td>\n",
       "      <td>milk, low sodium, whole</td>\n",
       "      <td>-0.822350</td>\n",
       "      <td>-0.735738</td>\n",
       "      <td>-0.625779</td>\n",
       "      <td>-0.756657</td>\n",
       "      <td>-1.082608</td>\n",
       "      <td>4</td>\n",
       "      <td>1</td>\n",
       "    </tr>\n",
       "    <tr>\n",
       "      <th>3</th>\n",
       "      <td>milk</td>\n",
       "      <td>milk, calcium fortified, whole</td>\n",
       "      <td>-0.812894</td>\n",
       "      <td>-0.715474</td>\n",
       "      <td>-0.657086</td>\n",
       "      <td>-0.756657</td>\n",
       "      <td>-1.088393</td>\n",
       "      <td>4</td>\n",
       "      <td>1</td>\n",
       "    </tr>\n",
       "    <tr>\n",
       "      <th>4</th>\n",
       "      <td>milk</td>\n",
       "      <td>milk, calcium fortified, low fat (1%)</td>\n",
       "      <td>-0.789478</td>\n",
       "      <td>-0.704216</td>\n",
       "      <td>-0.928017</td>\n",
       "      <td>-0.756657</td>\n",
       "      <td>-1.220195</td>\n",
       "      <td>4</td>\n",
       "      <td>1</td>\n",
       "    </tr>\n",
       "  </tbody>\n",
       "</table>\n",
       "</div>"
      ],
      "text/plain": [
       "  Category                            Description     carbs   protein  \\\n",
       "0     milk                              milk, nfs -0.803888 -0.708719   \n",
       "1     milk                            milk, whole -0.812894 -0.715474   \n",
       "2     milk                milk, low sodium, whole -0.822350 -0.735738   \n",
       "3     milk         milk, calcium fortified, whole -0.812894 -0.715474   \n",
       "4     milk  milk, calcium fortified, low fat (1%) -0.789478 -0.704216   \n",
       "\n",
       "        fat     fiber  calories  goal_tag  diet_type  \n",
       "0 -0.802787 -0.756657 -1.161451         4          1  \n",
       "1 -0.657086 -0.756657 -1.088393         4          1  \n",
       "2 -0.625779 -0.756657 -1.082608         4          1  \n",
       "3 -0.657086 -0.756657 -1.088393         4          1  \n",
       "4 -0.928017 -0.756657 -1.220195         4          1  "
      ]
     },
     "execution_count": 321,
     "metadata": {},
     "output_type": "execute_result"
    }
   ],
   "source": [
    "df.head()"
   ]
  },
  {
   "cell_type": "raw",
   "id": "a57bec50-2dd9-4ee8-a054-7836e21a7c80",
   "metadata": {},
   "source": [
    "# About the 'match_score' simulation:\n",
    "#\n",
    "# This formula is a **heuristically engineered scoring system** inspired by real-world sports nutrition and dietetic principles.\n",
    "# It estimates how well a food item aligns with a specific health goal based on its macro-nutrient profile.\n",
    "#\n",
    "# The formula design draws from:\n",
    "# 🔹 The **Dietary Guidelines for Americans (DGA)** by the USDA\n",
    "# 🔹 **ISSA** (International Sports Sciences Association) guidance for sports nutrition\n",
    "# 🔹 Clinical macro ranges suggested by **Registered Dietitians (RDs)** for different goals:\n",
    "#\n",
    "# For example:\n",
    "# - **Muscle gain** diets emphasize higher protein and carbohydrate intake, along with a calorie surplus.\n",
    "# - **Weight loss** diets typically aim for reduced calorie and fat intake while maintaining protein to preserve muscle mass.\n",
    "# - **Maintenance** diets aim for balance across macros.\n",
    "# - **High-protein diets** (like for lean muscle retention) prioritize protein while minimizing fats and excessive calories.\n",
    "#\n",
    "# The scoring formula assigns positive weights to beneficial macros (e.g., protein for muscle gain), and negative weights to less favorable ones (e.g., fat or excess calories for weight loss).\n",
    "# It is then normalized to a 0–1 scale using min-max clipping to be suitable as a target for regression models.\n",
    "#\n",
    "# ⚠️ Note:\n",
    "# This is not a medically validated score — it is a domain-inspired proxy used for training and demonstration in the absence of personalized feedback data.\n"
   ]
  },
  {
   "cell_type": "code",
   "execution_count": 322,
   "id": "332f88e4-c377-4f15-87bb-d692474eca37",
   "metadata": {},
   "outputs": [],
   "source": [
    "def simulate_match_score(row):\n",
    "    prot = row[\"protein\"]\n",
    "    fat = row[\"fat\"]\n",
    "    carbs = row[\"carbs\"]\n",
    "    cal = row[\"calories\"]\n",
    "    fiber = row[\"fiber\"]\n",
    "    goal = row[\"goal_tag\"]\n",
    "\n",
    "    if goal == 0:  # gain\n",
    "        score = 0.3 * prot + 0.3 * carbs + 0.3 * cal - 0.1 * fat\n",
    "    elif goal == 1:  # general\n",
    "        score = 0.25 * prot + 0.25 * carbs + 0.25 * cal - 0.25 * fat\n",
    "    elif goal == 2:  # lean_protein\n",
    "        score = 0.5 * prot - 0.2 * fat + 0.1 * fiber\n",
    "    elif goal == 3:  # maintenance\n",
    "        score = 0.3 * prot + 0.3 * carbs + 0.2 * fat + 0.2 * cal\n",
    "    elif goal == 4:  # weight_loss\n",
    "        score = 0.4 * prot - 0.3 * fat - 0.2 * cal + 0.1 * fiber\n",
    "    else:\n",
    "        score = 0.0\n",
    "\n",
    "    return np.clip((score + 1) / 2, 0, 1)  # Normalize between 0 and 1"
   ]
  },
  {
   "cell_type": "code",
   "execution_count": 323,
   "id": "32ab38c5-bcbf-4096-a212-8576b00baebb",
   "metadata": {},
   "outputs": [],
   "source": [
    "df[\"match_score\"] = df.apply(simulate_match_score, axis=1)"
   ]
  },
  {
   "cell_type": "code",
   "execution_count": 324,
   "id": "aaa2bf7a-f783-4b5b-ae6b-5c9ab048c2a9",
   "metadata": {},
   "outputs": [
    {
     "data": {
      "text/html": [
       "<div>\n",
       "<style scoped>\n",
       "    .dataframe tbody tr th:only-of-type {\n",
       "        vertical-align: middle;\n",
       "    }\n",
       "\n",
       "    .dataframe tbody tr th {\n",
       "        vertical-align: top;\n",
       "    }\n",
       "\n",
       "    .dataframe thead th {\n",
       "        text-align: right;\n",
       "    }\n",
       "</style>\n",
       "<table border=\"1\" class=\"dataframe\">\n",
       "  <thead>\n",
       "    <tr style=\"text-align: right;\">\n",
       "      <th></th>\n",
       "      <th>Category</th>\n",
       "      <th>Description</th>\n",
       "      <th>carbs</th>\n",
       "      <th>protein</th>\n",
       "      <th>fat</th>\n",
       "      <th>fiber</th>\n",
       "      <th>calories</th>\n",
       "      <th>goal_tag</th>\n",
       "      <th>diet_type</th>\n",
       "      <th>match_score</th>\n",
       "    </tr>\n",
       "  </thead>\n",
       "  <tbody>\n",
       "    <tr>\n",
       "      <th>0</th>\n",
       "      <td>milk</td>\n",
       "      <td>milk, nfs</td>\n",
       "      <td>-0.803888</td>\n",
       "      <td>-0.708719</td>\n",
       "      <td>-0.802787</td>\n",
       "      <td>-0.756657</td>\n",
       "      <td>-1.161451</td>\n",
       "      <td>4</td>\n",
       "      <td>1</td>\n",
       "      <td>0.556986</td>\n",
       "    </tr>\n",
       "    <tr>\n",
       "      <th>1</th>\n",
       "      <td>milk</td>\n",
       "      <td>milk, whole</td>\n",
       "      <td>-0.812894</td>\n",
       "      <td>-0.715474</td>\n",
       "      <td>-0.657086</td>\n",
       "      <td>-0.756657</td>\n",
       "      <td>-1.088393</td>\n",
       "      <td>4</td>\n",
       "      <td>1</td>\n",
       "      <td>0.526475</td>\n",
       "    </tr>\n",
       "    <tr>\n",
       "      <th>2</th>\n",
       "      <td>milk</td>\n",
       "      <td>milk, low sodium, whole</td>\n",
       "      <td>-0.822350</td>\n",
       "      <td>-0.735738</td>\n",
       "      <td>-0.625779</td>\n",
       "      <td>-0.756657</td>\n",
       "      <td>-1.082608</td>\n",
       "      <td>4</td>\n",
       "      <td>1</td>\n",
       "      <td>0.517147</td>\n",
       "    </tr>\n",
       "    <tr>\n",
       "      <th>3</th>\n",
       "      <td>milk</td>\n",
       "      <td>milk, calcium fortified, whole</td>\n",
       "      <td>-0.812894</td>\n",
       "      <td>-0.715474</td>\n",
       "      <td>-0.657086</td>\n",
       "      <td>-0.756657</td>\n",
       "      <td>-1.088393</td>\n",
       "      <td>4</td>\n",
       "      <td>1</td>\n",
       "      <td>0.526475</td>\n",
       "    </tr>\n",
       "    <tr>\n",
       "      <th>4</th>\n",
       "      <td>milk</td>\n",
       "      <td>milk, calcium fortified, low fat (1%)</td>\n",
       "      <td>-0.789478</td>\n",
       "      <td>-0.704216</td>\n",
       "      <td>-0.928017</td>\n",
       "      <td>-0.756657</td>\n",
       "      <td>-1.220195</td>\n",
       "      <td>4</td>\n",
       "      <td>1</td>\n",
       "      <td>0.582546</td>\n",
       "    </tr>\n",
       "  </tbody>\n",
       "</table>\n",
       "</div>"
      ],
      "text/plain": [
       "  Category                            Description     carbs   protein  \\\n",
       "0     milk                              milk, nfs -0.803888 -0.708719   \n",
       "1     milk                            milk, whole -0.812894 -0.715474   \n",
       "2     milk                milk, low sodium, whole -0.822350 -0.735738   \n",
       "3     milk         milk, calcium fortified, whole -0.812894 -0.715474   \n",
       "4     milk  milk, calcium fortified, low fat (1%) -0.789478 -0.704216   \n",
       "\n",
       "        fat     fiber  calories  goal_tag  diet_type  match_score  \n",
       "0 -0.802787 -0.756657 -1.161451         4          1     0.556986  \n",
       "1 -0.657086 -0.756657 -1.088393         4          1     0.526475  \n",
       "2 -0.625779 -0.756657 -1.082608         4          1     0.517147  \n",
       "3 -0.657086 -0.756657 -1.088393         4          1     0.526475  \n",
       "4 -0.928017 -0.756657 -1.220195         4          1     0.582546  "
      ]
     },
     "execution_count": 324,
     "metadata": {},
     "output_type": "execute_result"
    }
   ],
   "source": [
    "df.head()"
   ]
  },
  {
   "cell_type": "code",
   "execution_count": 325,
   "id": "89157b05-f3d4-4f21-810b-89ced1b327de",
   "metadata": {},
   "outputs": [],
   "source": [
    "df.to_csv(\"dataset3_Finalized_Dataset.csv\")"
   ]
  },
  {
   "cell_type": "markdown",
   "id": "ead333ac-4ddc-4488-8397-35797454b4ed",
   "metadata": {},
   "source": [
    "### Train Test Split"
   ]
  },
  {
   "cell_type": "code",
   "execution_count": 327,
   "id": "d7484838-a401-4212-9341-d334fa7b713f",
   "metadata": {},
   "outputs": [],
   "source": [
    "from sklearn.model_selection import train_test_split"
   ]
  },
  {
   "cell_type": "code",
   "execution_count": 328,
   "id": "b5655b2b-326d-4c7c-b6e1-58ee20b9f6a3",
   "metadata": {},
   "outputs": [],
   "source": [
    "X = df[[\"carbs\",\"protein\",\"fat\",\"fiber\",\"calories\",\"goal_tag\",\"diet_type\"]]\n",
    "y = df[\"match_score\"]"
   ]
  },
  {
   "cell_type": "code",
   "execution_count": 329,
   "id": "8a3da18d-8677-45f3-a162-2851cc1a69f5",
   "metadata": {},
   "outputs": [],
   "source": [
    "X_train,X_test,y_train,y_test = train_test_split(X,y,test_size=0.2,random_state=42)"
   ]
  },
  {
   "cell_type": "markdown",
   "id": "68175a4b-7428-4327-9b8e-0ff2c1e82565",
   "metadata": {},
   "source": [
    "### Model Training"
   ]
  },
  {
   "cell_type": "code",
   "execution_count": 331,
   "id": "9d183744-ab67-4198-a015-101d878d6553",
   "metadata": {},
   "outputs": [],
   "source": [
    "# importing models\n",
    "from sklearn.metrics import mean_squared_error,r2_score,mean_absolute_error\n",
    "from sklearn.neighbors import KNeighborsRegressor\n",
    "from sklearn.tree import DecisionTreeRegressor\n",
    "from sklearn.ensemble import RandomForestRegressor,AdaBoostRegressor\n",
    "from sklearn.svm import SVR\n",
    "from sklearn.linear_model import LinearRegression,Ridge,Lasso\n",
    "from catboost import CatBoostRegressor\n",
    "from xgboost import XGBRegressor\n",
    "import mlflow"
   ]
  },
  {
   "cell_type": "code",
   "execution_count": 332,
   "id": "31acf6e5-2665-47a1-bc07-f82f624d87bf",
   "metadata": {},
   "outputs": [],
   "source": [
    "model_list = []\n",
    "r2_list = []"
   ]
  },
  {
   "cell_type": "code",
   "execution_count": 333,
   "id": "d6be1323-66f9-4740-9242-a169a811dfcb",
   "metadata": {},
   "outputs": [],
   "source": [
    "models = {\n",
    "    'Linear Regression' : LinearRegression(),\n",
    "    'Lasso' : Lasso(),\n",
    "    'Ridge' : Ridge(),\n",
    "    'K-Neighbors Regressor' : KNeighborsRegressor(),\n",
    "    'Decision Tree' : DecisionTreeRegressor(),\n",
    "    'Random Forest Regressor' : RandomForestRegressor(),\n",
    "    'XGBRegressor' : XGBRegressor(),\n",
    "    'CatBoosting Regressor' : CatBoostRegressor(verbose=False),\n",
    "    'AdaBoost Regressor' : AdaBoostRegressor()\n",
    "}"
   ]
  },
  {
   "cell_type": "code",
   "execution_count": 334,
   "id": "15ffe8c9-2ee3-4058-b58e-7bfed3eba42d",
   "metadata": {},
   "outputs": [],
   "source": [
    "def evaluate_model(true,predicted):\n",
    "    mae = mean_absolute_error(true,predicted)\n",
    "    mse = mean_squared_error(true,predicted)\n",
    "    rmse = np.sqrt(mean_squared_error(true,predicted))\n",
    "    r2 = r2_score(true,predicted)\n",
    "    return mae , rmse , r2"
   ]
  },
  {
   "cell_type": "markdown",
   "id": "e798407c-1ff2-4e60-ab2d-f1b295c30670",
   "metadata": {},
   "source": [
    "### Tracking Models using mlflow"
   ]
  },
  {
   "cell_type": "code",
   "execution_count": null,
   "id": "66ea52c9-7bed-495c-8148-b7e33b109a04",
   "metadata": {},
   "outputs": [],
   "source": []
  },
  {
   "cell_type": "code",
   "execution_count": 336,
   "id": "e6039bd8-1383-4063-a07d-faf6f0646ab2",
   "metadata": {},
   "outputs": [
    {
     "name": "stderr",
     "output_type": "stream",
     "text": [
      "2025/07/11 17:24:00 WARNING mlflow.models.model: `artifact_path` is deprecated. Please use `name` instead.\n",
      "2025/07/11 17:24:05 WARNING mlflow.models.model: Model logged without a signature and input example. Please set `input_example` parameter when logging the model to auto infer the model signature.\n",
      "2025/07/11 17:24:05 WARNING mlflow.models.model: `artifact_path` is deprecated. Please use `name` instead.\n"
     ]
    },
    {
     "name": "stdout",
     "output_type": "stream",
     "text": [
      "Model Performance on training set for Linear Regression\n",
      "- Root MeanSquared Error: 0.0906\n",
      "- Mean Absolute Error: 0.0692\n",
      "- R2 Score: 0.7176\n",
      "\n",
      "\n",
      "Model Performance on test set for Linear Regression\n",
      "- Root MeanSquared Error: 0.1004\n",
      "- Mean Absolute Error: 0.0750\n",
      "- R2 Score: 0.6530\n",
      "----------------------------------------------------------------\n",
      "🏃 View run gentle-cow-107 at: http://127.0.0.1:5000/#/experiments/105883887422754184/runs/f7e0a5b8aacd41f98de0b86f37a9ec04\n",
      "🧪 View experiment at: http://127.0.0.1:5000/#/experiments/105883887422754184\n"
     ]
    },
    {
     "name": "stderr",
     "output_type": "stream",
     "text": [
      "2025/07/11 17:24:08 WARNING mlflow.models.model: Model logged without a signature and input example. Please set `input_example` parameter when logging the model to auto infer the model signature.\n",
      "2025/07/11 17:24:08 WARNING mlflow.models.model: `artifact_path` is deprecated. Please use `name` instead.\n"
     ]
    },
    {
     "name": "stdout",
     "output_type": "stream",
     "text": [
      "Model Performance on training set for Lasso\n",
      "- Root MeanSquared Error: 0.1705\n",
      "- Mean Absolute Error: 0.1326\n",
      "- R2 Score: 0.0000\n",
      "\n",
      "\n",
      "Model Performance on test set for Lasso\n",
      "- Root MeanSquared Error: 0.1704\n",
      "- Mean Absolute Error: 0.1329\n",
      "- R2 Score: -0.0000\n",
      "----------------------------------------------------------------\n",
      "🏃 View run clumsy-grub-237 at: http://127.0.0.1:5000/#/experiments/105883887422754184/runs/6148964d384b4d8d9c997c5fa47aff51\n",
      "🧪 View experiment at: http://127.0.0.1:5000/#/experiments/105883887422754184\n"
     ]
    },
    {
     "name": "stderr",
     "output_type": "stream",
     "text": [
      "2025/07/11 17:24:11 WARNING mlflow.models.model: Model logged without a signature and input example. Please set `input_example` parameter when logging the model to auto infer the model signature.\n",
      "2025/07/11 17:24:11 WARNING mlflow.models.model: `artifact_path` is deprecated. Please use `name` instead.\n"
     ]
    },
    {
     "name": "stdout",
     "output_type": "stream",
     "text": [
      "Model Performance on training set for Ridge\n",
      "- Root MeanSquared Error: 0.0906\n",
      "- Mean Absolute Error: 0.0692\n",
      "- R2 Score: 0.7176\n",
      "\n",
      "\n",
      "Model Performance on test set for Ridge\n",
      "- Root MeanSquared Error: 0.1004\n",
      "- Mean Absolute Error: 0.0750\n",
      "- R2 Score: 0.6530\n",
      "----------------------------------------------------------------\n",
      "🏃 View run adorable-gnat-752 at: http://127.0.0.1:5000/#/experiments/105883887422754184/runs/fb8b4a719eb947b6ab2608d1e342a2b0\n",
      "🧪 View experiment at: http://127.0.0.1:5000/#/experiments/105883887422754184\n"
     ]
    },
    {
     "name": "stderr",
     "output_type": "stream",
     "text": [
      "2025/07/11 17:24:14 WARNING mlflow.models.model: Model logged without a signature and input example. Please set `input_example` parameter when logging the model to auto infer the model signature.\n",
      "2025/07/11 17:24:14 WARNING mlflow.models.model: `artifact_path` is deprecated. Please use `name` instead.\n"
     ]
    },
    {
     "name": "stdout",
     "output_type": "stream",
     "text": [
      "Model Performance on training set for K-Neighbors Regressor\n",
      "- Root MeanSquared Error: 0.0220\n",
      "- Mean Absolute Error: 0.0118\n",
      "- R2 Score: 0.9833\n",
      "\n",
      "\n",
      "Model Performance on test set for K-Neighbors Regressor\n",
      "- Root MeanSquared Error: 0.0323\n",
      "- Mean Absolute Error: 0.0167\n",
      "- R2 Score: 0.9640\n",
      "----------------------------------------------------------------\n",
      "🏃 View run traveling-kit-215 at: http://127.0.0.1:5000/#/experiments/105883887422754184/runs/ebf32d11e7214afba45913f570580e6b\n",
      "🧪 View experiment at: http://127.0.0.1:5000/#/experiments/105883887422754184\n"
     ]
    },
    {
     "name": "stderr",
     "output_type": "stream",
     "text": [
      "2025/07/11 17:24:17 WARNING mlflow.models.model: Model logged without a signature and input example. Please set `input_example` parameter when logging the model to auto infer the model signature.\n"
     ]
    },
    {
     "name": "stdout",
     "output_type": "stream",
     "text": [
      "Model Performance on training set for Decision Tree\n",
      "- Root MeanSquared Error: 0.0000\n",
      "- Mean Absolute Error: 0.0000\n",
      "- R2 Score: 1.0000\n",
      "\n",
      "\n",
      "Model Performance on test set for Decision Tree\n",
      "- Root MeanSquared Error: 0.0256\n",
      "- Mean Absolute Error: 0.0124\n",
      "- R2 Score: 0.9774\n",
      "----------------------------------------------------------------\n",
      "🏃 View run painted-stoat-239 at: http://127.0.0.1:5000/#/experiments/105883887422754184/runs/f7f26759f4ac4b0b8e766425f5253919\n",
      "🧪 View experiment at: http://127.0.0.1:5000/#/experiments/105883887422754184\n"
     ]
    },
    {
     "name": "stderr",
     "output_type": "stream",
     "text": [
      "2025/07/11 17:24:18 WARNING mlflow.models.model: `artifact_path` is deprecated. Please use `name` instead.\n",
      "2025/07/11 17:24:21 WARNING mlflow.models.model: Model logged without a signature and input example. Please set `input_example` parameter when logging the model to auto infer the model signature.\n"
     ]
    },
    {
     "name": "stdout",
     "output_type": "stream",
     "text": [
      "Model Performance on training set for Random Forest Regressor\n",
      "- Root MeanSquared Error: 0.0068\n",
      "- Mean Absolute Error: 0.0035\n",
      "- R2 Score: 0.9984\n",
      "\n",
      "\n",
      "Model Performance on test set for Random Forest Regressor\n",
      "- Root MeanSquared Error: 0.0215\n",
      "- Mean Absolute Error: 0.0100\n",
      "- R2 Score: 0.9840\n",
      "----------------------------------------------------------------\n",
      "🏃 View run peaceful-foal-242 at: http://127.0.0.1:5000/#/experiments/105883887422754184/runs/b1572a4d49f749938adafc2e4e139a2b\n",
      "🧪 View experiment at: http://127.0.0.1:5000/#/experiments/105883887422754184\n"
     ]
    },
    {
     "name": "stderr",
     "output_type": "stream",
     "text": [
      "2025/07/11 17:24:22 WARNING mlflow.models.model: `artifact_path` is deprecated. Please use `name` instead.\n",
      "C:\\Data Science Learning\\Projects\\NutriGoal-AI-Powered-Personalized-Diet-Planner\\dietenv\\lib\\site-packages\\xgboost\\sklearn.py:1028: UserWarning: [17:24:22] WARNING: C:\\actions-runner\\_work\\xgboost\\xgboost\\src\\c_api\\c_api.cc:1427: Saving model in the UBJSON format as default.  You can use file extension: `json`, `ubj` or `deprecated` to choose between formats.\n",
      "  self.get_booster().save_model(fname)\n",
      "2025/07/11 17:24:27 WARNING mlflow.models.model: Model logged without a signature and input example. Please set `input_example` parameter when logging the model to auto infer the model signature.\n"
     ]
    },
    {
     "name": "stdout",
     "output_type": "stream",
     "text": [
      "Model Performance on training set for XGBRegressor\n",
      "- Root MeanSquared Error: 0.0025\n",
      "- Mean Absolute Error: 0.0017\n",
      "- R2 Score: 0.9998\n",
      "\n",
      "\n",
      "Model Performance on test set for XGBRegressor\n",
      "- Root MeanSquared Error: 0.0209\n",
      "- Mean Absolute Error: 0.0095\n",
      "- R2 Score: 0.9849\n",
      "----------------------------------------------------------------\n",
      "🏃 View run nervous-hare-785 at: http://127.0.0.1:5000/#/experiments/105883887422754184/runs/9bcec8a2446f4d7393672b566413e392\n",
      "🧪 View experiment at: http://127.0.0.1:5000/#/experiments/105883887422754184\n"
     ]
    },
    {
     "name": "stderr",
     "output_type": "stream",
     "text": [
      "2025/07/11 17:24:28 WARNING mlflow.models.model: `artifact_path` is deprecated. Please use `name` instead.\n",
      "2025/07/11 17:24:32 WARNING mlflow.models.model: Model logged without a signature and input example. Please set `input_example` parameter when logging the model to auto infer the model signature.\n"
     ]
    },
    {
     "name": "stdout",
     "output_type": "stream",
     "text": [
      "Model Performance on training set for CatBoosting Regressor\n",
      "- Root MeanSquared Error: 0.0041\n",
      "- Mean Absolute Error: 0.0030\n",
      "- R2 Score: 0.9994\n",
      "\n",
      "\n",
      "Model Performance on test set for CatBoosting Regressor\n",
      "- Root MeanSquared Error: 0.0138\n",
      "- Mean Absolute Error: 0.0060\n",
      "- R2 Score: 0.9935\n",
      "----------------------------------------------------------------\n",
      "🏃 View run powerful-lamb-747 at: http://127.0.0.1:5000/#/experiments/105883887422754184/runs/a10e177167804007bf4d5d40916e5f3a\n",
      "🧪 View experiment at: http://127.0.0.1:5000/#/experiments/105883887422754184\n"
     ]
    },
    {
     "name": "stderr",
     "output_type": "stream",
     "text": [
      "2025/07/11 17:24:32 WARNING mlflow.models.model: `artifact_path` is deprecated. Please use `name` instead.\n",
      "2025/07/11 17:24:35 WARNING mlflow.models.model: Model logged without a signature and input example. Please set `input_example` parameter when logging the model to auto infer the model signature.\n"
     ]
    },
    {
     "name": "stdout",
     "output_type": "stream",
     "text": [
      "Model Performance on training set for AdaBoost Regressor\n",
      "- Root MeanSquared Error: 0.0671\n",
      "- Mean Absolute Error: 0.0557\n",
      "- R2 Score: 0.8451\n",
      "\n",
      "\n",
      "Model Performance on test set for AdaBoost Regressor\n",
      "- Root MeanSquared Error: 0.0721\n",
      "- Mean Absolute Error: 0.0588\n",
      "- R2 Score: 0.8208\n",
      "----------------------------------------------------------------\n",
      "🏃 View run hilarious-gnat-730 at: http://127.0.0.1:5000/#/experiments/105883887422754184/runs/91f2e113f1364a5e84bcb087f42c420e\n",
      "🧪 View experiment at: http://127.0.0.1:5000/#/experiments/105883887422754184\n"
     ]
    }
   ],
   "source": [
    "mlflow.set_experiment(\"Diet_MatchScore_Regression_Models1.0\")\n",
    "mlflow.set_tracking_uri(\"http://127.0.0.1:5000/\")\n",
    "for model_name, model in models.items():\n",
    "    with mlflow.start_run():\n",
    "        # Train model\n",
    "        model.fit(X_train, y_train)\n",
    "\n",
    "        # Predict\n",
    "        y_train_pred = model.predict(X_train)\n",
    "        y_test_pred = model.predict(X_test)\n",
    "\n",
    "        # Evaluate\n",
    "        model_train_mae, model_train_rmse, model_train_r2 = evaluate_model(y_train, y_train_pred)\n",
    "        model_test_mae, model_test_rmse, model_test_r2 = evaluate_model(y_test, y_test_pred)\n",
    "\n",
    "        # Log metrics\n",
    "        mlflow.log_metrics({\n",
    "            \"train_mae\": model_train_mae,\n",
    "            \"train_rmse\": model_train_rmse,\n",
    "            \"train_r2\": model_train_r2,\n",
    "            \"test_mae\": model_test_mae,\n",
    "            \"test_rmse\": model_test_rmse,\n",
    "            \"test_r2\": model_test_r2\n",
    "        })\n",
    "\n",
    "        # Log model\n",
    "        if model_name == \"XGBRegressor\":\n",
    "            mlflow.xgboost.log_model(model,model_name)\n",
    "        elif model_name == \"CatBoosting Regressor\":\n",
    "            mlflow.catboost.log_model(model, model_name)\n",
    "        else:\n",
    "            mlflow.sklearn.log_model(model, model_name)\n",
    "\n",
    "        # Print results to console\n",
    "        print(f\"Model Performance on training set for {model_name}\")\n",
    "        print('- Root MeanSquared Error: {:.4f}'.format(model_train_rmse))\n",
    "        print('- Mean Absolute Error: {:.4f}'.format(model_train_mae))\n",
    "        print('- R2 Score: {:.4f}'.format(model_train_r2))\n",
    "        print(\"\\n\")\n",
    "        print(f\"Model Performance on test set for {model_name}\")\n",
    "        print('- Root MeanSquared Error: {:.4f}'.format(model_test_rmse))\n",
    "        print('- Mean Absolute Error: {:.4f}'.format(model_test_mae))\n",
    "        print('- R2 Score: {:.4f}'.format(model_test_r2))\n",
    "        print(\"----------------------------------------------------------------\")"
   ]
  },
  {
   "cell_type": "code",
   "execution_count": 337,
   "id": "6793156d-2df2-46e3-b87d-db411282f598",
   "metadata": {},
   "outputs": [],
   "source": [
    "# --------------------------------------------------------------\n",
    "# 🎯 Adding Controlled Noise to Simulated Match Scores\n",
    "# --------------------------------------------------------------\n",
    "# Why are we adding noise?\n",
    "# The 'match_score' column was calculated directly using a formula\n",
    "# based on nutritional values (protein, carbs, fat, calories, etc.).\n",
    "# Because of this, machine learning models are able to nearly\n",
    "# perfectly predict the score, which doesn't reflect real-world\n",
    "# uncertainty or variability in user preferences.\n",
    "\n",
    "# To improve the model's ability to generalize and mimic real-life\n",
    "# behavior, we inject a small amount of Gaussian noise to the\n",
    "# match_score, simulating human subjectivity and imperfect matching.\n",
    "# This makes the learning task more realistic and avoids overfitting.\n",
    "\n",
    "# Note: The original 'match_score' column remains untouched.\n",
    "# We create a new column 'match_score_noisy' and train the model on that.\n",
    "# --------------------------------------------------------------"
   ]
  },
  {
   "cell_type": "code",
   "execution_count": 338,
   "id": "359e9cdd-5778-4a38-b65b-85478b258763",
   "metadata": {},
   "outputs": [],
   "source": [
    "df[\"match_score_noisy\"] = df[\"match_score\"]+np.random.normal(0,0.02,size=len(df))\n",
    "df[\"match_score_noisy\"] = df[\"match_score_noisy\"].clip(0,1)"
   ]
  },
  {
   "cell_type": "code",
   "execution_count": 339,
   "id": "972b3081-6b31-4813-a000-81c84b015378",
   "metadata": {},
   "outputs": [],
   "source": [
    "# ------------------------------------------------------------------------------\n",
    "# 🎯 Simulating Human Inconsistency with Controlled Noise in `match_score`\n",
    "# ------------------------------------------------------------------------------\n",
    "# In real-world diet planning, humans don't always make food choices\n",
    "# strictly based on macros (calories, protein, carbs, fat). Other subtle\n",
    "# factors like taste, mood, culture, availability, and habits influence decisions.\n",
    "#\n",
    "# Our original `match_score` was calculated using a deterministic formula.\n",
    "# While mathematically correct, it's *too perfect* — models trained on it\n",
    "# would overfit and fail to generalize in real-world use.\n",
    "#\n",
    "# To simulate this human variability, we add small Gaussian noise\n",
    "# to the match score using:\n",
    "#     np.random.normal(loc=0, scale=0.02, size=len(df))\n",
    "#\n",
    "# This results in a new column `match_score_noisy` that introduces\n",
    "# subtle, randomized \"imperfections\" — reflecting how even similar\n",
    "# users might rate the same food differently based on real-life complexity.\n",
    "#\n",
    "# ✅ This helps improve model generalization and mimics human subjectivity.\n",
    "# ------------------------------------------------------------------------------"
   ]
  },
  {
   "cell_type": "code",
   "execution_count": 340,
   "id": "e211f7d5-a09e-4bfb-8605-4236e55e97de",
   "metadata": {},
   "outputs": [],
   "source": [
    "import matplotlib.pyplot as plt\n",
    "import seaborn as sns"
   ]
  },
  {
   "cell_type": "code",
   "execution_count": 341,
   "id": "10793442-ffcb-4cab-ac20-2f58f44d2c2c",
   "metadata": {},
   "outputs": [
    {
     "data": {
      "image/png": "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\n",
      "text/plain": [
       "<Figure size 1000x600 with 1 Axes>"
      ]
     },
     "metadata": {},
     "output_type": "display_data"
    }
   ],
   "source": [
    "plt.figure(figsize=(10,6))\n",
    "sns.kdeplot(df[\"match_score\"],label=\"Original Match Score\")\n",
    "sns.kdeplot(df[\"match_score_noisy\"],label=\"Noisy Match Score\",linestyle='--')\n",
    "\n",
    "plt.title(\"Distribution of Original vs Noisy Match Score\", fontsize=14)\n",
    "plt.xlabel(\"Match Scores\")\n",
    "plt.ylabel(\"Density\")\n",
    "plt.legend()\n",
    "plt.grid(True)\n",
    "plt.tight_layout()\n",
    "plt.show()"
   ]
  },
  {
   "cell_type": "code",
   "execution_count": 342,
   "id": "4c7203e2-3251-4e22-a41f-03ee908b897a",
   "metadata": {},
   "outputs": [],
   "source": [
    "X = df[[\"carbs\",\"protein\",\"fat\",\"fiber\",\"calories\",\"goal_tag\",\"diet_type\"]]\n",
    "y = df[\"match_score_noisy\"]"
   ]
  },
  {
   "cell_type": "code",
   "execution_count": 343,
   "id": "05dab8f7-05c7-4347-9a1a-880080cc6bd4",
   "metadata": {},
   "outputs": [],
   "source": [
    "X_train,X_test,y_train,y_test = train_test_split(X,y,test_size=0.2,random_state=42)"
   ]
  },
  {
   "cell_type": "code",
   "execution_count": 344,
   "id": "f786c4a7-4428-4486-8d35-c6dd438f0a0c",
   "metadata": {},
   "outputs": [
    {
     "name": "stderr",
     "output_type": "stream",
     "text": [
      "2025/07/11 17:24:36 WARNING mlflow.models.model: `artifact_path` is deprecated. Please use `name` instead.\n",
      "2025/07/11 17:24:39 WARNING mlflow.models.model: Model logged without a signature and input example. Please set `input_example` parameter when logging the model to auto infer the model signature.\n",
      "2025/07/11 17:24:39 WARNING mlflow.models.model: `artifact_path` is deprecated. Please use `name` instead.\n"
     ]
    },
    {
     "name": "stdout",
     "output_type": "stream",
     "text": [
      "Model Performance on training set for Linear Regression\n",
      "- Root MeanSquared Error: 0.0921\n",
      "- Mean Absolute Error: 0.0699\n",
      "- R2 Score: 0.7064\n",
      "\n",
      "\n",
      "Model Performance on test set for Linear Regression\n",
      "- Root MeanSquared Error: 0.1020\n",
      "- Mean Absolute Error: 0.0766\n",
      "- R2 Score: 0.6441\n",
      "----------------------------------------------------------------\n",
      "🏃 View run Linear Regression at: http://127.0.0.1:5000/#/experiments/799502646512637603/runs/d4f5b0065a614d42be246b8dbf975a50\n",
      "🧪 View experiment at: http://127.0.0.1:5000/#/experiments/799502646512637603\n"
     ]
    },
    {
     "name": "stderr",
     "output_type": "stream",
     "text": [
      "2025/07/11 17:24:42 WARNING mlflow.models.model: Model logged without a signature and input example. Please set `input_example` parameter when logging the model to auto infer the model signature.\n",
      "2025/07/11 17:24:42 WARNING mlflow.models.model: `artifact_path` is deprecated. Please use `name` instead.\n"
     ]
    },
    {
     "name": "stdout",
     "output_type": "stream",
     "text": [
      "Model Performance on training set for Lasso\n",
      "- Root MeanSquared Error: 0.1701\n",
      "- Mean Absolute Error: 0.1323\n",
      "- R2 Score: 0.0000\n",
      "\n",
      "\n",
      "Model Performance on test set for Lasso\n",
      "- Root MeanSquared Error: 0.1709\n",
      "- Mean Absolute Error: 0.1334\n",
      "- R2 Score: -0.0001\n",
      "----------------------------------------------------------------\n",
      "🏃 View run Lasso at: http://127.0.0.1:5000/#/experiments/799502646512637603/runs/0382a728f8ec41d2921eaa498c41fbee\n",
      "🧪 View experiment at: http://127.0.0.1:5000/#/experiments/799502646512637603\n"
     ]
    },
    {
     "name": "stderr",
     "output_type": "stream",
     "text": [
      "2025/07/11 17:24:45 WARNING mlflow.models.model: Model logged without a signature and input example. Please set `input_example` parameter when logging the model to auto infer the model signature.\n",
      "2025/07/11 17:24:45 WARNING mlflow.models.model: `artifact_path` is deprecated. Please use `name` instead.\n"
     ]
    },
    {
     "name": "stdout",
     "output_type": "stream",
     "text": [
      "Model Performance on training set for Ridge\n",
      "- Root MeanSquared Error: 0.0921\n",
      "- Mean Absolute Error: 0.0699\n",
      "- R2 Score: 0.7064\n",
      "\n",
      "\n",
      "Model Performance on test set for Ridge\n",
      "- Root MeanSquared Error: 0.1020\n",
      "- Mean Absolute Error: 0.0766\n",
      "- R2 Score: 0.6441\n",
      "----------------------------------------------------------------\n",
      "🏃 View run Ridge at: http://127.0.0.1:5000/#/experiments/799502646512637603/runs/b29da981b9b648248998031f43ac539c\n",
      "🧪 View experiment at: http://127.0.0.1:5000/#/experiments/799502646512637603\n"
     ]
    },
    {
     "name": "stderr",
     "output_type": "stream",
     "text": [
      "2025/07/11 17:24:48 WARNING mlflow.models.model: Model logged without a signature and input example. Please set `input_example` parameter when logging the model to auto infer the model signature.\n",
      "2025/07/11 17:24:49 WARNING mlflow.models.model: `artifact_path` is deprecated. Please use `name` instead.\n"
     ]
    },
    {
     "name": "stdout",
     "output_type": "stream",
     "text": [
      "Model Performance on training set for K-Neighbors Regressor\n",
      "- Root MeanSquared Error: 0.0279\n",
      "- Mean Absolute Error: 0.0194\n",
      "- R2 Score: 0.9731\n",
      "\n",
      "\n",
      "Model Performance on test set for K-Neighbors Regressor\n",
      "- Root MeanSquared Error: 0.0395\n",
      "- Mean Absolute Error: 0.0266\n",
      "- R2 Score: 0.9466\n",
      "----------------------------------------------------------------\n",
      "🏃 View run K-Neighbors Regressor at: http://127.0.0.1:5000/#/experiments/799502646512637603/runs/c05e464dd85143d392bbeda628c2b9dc\n",
      "🧪 View experiment at: http://127.0.0.1:5000/#/experiments/799502646512637603\n"
     ]
    },
    {
     "name": "stderr",
     "output_type": "stream",
     "text": [
      "2025/07/11 17:24:51 WARNING mlflow.models.model: Model logged without a signature and input example. Please set `input_example` parameter when logging the model to auto infer the model signature.\n"
     ]
    },
    {
     "name": "stdout",
     "output_type": "stream",
     "text": [
      "Model Performance on training set for Decision Tree\n",
      "- Root MeanSquared Error: 0.0083\n",
      "- Mean Absolute Error: 0.0037\n",
      "- R2 Score: 0.9976\n",
      "\n",
      "\n",
      "Model Performance on test set for Decision Tree\n",
      "- Root MeanSquared Error: 0.0408\n",
      "- Mean Absolute Error: 0.0277\n",
      "- R2 Score: 0.9429\n",
      "----------------------------------------------------------------\n",
      "🏃 View run Decision Tree at: http://127.0.0.1:5000/#/experiments/799502646512637603/runs/3b942d64e9d647f093a6d9d7a06faf4a\n",
      "🧪 View experiment at: http://127.0.0.1:5000/#/experiments/799502646512637603\n"
     ]
    },
    {
     "name": "stderr",
     "output_type": "stream",
     "text": [
      "2025/07/11 17:24:53 WARNING mlflow.models.model: `artifact_path` is deprecated. Please use `name` instead.\n",
      "2025/07/11 17:24:55 WARNING mlflow.models.model: Model logged without a signature and input example. Please set `input_example` parameter when logging the model to auto infer the model signature.\n"
     ]
    },
    {
     "name": "stdout",
     "output_type": "stream",
     "text": [
      "Model Performance on training set for Random Forest Regressor\n",
      "- Root MeanSquared Error: 0.0126\n",
      "- Mean Absolute Error: 0.0094\n",
      "- R2 Score: 0.9945\n",
      "\n",
      "\n",
      "Model Performance on test set for Random Forest Regressor\n",
      "- Root MeanSquared Error: 0.0318\n",
      "- Mean Absolute Error: 0.0224\n",
      "- R2 Score: 0.9653\n",
      "----------------------------------------------------------------\n",
      "🏃 View run Random Forest Regressor at: http://127.0.0.1:5000/#/experiments/799502646512637603/runs/fd6c0f4b2f42467c8e66e0bc4c0d6136\n",
      "🧪 View experiment at: http://127.0.0.1:5000/#/experiments/799502646512637603\n"
     ]
    },
    {
     "name": "stderr",
     "output_type": "stream",
     "text": [
      "2025/07/11 17:24:56 WARNING mlflow.models.model: `artifact_path` is deprecated. Please use `name` instead.\n",
      "C:\\Data Science Learning\\Projects\\NutriGoal-AI-Powered-Personalized-Diet-Planner\\dietenv\\lib\\site-packages\\xgboost\\sklearn.py:1028: UserWarning: [17:24:56] WARNING: C:\\actions-runner\\_work\\xgboost\\xgboost\\src\\c_api\\c_api.cc:1427: Saving model in the UBJSON format as default.  You can use file extension: `json`, `ubj` or `deprecated` to choose between formats.\n",
      "  self.get_booster().save_model(fname)\n",
      "2025/07/11 17:25:00 WARNING mlflow.models.model: Model logged without a signature and input example. Please set `input_example` parameter when logging the model to auto infer the model signature.\n"
     ]
    },
    {
     "name": "stdout",
     "output_type": "stream",
     "text": [
      "Model Performance on training set for XGBRegressor\n",
      "- Root MeanSquared Error: 0.0110\n",
      "- Mean Absolute Error: 0.0080\n",
      "- R2 Score: 0.9958\n",
      "\n",
      "\n",
      "Model Performance on test set for XGBRegressor\n",
      "- Root MeanSquared Error: 0.0316\n",
      "- Mean Absolute Error: 0.0227\n",
      "- R2 Score: 0.9658\n",
      "----------------------------------------------------------------\n",
      "🏃 View run XGBRegressor at: http://127.0.0.1:5000/#/experiments/799502646512637603/runs/1421438791c54b85b4f8f24373d78b86\n",
      "🧪 View experiment at: http://127.0.0.1:5000/#/experiments/799502646512637603\n"
     ]
    },
    {
     "name": "stderr",
     "output_type": "stream",
     "text": [
      "2025/07/11 17:25:01 WARNING mlflow.models.model: `artifact_path` is deprecated. Please use `name` instead.\n",
      "2025/07/11 17:25:04 WARNING mlflow.models.model: Model logged without a signature and input example. Please set `input_example` parameter when logging the model to auto infer the model signature.\n"
     ]
    },
    {
     "name": "stdout",
     "output_type": "stream",
     "text": [
      "Model Performance on training set for CatBoosting Regressor\n",
      "- Root MeanSquared Error: 0.0158\n",
      "- Mean Absolute Error: 0.0125\n",
      "- R2 Score: 0.9913\n",
      "\n",
      "\n",
      "Model Performance on test set for CatBoosting Regressor\n",
      "- Root MeanSquared Error: 0.0266\n",
      "- Mean Absolute Error: 0.0200\n",
      "- R2 Score: 0.9757\n",
      "----------------------------------------------------------------\n",
      "🏃 View run CatBoosting Regressor at: http://127.0.0.1:5000/#/experiments/799502646512637603/runs/fdf7027485b64fc393bdbfdd50a1f5fb\n",
      "🧪 View experiment at: http://127.0.0.1:5000/#/experiments/799502646512637603\n"
     ]
    },
    {
     "name": "stderr",
     "output_type": "stream",
     "text": [
      "2025/07/11 17:25:04 WARNING mlflow.models.model: `artifact_path` is deprecated. Please use `name` instead.\n",
      "2025/07/11 17:25:07 WARNING mlflow.models.model: Model logged without a signature and input example. Please set `input_example` parameter when logging the model to auto infer the model signature.\n"
     ]
    },
    {
     "name": "stdout",
     "output_type": "stream",
     "text": [
      "Model Performance on training set for AdaBoost Regressor\n",
      "- Root MeanSquared Error: 0.0620\n",
      "- Mean Absolute Error: 0.0505\n",
      "- R2 Score: 0.8671\n",
      "\n",
      "\n",
      "Model Performance on test set for AdaBoost Regressor\n",
      "- Root MeanSquared Error: 0.0693\n",
      "- Mean Absolute Error: 0.0568\n",
      "- R2 Score: 0.8358\n",
      "----------------------------------------------------------------\n",
      "🏃 View run AdaBoost Regressor at: http://127.0.0.1:5000/#/experiments/799502646512637603/runs/dee3fc7b1cd145b38cd8f87ce883ae30\n",
      "🧪 View experiment at: http://127.0.0.1:5000/#/experiments/799502646512637603\n"
     ]
    }
   ],
   "source": [
    "mlflow.set_experiment(\"Noizy Data 1.0\")\n",
    "mlflow.set_tracking_uri(\"http://127.0.0.1:5000/\")\n",
    "for model_name, model in models.items():\n",
    "    with mlflow.start_run(run_name=model_name):\n",
    "        # Train model\n",
    "        model.fit(X_train, y_train)\n",
    "\n",
    "        # Predict\n",
    "        y_train_pred = model.predict(X_train)\n",
    "        y_test_pred = model.predict(X_test)\n",
    "\n",
    "        # Evaluate\n",
    "        model_train_mae, model_train_rmse, model_train_r2 = evaluate_model(y_train, y_train_pred)\n",
    "        model_test_mae, model_test_rmse, model_test_r2 = evaluate_model(y_test, y_test_pred)\n",
    "\n",
    "        # Log metrics\n",
    "        mlflow.log_metrics({\n",
    "            \"train_mae\": model_train_mae,\n",
    "            \"train_rmse\": model_train_rmse,\n",
    "            \"train_r2\": model_train_r2,\n",
    "            \"test_mae\": model_test_mae,\n",
    "            \"test_rmse\": model_test_rmse,\n",
    "            \"test_r2\": model_test_r2\n",
    "        })\n",
    "\n",
    "        # Log model\n",
    "        if model_name == \"XGBRegressor\":\n",
    "            mlflow.xgboost.log_model(model,model_name)\n",
    "        elif model_name == \"CatBoosting Regressor\":\n",
    "            mlflow.catboost.log_model(model, model_name)\n",
    "        else:\n",
    "            mlflow.sklearn.log_model(model, model_name)\n",
    "\n",
    "        # Print results to console\n",
    "        print(f\"Model Performance on training set for {model_name}\")\n",
    "        print('- Root MeanSquared Error: {:.4f}'.format(model_train_rmse))\n",
    "        print('- Mean Absolute Error: {:.4f}'.format(model_train_mae))\n",
    "        print('- R2 Score: {:.4f}'.format(model_train_r2))\n",
    "        print(\"\\n\")\n",
    "        print(f\"Model Performance on test set for {model_name}\")\n",
    "        print('- Root MeanSquared Error: {:.4f}'.format(model_test_rmse))\n",
    "        print('- Mean Absolute Error: {:.4f}'.format(model_test_mae))\n",
    "        print('- R2 Score: {:.4f}'.format(model_test_r2))\n",
    "        print(\"----------------------------------------------------------------\")"
   ]
  },
  {
   "cell_type": "markdown",
   "id": "9d8a4958-8c0d-46da-982b-ed69dc77eaf7",
   "metadata": {},
   "source": [
    "### Hyperparameter tuning"
   ]
  },
  {
   "cell_type": "markdown",
   "id": "1422dd77-11d4-4a3d-a764-c853ecb4b085",
   "metadata": {},
   "source": [
    "For hyper parameter tuning we are only considering models which gave close to optimal performance like catboost and Random Forest"
   ]
  },
  {
   "cell_type": "code",
   "execution_count": 347,
   "id": "c66e676b-81f1-403c-aa20-499737ac9d54",
   "metadata": {},
   "outputs": [],
   "source": [
    "from sklearn.model_selection import GridSearchCV"
   ]
  },
  {
   "cell_type": "code",
   "execution_count": 348,
   "id": "2ec8d223-e0fe-4868-8728-85a461013fbb",
   "metadata": {},
   "outputs": [],
   "source": [
    "models = {\n",
    "    \"KNeighborsRegressor\" : KNeighborsRegressor(),\n",
    "    \"XGBRegressor\" : XGBRegressor(),\n",
    "    \"RandomForestRegressor\" : RandomForestRegressor(),\n",
    "    \"CatBoostRegressor\" : CatBoostRegressor()\n",
    "}"
   ]
  },
  {
   "cell_type": "code",
   "execution_count": 349,
   "id": "959f9cf7-5327-4d95-a497-610012eef3dc",
   "metadata": {},
   "outputs": [],
   "source": [
    "param_grid = {\n",
    "    \"KNeighborsRegressor\" : {\n",
    "        \"n_neighbors\":[2,5,10],\n",
    "        \"weights\":['uniform','distance']\n",
    "    },\n",
    "    \"XGBRegressor\" : {\n",
    "        \"loss\":[\"squared_error\",\"absolute_error\"],\n",
    "        \"learning_rate\":[0.01,0.05,0.1,0.2],\n",
    "        \"n_estimators\":[10,20,50,100]\n",
    "    },\n",
    "    \"RandomForestRegressor\" : {\n",
    "        \"n_estimators\":[10,50,100,200], \n",
    "        \"max_depth\": [1,5,10,20,None],\n",
    "        \"criterion\":[\"squared_error\", \"absolute_error\"]\n",
    "    },\n",
    "    \"CatBoostRegressor\" : {\n",
    "        \"iterations\":[10,20,100,200],\n",
    "        \"learning_rate\":[0.01,0.05,0.1]\n",
    "    }\n",
    " }"
   ]
  },
  {
   "cell_type": "code",
   "execution_count": 350,
   "id": "5e87679d-52ed-4464-8691-6019fd04d428",
   "metadata": {},
   "outputs": [
    {
     "name": "stdout",
     "output_type": "stream",
     "text": [
      "Requirement already satisfied: joblib in c:\\data science learning\\projects\\nutrigoal-ai-powered-personalized-diet-planner\\dietenv\\lib\\site-packages (1.5.1)\n",
      "Note: you may need to restart the kernel to use updated packages.\n"
     ]
    }
   ],
   "source": [
    "pip install joblib"
   ]
  },
  {
   "cell_type": "code",
   "execution_count": 351,
   "id": "826b8cd5-75dd-4007-b04a-50c45a5b3273",
   "metadata": {},
   "outputs": [],
   "source": [
    "import joblib"
   ]
  },
  {
   "cell_type": "code",
   "execution_count": 352,
   "id": "163cfee9-1520-430b-b992-0c20faca26b6",
   "metadata": {},
   "outputs": [
    {
     "name": "stderr",
     "output_type": "stream",
     "text": [
      "2025/07/11 17:25:18 WARNING mlflow.models.model: `artifact_path` is deprecated. Please use `name` instead.\n",
      "2025/07/11 17:25:22 WARNING mlflow.models.model: Model logged without a signature and input example. Please set `input_example` parameter when logging the model to auto infer the model signature.\n"
     ]
    },
    {
     "name": "stdout",
     "output_type": "stream",
     "text": [
      "Model Performance on training set for KNeighborsRegressor\n",
      "- Root MeanSquared Error: 0.0084\n",
      "- Mean Absolute Error: 0.0037\n",
      "- R2 Score: 0.9976\n",
      "\n",
      "\n",
      "Model Performance on test set for KNeighborsRegressor\n",
      "- Root MeanSquared Error: 0.0378\n",
      "- Mean Absolute Error: 0.0256\n",
      "- R2 Score: 0.9511\n",
      "\n",
      "\n",
      "Best Parameters {'n_neighbors': 5, 'weights': 'distance'}\n",
      "----------------------------------------------------------------\n",
      "🏃 View run KNeighborsRegressor at: http://127.0.0.1:5000/#/experiments/649973813408310596/runs/959f01ed0cc148728421450d82063349\n",
      "🧪 View experiment at: http://127.0.0.1:5000/#/experiments/649973813408310596\n"
     ]
    },
    {
     "name": "stderr",
     "output_type": "stream",
     "text": [
      "C:\\Data Science Learning\\Projects\\NutriGoal-AI-Powered-Personalized-Diet-Planner\\dietenv\\lib\\site-packages\\sklearn\\model_selection\\_validation.py:516: FitFailedWarning: \n",
      "5 fits failed out of a total of 160.\n",
      "The score on these train-test partitions for these parameters will be set to nan.\n",
      "If these failures are not expected, you can try to debug them by setting error_score='raise'.\n",
      "\n",
      "Below are more details about the failures:\n",
      "--------------------------------------------------------------------------------\n",
      "2 fits failed with the following error:\n",
      "Traceback (most recent call last):\n",
      "  File \"C:\\Data Science Learning\\Projects\\NutriGoal-AI-Powered-Personalized-Diet-Planner\\dietenv\\lib\\site-packages\\sklearn\\model_selection\\_validation.py\", line 859, in _fit_and_score\n",
      "    estimator.fit(X_train, y_train, **fit_params)\n",
      "  File \"C:\\Data Science Learning\\Projects\\NutriGoal-AI-Powered-Personalized-Diet-Planner\\dietenv\\lib\\site-packages\\xgboost\\core.py\", line 729, in inner_f\n",
      "    return func(**kwargs)\n",
      "  File \"C:\\Data Science Learning\\Projects\\NutriGoal-AI-Powered-Personalized-Diet-Planner\\dietenv\\lib\\site-packages\\xgboost\\sklearn.py\", line 1222, in fit\n",
      "    train_dmatrix, evals = _wrap_evaluation_matrices(\n",
      "  File \"C:\\Data Science Learning\\Projects\\NutriGoal-AI-Powered-Personalized-Diet-Planner\\dietenv\\lib\\site-packages\\xgboost\\sklearn.py\", line 628, in _wrap_evaluation_matrices\n",
      "    train_dmatrix = create_dmatrix(\n",
      "  File \"C:\\Data Science Learning\\Projects\\NutriGoal-AI-Powered-Personalized-Diet-Planner\\dietenv\\lib\\site-packages\\xgboost\\sklearn.py\", line 1137, in _create_dmatrix\n",
      "    return QuantileDMatrix(\n",
      "  File \"C:\\Data Science Learning\\Projects\\NutriGoal-AI-Powered-Personalized-Diet-Planner\\dietenv\\lib\\site-packages\\xgboost\\core.py\", line 729, in inner_f\n",
      "    return func(**kwargs)\n",
      "  File \"C:\\Data Science Learning\\Projects\\NutriGoal-AI-Powered-Personalized-Diet-Planner\\dietenv\\lib\\site-packages\\xgboost\\core.py\", line 1614, in __init__\n",
      "    self._init(\n",
      "  File \"C:\\Data Science Learning\\Projects\\NutriGoal-AI-Powered-Personalized-Diet-Planner\\dietenv\\lib\\site-packages\\xgboost\\core.py\", line 1678, in _init\n",
      "    it.reraise()\n",
      "  File \"C:\\Data Science Learning\\Projects\\NutriGoal-AI-Powered-Personalized-Diet-Planner\\dietenv\\lib\\site-packages\\xgboost\\core.py\", line 572, in reraise\n",
      "    raise exc  # pylint: disable=raising-bad-type\n",
      "  File \"C:\\Data Science Learning\\Projects\\NutriGoal-AI-Powered-Personalized-Diet-Planner\\dietenv\\lib\\site-packages\\xgboost\\core.py\", line 553, in _handle_exception\n",
      "    return fn()\n",
      "  File \"C:\\Data Science Learning\\Projects\\NutriGoal-AI-Powered-Personalized-Diet-Planner\\dietenv\\lib\\site-packages\\xgboost\\core.py\", line 640, in <lambda>\n",
      "    return self._handle_exception(lambda: int(self.next(input_data)), 0)\n",
      "  File \"C:\\Data Science Learning\\Projects\\NutriGoal-AI-Powered-Personalized-Diet-Planner\\dietenv\\lib\\site-packages\\xgboost\\data.py\", line 1654, in next\n",
      "    input_data(**self.kwargs)\n",
      "  File \"C:\\Data Science Learning\\Projects\\NutriGoal-AI-Powered-Personalized-Diet-Planner\\dietenv\\lib\\site-packages\\xgboost\\core.py\", line 729, in inner_f\n",
      "    return func(**kwargs)\n",
      "  File \"C:\\Data Science Learning\\Projects\\NutriGoal-AI-Powered-Personalized-Diet-Planner\\dietenv\\lib\\site-packages\\xgboost\\core.py\", line 629, in input_data\n",
      "    self.proxy.set_info(\n",
      "  File \"C:\\Data Science Learning\\Projects\\NutriGoal-AI-Powered-Personalized-Diet-Planner\\dietenv\\lib\\site-packages\\xgboost\\core.py\", line 729, in inner_f\n",
      "    return func(**kwargs)\n",
      "  File \"C:\\Data Science Learning\\Projects\\NutriGoal-AI-Powered-Personalized-Diet-Planner\\dietenv\\lib\\site-packages\\xgboost\\core.py\", line 961, in set_info\n",
      "    self.set_label(label)\n",
      "  File \"C:\\Data Science Learning\\Projects\\NutriGoal-AI-Powered-Personalized-Diet-Planner\\dietenv\\lib\\site-packages\\xgboost\\core.py\", line 1099, in set_label\n",
      "    dispatch_meta_backend(self, label, \"label\", \"float\")\n",
      "  File \"C:\\Data Science Learning\\Projects\\NutriGoal-AI-Powered-Personalized-Diet-Planner\\dietenv\\lib\\site-packages\\xgboost\\data.py\", line 1603, in dispatch_meta_backend\n",
      "    _meta_from_pandas_series(data, name, dtype, handle)\n",
      "  File \"C:\\Data Science Learning\\Projects\\NutriGoal-AI-Powered-Personalized-Diet-Planner\\dietenv\\lib\\site-packages\\xgboost\\data.py\", line 713, in _meta_from_pandas_series\n",
      "    _meta_from_numpy(data, name, dtype, handle)\n",
      "  File \"C:\\Data Science Learning\\Projects\\NutriGoal-AI-Powered-Personalized-Diet-Planner\\dietenv\\lib\\site-packages\\xgboost\\data.py\", line 1533, in _meta_from_numpy\n",
      "    _check_call(_LIB.XGDMatrixSetInfoFromInterface(handle, c_str(field), interface_str))\n",
      "  File \"C:\\Data Science Learning\\Projects\\NutriGoal-AI-Powered-Personalized-Diet-Planner\\dietenv\\lib\\site-packages\\xgboost\\core.py\", line 310, in _check_call\n",
      "    raise XGBoostError(py_str(_LIB.XGBGetLastError()))\n",
      "xgboost.core.XGBoostError: [17:25:24] C:\\actions-runner\\_work\\xgboost\\xgboost\\src\\data\\array_interface.cu:44: Check failed: err == cudaGetLastError() (0 vs. 46) : \n",
      "\n",
      "--------------------------------------------------------------------------------\n",
      "3 fits failed with the following error:\n",
      "Traceback (most recent call last):\n",
      "  File \"C:\\Data Science Learning\\Projects\\NutriGoal-AI-Powered-Personalized-Diet-Planner\\dietenv\\lib\\site-packages\\sklearn\\model_selection\\_validation.py\", line 859, in _fit_and_score\n",
      "    estimator.fit(X_train, y_train, **fit_params)\n",
      "  File \"C:\\Data Science Learning\\Projects\\NutriGoal-AI-Powered-Personalized-Diet-Planner\\dietenv\\lib\\site-packages\\xgboost\\core.py\", line 729, in inner_f\n",
      "    return func(**kwargs)\n",
      "  File \"C:\\Data Science Learning\\Projects\\NutriGoal-AI-Powered-Personalized-Diet-Planner\\dietenv\\lib\\site-packages\\xgboost\\sklearn.py\", line 1222, in fit\n",
      "    train_dmatrix, evals = _wrap_evaluation_matrices(\n",
      "  File \"C:\\Data Science Learning\\Projects\\NutriGoal-AI-Powered-Personalized-Diet-Planner\\dietenv\\lib\\site-packages\\xgboost\\sklearn.py\", line 628, in _wrap_evaluation_matrices\n",
      "    train_dmatrix = create_dmatrix(\n",
      "  File \"C:\\Data Science Learning\\Projects\\NutriGoal-AI-Powered-Personalized-Diet-Planner\\dietenv\\lib\\site-packages\\xgboost\\sklearn.py\", line 1137, in _create_dmatrix\n",
      "    return QuantileDMatrix(\n",
      "  File \"C:\\Data Science Learning\\Projects\\NutriGoal-AI-Powered-Personalized-Diet-Planner\\dietenv\\lib\\site-packages\\xgboost\\core.py\", line 729, in inner_f\n",
      "    return func(**kwargs)\n",
      "  File \"C:\\Data Science Learning\\Projects\\NutriGoal-AI-Powered-Personalized-Diet-Planner\\dietenv\\lib\\site-packages\\xgboost\\core.py\", line 1614, in __init__\n",
      "    self._init(\n",
      "  File \"C:\\Data Science Learning\\Projects\\NutriGoal-AI-Powered-Personalized-Diet-Planner\\dietenv\\lib\\site-packages\\xgboost\\core.py\", line 1678, in _init\n",
      "    it.reraise()\n",
      "  File \"C:\\Data Science Learning\\Projects\\NutriGoal-AI-Powered-Personalized-Diet-Planner\\dietenv\\lib\\site-packages\\xgboost\\core.py\", line 572, in reraise\n",
      "    raise exc  # pylint: disable=raising-bad-type\n",
      "  File \"C:\\Data Science Learning\\Projects\\NutriGoal-AI-Powered-Personalized-Diet-Planner\\dietenv\\lib\\site-packages\\xgboost\\core.py\", line 553, in _handle_exception\n",
      "    return fn()\n",
      "  File \"C:\\Data Science Learning\\Projects\\NutriGoal-AI-Powered-Personalized-Diet-Planner\\dietenv\\lib\\site-packages\\xgboost\\core.py\", line 640, in <lambda>\n",
      "    return self._handle_exception(lambda: int(self.next(input_data)), 0)\n",
      "  File \"C:\\Data Science Learning\\Projects\\NutriGoal-AI-Powered-Personalized-Diet-Planner\\dietenv\\lib\\site-packages\\xgboost\\data.py\", line 1654, in next\n",
      "    input_data(**self.kwargs)\n",
      "  File \"C:\\Data Science Learning\\Projects\\NutriGoal-AI-Powered-Personalized-Diet-Planner\\dietenv\\lib\\site-packages\\xgboost\\core.py\", line 729, in inner_f\n",
      "    return func(**kwargs)\n",
      "  File \"C:\\Data Science Learning\\Projects\\NutriGoal-AI-Powered-Personalized-Diet-Planner\\dietenv\\lib\\site-packages\\xgboost\\core.py\", line 629, in input_data\n",
      "    self.proxy.set_info(\n",
      "  File \"C:\\Data Science Learning\\Projects\\NutriGoal-AI-Powered-Personalized-Diet-Planner\\dietenv\\lib\\site-packages\\xgboost\\core.py\", line 729, in inner_f\n",
      "    return func(**kwargs)\n",
      "  File \"C:\\Data Science Learning\\Projects\\NutriGoal-AI-Powered-Personalized-Diet-Planner\\dietenv\\lib\\site-packages\\xgboost\\core.py\", line 961, in set_info\n",
      "    self.set_label(label)\n",
      "  File \"C:\\Data Science Learning\\Projects\\NutriGoal-AI-Powered-Personalized-Diet-Planner\\dietenv\\lib\\site-packages\\xgboost\\core.py\", line 1099, in set_label\n",
      "    dispatch_meta_backend(self, label, \"label\", \"float\")\n",
      "  File \"C:\\Data Science Learning\\Projects\\NutriGoal-AI-Powered-Personalized-Diet-Planner\\dietenv\\lib\\site-packages\\xgboost\\data.py\", line 1603, in dispatch_meta_backend\n",
      "    _meta_from_pandas_series(data, name, dtype, handle)\n",
      "  File \"C:\\Data Science Learning\\Projects\\NutriGoal-AI-Powered-Personalized-Diet-Planner\\dietenv\\lib\\site-packages\\xgboost\\data.py\", line 713, in _meta_from_pandas_series\n",
      "    _meta_from_numpy(data, name, dtype, handle)\n",
      "  File \"C:\\Data Science Learning\\Projects\\NutriGoal-AI-Powered-Personalized-Diet-Planner\\dietenv\\lib\\site-packages\\xgboost\\data.py\", line 1533, in _meta_from_numpy\n",
      "    _check_call(_LIB.XGDMatrixSetInfoFromInterface(handle, c_str(field), interface_str))\n",
      "  File \"C:\\Data Science Learning\\Projects\\NutriGoal-AI-Powered-Personalized-Diet-Planner\\dietenv\\lib\\site-packages\\xgboost\\core.py\", line 310, in _check_call\n",
      "    raise XGBoostError(py_str(_LIB.XGBGetLastError()))\n",
      "xgboost.core.XGBoostError: [17:25:25] C:\\actions-runner\\_work\\xgboost\\xgboost\\src\\data\\array_interface.cu:44: Check failed: err == cudaGetLastError() (0 vs. 46) : \n",
      "\n",
      "  warnings.warn(some_fits_failed_message, FitFailedWarning)\n",
      "C:\\Data Science Learning\\Projects\\NutriGoal-AI-Powered-Personalized-Diet-Planner\\dietenv\\lib\\site-packages\\sklearn\\model_selection\\_search.py:1135: UserWarning: One or more of the test scores are non-finite: [       nan        nan 0.56507473 0.79059118 0.15883158 0.29040519\n",
      " 0.56507473 0.79059118 0.57178131 0.79568131 0.94899441 0.96957841\n",
      " 0.57178131 0.79568131 0.94899441 0.96957841 0.80145338 0.93097684\n",
      " 0.96901443 0.97133445 0.80145338 0.93097684 0.96901443 0.97133445\n",
      " 0.93524217 0.96619874 0.97043158 0.97045737 0.93524217 0.96619874\n",
      " 0.97043158 0.97045737]\n",
      "  warnings.warn(\n",
      "C:\\Data Science Learning\\Projects\\NutriGoal-AI-Powered-Personalized-Diet-Planner\\dietenv\\lib\\site-packages\\xgboost\\training.py:183: UserWarning: [17:25:27] WARNING: C:\\actions-runner\\_work\\xgboost\\xgboost\\src\\learner.cc:738: \n",
      "Parameters: { \"loss\" } are not used.\n",
      "\n",
      "  bst.update(dtrain, iteration=i, fobj=obj)\n",
      "2025/07/11 17:25:28 WARNING mlflow.models.model: `artifact_path` is deprecated. Please use `name` instead.\n",
      "C:\\Data Science Learning\\Projects\\NutriGoal-AI-Powered-Personalized-Diet-Planner\\dietenv\\lib\\site-packages\\xgboost\\sklearn.py:1028: UserWarning: [17:25:28] WARNING: C:\\actions-runner\\_work\\xgboost\\xgboost\\src\\c_api\\c_api.cc:1427: Saving model in the UBJSON format as default.  You can use file extension: `json`, `ubj` or `deprecated` to choose between formats.\n",
      "  self.get_booster().save_model(fname)\n",
      "2025/07/11 17:25:33 WARNING mlflow.models.model: Model logged without a signature and input example. Please set `input_example` parameter when logging the model to auto infer the model signature.\n"
     ]
    },
    {
     "name": "stdout",
     "output_type": "stream",
     "text": [
      "Model Performance on training set for XGBRegressor\n",
      "- Root MeanSquared Error: 0.0155\n",
      "- Mean Absolute Error: 0.0121\n",
      "- R2 Score: 0.9916\n",
      "\n",
      "\n",
      "Model Performance on test set for XGBRegressor\n",
      "- Root MeanSquared Error: 0.0300\n",
      "- Mean Absolute Error: 0.0215\n",
      "- R2 Score: 0.9691\n",
      "\n",
      "\n",
      "Best Parameters {'learning_rate': 0.1, 'loss': 'squared_error', 'n_estimators': 100}\n",
      "----------------------------------------------------------------\n",
      "🏃 View run XGBRegressor at: http://127.0.0.1:5000/#/experiments/649973813408310596/runs/a86b124863f341a287039f017599a9fb\n",
      "🧪 View experiment at: http://127.0.0.1:5000/#/experiments/649973813408310596\n"
     ]
    },
    {
     "name": "stderr",
     "output_type": "stream",
     "text": [
      "2025/07/11 17:27:04 WARNING mlflow.models.model: `artifact_path` is deprecated. Please use `name` instead.\n",
      "2025/07/11 17:27:09 WARNING mlflow.models.model: Model logged without a signature and input example. Please set `input_example` parameter when logging the model to auto infer the model signature.\n"
     ]
    },
    {
     "name": "stdout",
     "output_type": "stream",
     "text": [
      "Model Performance on training set for RandomForestRegressor\n",
      "- Root MeanSquared Error: 0.0124\n",
      "- Mean Absolute Error: 0.0093\n",
      "- R2 Score: 0.9946\n",
      "\n",
      "\n",
      "Model Performance on test set for RandomForestRegressor\n",
      "- Root MeanSquared Error: 0.0318\n",
      "- Mean Absolute Error: 0.0224\n",
      "- R2 Score: 0.9655\n",
      "\n",
      "\n",
      "Best Parameters {'criterion': 'squared_error', 'max_depth': None, 'n_estimators': 200}\n",
      "----------------------------------------------------------------\n",
      "🏃 View run RandomForestRegressor at: http://127.0.0.1:5000/#/experiments/649973813408310596/runs/77aba6b5032d4c43bd7fba7da0ca4cc8\n",
      "🧪 View experiment at: http://127.0.0.1:5000/#/experiments/649973813408310596\n",
      "0:\tlearn: 0.1593200\ttotal: 2.12ms\tremaining: 421ms\n",
      "1:\tlearn: 0.1504781\ttotal: 4.28ms\tremaining: 424ms\n",
      "2:\tlearn: 0.1410454\ttotal: 5.39ms\tremaining: 354ms\n",
      "3:\tlearn: 0.1316733\ttotal: 6.67ms\tremaining: 327ms\n",
      "4:\tlearn: 0.1234224\ttotal: 7.77ms\tremaining: 303ms\n",
      "5:\tlearn: 0.1162045\ttotal: 8.83ms\tremaining: 285ms\n",
      "6:\tlearn: 0.1096670\ttotal: 9.97ms\tremaining: 275ms\n",
      "7:\tlearn: 0.1026871\ttotal: 11.1ms\tremaining: 266ms\n",
      "8:\tlearn: 0.0971378\ttotal: 12.2ms\tremaining: 259ms\n",
      "9:\tlearn: 0.0918372\ttotal: 13.5ms\tremaining: 256ms\n",
      "10:\tlearn: 0.0879028\ttotal: 14.8ms\tremaining: 254ms\n",
      "11:\tlearn: 0.0834722\ttotal: 16.1ms\tremaining: 252ms\n",
      "12:\tlearn: 0.0793235\ttotal: 17.5ms\tremaining: 252ms\n",
      "13:\tlearn: 0.0754567\ttotal: 18.8ms\tremaining: 250ms\n",
      "14:\tlearn: 0.0717739\ttotal: 20.1ms\tremaining: 248ms\n",
      "15:\tlearn: 0.0692658\ttotal: 21.4ms\tremaining: 246ms\n",
      "16:\tlearn: 0.0666190\ttotal: 22.9ms\tremaining: 246ms\n",
      "17:\tlearn: 0.0639526\ttotal: 24.1ms\tremaining: 244ms\n",
      "18:\tlearn: 0.0615609\ttotal: 25.4ms\tremaining: 242ms\n",
      "19:\tlearn: 0.0591745\ttotal: 26.7ms\tremaining: 240ms\n",
      "20:\tlearn: 0.0571906\ttotal: 27.9ms\tremaining: 238ms\n",
      "21:\tlearn: 0.0554640\ttotal: 29.3ms\tremaining: 237ms\n",
      "22:\tlearn: 0.0538912\ttotal: 30.6ms\tremaining: 235ms\n",
      "23:\tlearn: 0.0520538\ttotal: 31.9ms\tremaining: 234ms\n",
      "24:\tlearn: 0.0505960\ttotal: 33.2ms\tremaining: 232ms\n",
      "25:\tlearn: 0.0492913\ttotal: 34.5ms\tremaining: 231ms\n",
      "26:\tlearn: 0.0480330\ttotal: 35.8ms\tremaining: 229ms\n",
      "27:\tlearn: 0.0466598\ttotal: 37.1ms\tremaining: 228ms\n",
      "28:\tlearn: 0.0456967\ttotal: 38.4ms\tremaining: 226ms\n",
      "29:\tlearn: 0.0447600\ttotal: 39.6ms\tremaining: 225ms\n",
      "30:\tlearn: 0.0440256\ttotal: 40.9ms\tremaining: 223ms\n",
      "31:\tlearn: 0.0431221\ttotal: 42.2ms\tremaining: 222ms\n",
      "32:\tlearn: 0.0421475\ttotal: 43.5ms\tremaining: 220ms\n",
      "33:\tlearn: 0.0414003\ttotal: 44.8ms\tremaining: 219ms\n",
      "34:\tlearn: 0.0405910\ttotal: 46ms\tremaining: 217ms\n",
      "35:\tlearn: 0.0400674\ttotal: 47.4ms\tremaining: 216ms\n",
      "36:\tlearn: 0.0394398\ttotal: 48.7ms\tremaining: 214ms\n",
      "37:\tlearn: 0.0388940\ttotal: 50ms\tremaining: 213ms\n",
      "38:\tlearn: 0.0380344\ttotal: 51.3ms\tremaining: 212ms\n",
      "39:\tlearn: 0.0375280\ttotal: 52.6ms\tremaining: 210ms\n",
      "40:\tlearn: 0.0369998\ttotal: 53.8ms\tremaining: 209ms\n",
      "41:\tlearn: 0.0364600\ttotal: 55.1ms\tremaining: 207ms\n",
      "42:\tlearn: 0.0360074\ttotal: 56.4ms\tremaining: 206ms\n",
      "43:\tlearn: 0.0356425\ttotal: 57.7ms\tremaining: 205ms\n",
      "44:\tlearn: 0.0352410\ttotal: 59.1ms\tremaining: 203ms\n",
      "45:\tlearn: 0.0348794\ttotal: 60.3ms\tremaining: 202ms\n",
      "46:\tlearn: 0.0345902\ttotal: 61.6ms\tremaining: 201ms\n",
      "47:\tlearn: 0.0340764\ttotal: 62.9ms\tremaining: 199ms\n",
      "48:\tlearn: 0.0335581\ttotal: 64.2ms\tremaining: 198ms\n",
      "49:\tlearn: 0.0331796\ttotal: 65.5ms\tremaining: 196ms\n",
      "50:\tlearn: 0.0328300\ttotal: 66.7ms\tremaining: 195ms\n",
      "51:\tlearn: 0.0326080\ttotal: 68ms\tremaining: 194ms\n",
      "52:\tlearn: 0.0323654\ttotal: 69.3ms\tremaining: 192ms\n",
      "53:\tlearn: 0.0320829\ttotal: 70.8ms\tremaining: 191ms\n",
      "54:\tlearn: 0.0318890\ttotal: 72.1ms\tremaining: 190ms\n",
      "55:\tlearn: 0.0315749\ttotal: 73.4ms\tremaining: 189ms\n",
      "56:\tlearn: 0.0312720\ttotal: 74.7ms\tremaining: 188ms\n",
      "57:\tlearn: 0.0310355\ttotal: 76ms\tremaining: 186ms\n",
      "58:\tlearn: 0.0307922\ttotal: 77.3ms\tremaining: 185ms\n",
      "59:\tlearn: 0.0305863\ttotal: 78.6ms\tremaining: 183ms\n",
      "60:\tlearn: 0.0303497\ttotal: 79.9ms\tremaining: 182ms\n",
      "61:\tlearn: 0.0301647\ttotal: 81.2ms\tremaining: 181ms\n",
      "62:\tlearn: 0.0299988\ttotal: 82.4ms\tremaining: 179ms\n",
      "63:\tlearn: 0.0298080\ttotal: 83.6ms\tremaining: 178ms\n",
      "64:\tlearn: 0.0294562\ttotal: 84.9ms\tremaining: 176ms\n",
      "65:\tlearn: 0.0292993\ttotal: 86.2ms\tremaining: 175ms\n",
      "66:\tlearn: 0.0291358\ttotal: 87.5ms\tremaining: 174ms\n",
      "67:\tlearn: 0.0289011\ttotal: 88.8ms\tremaining: 172ms\n",
      "68:\tlearn: 0.0287773\ttotal: 90.2ms\tremaining: 171ms\n",
      "69:\tlearn: 0.0286516\ttotal: 91.4ms\tremaining: 170ms\n",
      "70:\tlearn: 0.0284922\ttotal: 92.7ms\tremaining: 168ms\n",
      "71:\tlearn: 0.0283686\ttotal: 94ms\tremaining: 167ms\n",
      "72:\tlearn: 0.0281536\ttotal: 95.3ms\tremaining: 166ms\n",
      "73:\tlearn: 0.0279915\ttotal: 96.5ms\tremaining: 164ms\n",
      "74:\tlearn: 0.0277706\ttotal: 97.8ms\tremaining: 163ms\n",
      "75:\tlearn: 0.0276851\ttotal: 99.1ms\tremaining: 162ms\n",
      "76:\tlearn: 0.0275628\ttotal: 100ms\tremaining: 160ms\n",
      "77:\tlearn: 0.0272698\ttotal: 102ms\tremaining: 159ms\n",
      "78:\tlearn: 0.0271990\ttotal: 103ms\tremaining: 158ms\n",
      "79:\tlearn: 0.0271134\ttotal: 104ms\tremaining: 156ms\n",
      "80:\tlearn: 0.0269607\ttotal: 105ms\tremaining: 155ms\n",
      "81:\tlearn: 0.0268684\ttotal: 107ms\tremaining: 154ms\n",
      "82:\tlearn: 0.0267814\ttotal: 108ms\tremaining: 152ms\n",
      "83:\tlearn: 0.0267047\ttotal: 109